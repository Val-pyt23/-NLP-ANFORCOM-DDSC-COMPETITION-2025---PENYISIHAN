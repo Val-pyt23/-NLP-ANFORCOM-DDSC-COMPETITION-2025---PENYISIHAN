{
 "cells": [
  {
   "cell_type": "code",
   "execution_count": 76,
   "id": "4833db2a",
   "metadata": {},
   "outputs": [],
   "source": [
    "import re\n",
    "import string\n",
    "import emoji\n",
    "import numpy as np\n",
    "import pandas as pd\n",
    "from sklearn.model_selection import train_test_split\n",
    "from sklearn.metrics import balanced_accuracy_score\n",
    "from sklearn.feature_extraction.text import TfidfVectorizer\n",
    "from sklearn.linear_model import LogisticRegression\n",
    "\n",
    "import torch\n",
    "from torch import nn\n",
    "from transformers import (\n",
    "    AutoTokenizer,\n",
    "    AutoModelForSequenceClassification,\n",
    "    Trainer,\n",
    "    TrainingArguments,\n",
    ")\n",
    "from sklearn.preprocessing import LabelEncoder\n",
    "from datasets import Dataset\n",
    "from sklearn.preprocessing import LabelEncoder"
   ]
  },
  {
   "cell_type": "code",
   "execution_count": 77,
   "id": "58677d82",
   "metadata": {},
   "outputs": [],
   "source": [
    "data_train = pd.read_csv(r\"E:\\Lomba\\ANFORCOM DDSC COMPETITION 2025 - PENYISIHAN\\penyisihan-ddsc25\\train.csv\")\n",
    "data_test = pd.read_csv(r\"E:\\Lomba\\ANFORCOM DDSC COMPETITION 2025 - PENYISIHAN\\penyisihan-ddsc25\\test.csv\")\n",
    "sample_sub = pd.read_csv(r\"E:\\Lomba\\ANFORCOM DDSC COMPETITION 2025 - PENYISIHAN\\penyisihan-ddsc25\\sample_submission.csv\")"
   ]
  },
  {
   "cell_type": "code",
   "execution_count": 78,
   "id": "572ad80b",
   "metadata": {},
   "outputs": [
    {
     "data": {
      "application/vnd.microsoft.datawrangler.viewer.v0+json": {
       "columns": [
        {
         "name": "index",
         "rawType": "int64",
         "type": "integer"
        },
        {
         "name": "text",
         "rawType": "object",
         "type": "string"
        },
        {
         "name": "label",
         "rawType": "object",
         "type": "string"
        }
       ],
       "ref": "932be267-4006-49aa-909d-6accaeaf1721",
       "rows": [
        [
         "0",
         "@hyalfay @NatharElyas @BosPurwa @NatharElyas @BosPurwa Prabowo menang di 2024 karena strategi cerdas: media sosial ubah imej jadi gemoy buat anak muda aliansi sama Gibran anak Jokowi iklan digital besar dan nyambung budaya gotong royong . Dapet 58 58% sua",
         "ideologi"
        ],
        [
         "1",
         "@sienchao @Sherly0ctaviany @jokowi Halo @Sienchao @Sherly0ctaviany mungkin terus mengangkat isu negatif Jokowi karena aktivisme politik atau ketidakpuasan dengan kepemimpinannya fokus pada korupsi dan kemunduran demokrasi. Kontennya mirip dengan akun lain",
         "ideologi"
        ],
        [
         "2",
         "@giovannikurnwn @BudiBukanIntel Nama Budi BerlarI mungkin mencerminkan sikap kritis @BudiBukanIntel terhadap pemerintah khususnya RUU KUHAP dan RUU POLRI yang kontroversial. Kedua RUU ini dikritik karena bisa memperluas kuasa polisi dan mengancam kebebasa",
         "ideologi"
        ],
        [
         "3",
         "@LeotardosMy @easyanying Kita akui keberhasilannya kita akui juga kekurangan. Gue gak terlalu peduli para pengkritik Jokowi atau pemerintah saat ini. Dalam demokrasi pro-kontra itu hal biasa bagi gue. Makanya gue juga jarang bahas soal mereka. Fokus kita ",
         "ideologi"
        ],
        [
         "4",
         "@LuckyGaben @susipudjiastuti @prabowo Indonesia masih bisa menuju kesuksesan tapi RUU TNI dan dwifungsi bikin khawatir. Upaya lawan judi online positif tapi perluasan peran militer di pemerintahan dan aktivis yang diam bisa jadi tanda mundur demokrasi. Pe",
         "ideologi"
        ],
        [
         "5",
         "Kalo gua bukan buzzer. Dukungan kita terhadap capres-cawapres hanya sebatas pada saat pesta demokrasi itu dimulai. Terlepas dari itu jika sudah selesai. Maka dukungan juga selesai. Biarkan yang menang bekerja dlm jabatannya selama 5 th. Jadi ya gak terlalu aktif bahas politik..",
         "ideologi"
        ],
        [
         "6",
         "@zarryhendrik Maaf saya tidak bisa menjelaskan dalam bahasa Minahasa karena kurangnya sumber daya terjemahan online untuk bahasa seperti Tondano. Dalam bahasa Indonesia: Kolaborasi mendukung demokrasi dengan memungkinkan partisipasi warga dalam pengambila",
         "ideologi"
        ],
        [
         "7",
         "@PekPekok @kompascom Berita tentang putusan Mahkamah Konstitusi bahwa kerusuhan digital di media sosial bukan tindak pidana menurut UU ITE tampaknya baik bagi masyarakat. Putusan ini melindungi kebebasan berpendapat memungkinkan warga Indonesia berekspres",
         "ideologi"
        ],
        [
         "8",
         "@virdianaurellio Mantap KK buzzer2 sok keras di twitter juga sepertinya perlu diajak debat online adu gagasan seperti ini biar rakyat bisa menilai serta nisa tahu Akun2 buzzer itu manusianya seperti apa bentuknya dan wawasannya sejauh mana ttg NKRI dan de",
         "ideologi"
        ],
        [
         "9",
         "@Rahwana060810 Di Jerman: Kampus punya portal verifikasi online. Di AS: Presiden publikasi transkrip nilai. Di Indonesia? 'Udah percaya saja' + hina yang bertanya. Kita mau pake standar mana? *Demokrasi bukan sekadar 'percaya partai' tapi hak publik memas",
         "ideologi"
        ],
        [
         "10",
         "@BosPurwa Akhirnya! MK menegaskan bahwa dinamika kritik dan opini di media sosial bukan kerusuhan yang bisa dipidana pakai UU ITE. Ini kemenangan kecil untuk kebebasan berekspresi di ruang digital. Demokrasi memang kadang gaduh tapi justru di situlah nafa",
         "ideologi"
        ],
        [
         "11",
         "@zrs28_ Jika pemilih cerdas Anies Baswedan kemungkinan menang pilpres 2024 dengan platform reformasinya. Namun Prabowo Subianto menang dengan 59% suara lanjutkan kebijakan Jokowi meski ada kontroversi pelanggaran HAM. Ganjar Pranowo dapat 16% fokus keseja",
         "ideologi"
        ],
        [
         "12",
         "@sukangawoorrrr @narkosun Situasi politik dan ekonomi Indonesia tahun 2025 dilihat positif dunia. Politik stabil di bawah Prabowo demokrasi kuat meski ada isu pengawasan. Ekonomi tumbuh 5 1% terbesar di ASEAN didukung konsumsi dan investasi. Isu judi onli",
         "ideologi"
        ],
        [
         "13",
         "@OposisiCerdas Buktinya apa (cacat etik)? Kecuali presiden perintahkan kapolri dan kejagung usut akun fufufafa tsb! Indonesi negara berdsrkan Pancasila tdk kompromi dgn siapapun presiden/wapres rekam jejak digital medsos narasi2 kotor biadab utk diproses ",
         "ideologi"
        ],
        [
         "14",
         "Harga harga stabil apanya yang gelap ohjya hati dan pikiran kaliann yang gelap masih bisa online dan bebas berkata apapun berati demokrasi masih sehat",
         "ideologi"
        ],
        [
         "15",
         "@radjathaher ya sebenernya mereka masi ada senjata lain kalo warga internet dah ga percaya . senjata mereka warga2 desa/kampung makanya dl budget kampanye nya gede jd bisa ngasi bansos warga2 yg ga kejangkau internet dan jumlahnya banyaak. dan bakal nurut",
         "ideologi"
        ],
        [
         "16",
         "@rudi_alexander @yusuf_dumdum @DedynurPalakka Kalau gue ikut pemilu 2024 kayaknya gue bakal pilih Anies Baswedan. Dia punya rekam jejak kuat di inovasi digital dan e-governance plus komitmen ke hak asasi manusia. Prabowo punya ide kota inovasi tapi kontro",
         "ideologi"
        ],
        [
         "17",
         "@ardianTaka @Homo_sapiens21 @logos_id @ardianTaka @Homo_sapiens21 @logos_id Tenang belum ada bukti X akan dilarang di Indonesia gara-gara bahas tambang ilegal atau korupsi. Fokus pemerintah sekarang ke perlindungan anak dan e-commerce bukan konten seperti",
         "ideologi"
        ],
        [
         "18",
         "@HariPandowo @mikuroQ Harapan untuk menyelamatkan Indonesia ada pada reformasi ekonomi dan program sosial Prabowo seperti pertumbuhan 8% dan makan gratis untuk 82 juta orang. Pelatihan digital untuk 9 juta pemuda bisa turunkan pengangguran sementara langk",
         "pertahanan"
        ],
        [
         "19",
         "@Reinn_shere UU TNI yang sudah direvisi Maret 2025 punya manfaat tapi juga risiko. Positifnya memperkuat keamanan nasional seperti pertahanan siber dan perlindungan WNI di luar negeri misalnya di Taiwan. Ini sejalan dengan visi Indonesia Emas 2045. Namun ",
         "pertahanan"
        ],
        [
         "20",
         "@jondhez @kring_pajak @DitjenPajakRI bukti lainnya bahwa keamanan siber kita gak ada aman2nya sama sekali bahkan setelah tuh Parjo mulai masuk ke ranah siber",
         "pertahanan"
        ],
        [
         "21",
         "@zupp4zup Masalah publik lain di administrasi publik adalah kebutuhan akan langkah keamanan siber yang kuat untuk melindungi data pemerintah dari ancaman siber seperti pelanggaran data dan ransomware. Ini melibatkan lembaga publik profesional keamanan sib",
         "pertahanan"
        ],
        [
         "22",
         "@LahrianSyahilla Masyarakat berharap kepemimpinan ini tidak hanya menjadi simbolis tetapi juga menghasilkan langkah nyata seperti pengembangan energi terbarukan investasi pada infrastruktur hijau dan percepatan inovasi teknologi energi bersih.",
         "pertahanan"
        ],
        [
         "23",
         "@ValNOFX86 Teknologi energi fusi berpotensi sangat bermanfaat dalam 30-50 tahun ke depan menawarkan sumber energi bersih dan melimpah yang bisa mengatasi perubahan iklim. Diperkirakan pada 2055-2075 fusi bisa jadi layak secara komersial menghasilkan daya ",
         "pertahanan"
        ],
        [
         "24",
         "@LahrianSyahilla Di tengah kebutuhan akan energi bersih dan efisiensi penggunaan teknologi canggih seperti AI menunjukkan bahwa Indonesia siap beradaptasi dengan perkembangan zaman.",
         "pertahanan"
        ],
        [
         "25",
         "@alphomega_ Program kerja 2025 fokus pada pertumbuhan ekonomi lewat infrastruktur transformasi digital dukungan UMKM dan energi hijau. Meski ada efisiensi anggaran (contoh: potong dana PUPR jadi Rp 76T) pemerintah tetap dorong program seperti makan gratis",
         "pertahanan"
        ],
        [
         "26",
         "@LahrianSyahilla Langkah ini menunjukkan komitmen Pertamina terhadap transisi energi bersih dan pemanfaatan teknologi modern demi efisiensi serta keberlanjutan lingkungan.",
         "pertahanan"
        ],
        [
         "27",
         "@Dafyasyah1 @UstadzWaloni emangnya yg punya minyak bumi cuma arab. skr jg sdh banyak negara yg jg penghasil minyak bumi. bahkan dunia bergeser ke teknologi energi bersih.",
         "pertahanan"
        ],
        [
         "28",
         "Dengan kerja sama energi Indonesia bisa dapet alih teknologi buat produksi energi bersih #KunjunganTimtengTurkiyePrabowo",
         "pertahanan"
        ],
        [
         "29",
         "Wes to... Rasah fafifu masalah energi... Mau bersih dan murah ya nuklir Mau kotor dan murah ya batubara Sisanya ya mahal... Kecuali udah bisa bedah teknologi UFO...",
         "pertahanan"
        ],
        [
         "30",
         "@EkoPurwanto001 @V3g3L Halo Bang Stepen! Carbon trading itu sistem jual-beli kredit karbon untuk kurangi emisi gas rumah kaca. Manfaatnya buat masa depan umat manusia: - Kurangi pemanasan global lewat batas emisi. - Dorong inovasi teknologi bersih seperti",
         "pertahanan"
        ],
        [
         "31",
         "Mantap! Pembentukan Satgas Transisi Energi dan Ekonomi Hijau dalam kerangka JETP menunjukkan komitmen pemerintah yang makin konkret. Tantangannya sekarang ada di implementasi: apakah transisinya benar-benar mengarah ke energi bersih bukan sekadar penghijauan dari teknologi",
         "pertahanan"
        ],
        [
         "32",
         "@Seputar_Energi_ Inovasi kayak gini yang bikin optimis. Energi bersih bukan cuma wacana tapi dibarengi aksi nyata dan teknologi!",
         "pertahanan"
        ],
        [
         "33",
         "Dengan fokus pada pengembangan infrastruktur global kebijakan serta teknologi-teknologi terbaru di industri hidrogen GHES 2025 bertujuan menciptakan ekosistem kolaboratif guna mempercepat transisi menuju energi bersih. Para peserta akan mengikuti berbagai sesi panel pameran",
         "pertahanan"
        ],
        [
         "34",
         "Menyoroti penyalahgunaan NIK dan solusinya ganti eSIM? Yang ngebocorin data siapa cobaaa Yang perlu belajar keamanan siber siapa cobaaa Nomorku angka cantik dari pertama punya hape",
         "pertahanan"
        ],
        [
         "35",
         "@mpwichi @YokL97 @_riverheaven laut yg menyusahkan nelayan. Pendidikan juga bukan prioritas di masanya. Yg marak korupsi judol dan oinjol. Padahal di masa sby gak ada yg namanya judol dan pinjol. Bagaimana teknologi pertanian mau maju pemerintah sendiri t",
         "pertahanan"
        ],
        [
         "36",
         "@DigitalVibesID @guntara_yudi Uang menguap karena kebiasaan belanja impulsif kurang lacak pengeluaran biaya tak terduga investasi berisiko dan inflasi. Di Indonesia pembayaran digital dan budaya konsumerisme mempercepat pengeluaran tapi banyak yang mulai ",
         "pekerjaan"
        ],
        [
         "37",
         "@dev1ra Keren ya! Remote work di Indonesia masih trending di 2025 terutama model hybrid soalnya orang suka fleksibel tapi perusahaan tetap butuh kolaborasi. Infrastruktur sama budaya face-to-face jadi tantangan tapi tools digital bantu banget. AI dipakai ",
         "pekerjaan"
        ],
        [
         "38",
         "@BigAlphaID Kebijakan tarif ini nggak bakal langsung membuat pabrik US yg ada di RRT pindah ke dalam negeri untuk menghindari tarif. Industri high-tech macam Foxcon itu sudah super effisien dimana pengerjaannya sudah otomasi diatas 80% untuk proses produk",
         "pekerjaan"
        ],
        [
         "39",
         "@ravelyeib @HannahDCox @hoteliercrypto Halo bro manufaktur AS turun karena globalisasi otomasi dan biaya tenaga kerja tinggi. Tarif mungkin melindungi industri tertentu tapi nggak cukup buat balikin manufaktur kayak dulu. Soalnya rantai pasok global udah ",
         "pekerjaan"
        ],
        [
         "40",
         "@zky_mul Menurutku saat ini mechatronics engineer paling banyak diminati karena perkembangan otomasi dan robotik yang pesat. Mereka menggabungkan keahlian mekanik elektrik dan elektronik sesuai kebutuhan industri modern. Mechanical dan electrical engineer",
         "pekerjaan"
        ],
        [
         "41",
         "@AiraNtieReal Katanya hilirisasi digital jalanan aja masih kayak kumbangan gitu... Jln toll dibangun trus rakyat di suruh bayar kalau mau lewat jalan rata beraspal... Ada yg berdagang dgn rakyatnya",
         "pekerjaan"
        ],
        [
         "42",
         "Sampe detik ini ga ada statement minimal apresiasi ke film ini. . pdahal janji politiknya ekonomi kreatif - hilirisasi digital . @gibran_tweet ?",
         "pekerjaan"
        ],
        [
         "43",
         "@Daffa_rffdhl @arifin34533 Saya lebih setuju dengan QRIS untuk Indonesia karena lebih adil dan simpel. QRIS punya biaya transaksi rendah cocok untuk UMKM dan data tetap di Indonesia mendukung kedaulatan ekonomi. Konsumen bisa bayar pakai dompet digital mu",
         "pekerjaan"
        ],
        [
         "44",
         "@prabowo Pemerintah Indonesia harusnya memperketat pengawasan terhadap e-commerce dari Luar negeri yg ada di Indonesia agar mereka tidak gegabah membuat aturan dan merugikan seller di Indonesia. Jangan sampai kebablasan seperti bbrp THN yg lalu mereka mas",
         "pekerjaan"
        ],
        [
         "45",
         "@Annf04 @ayalogi Lebih baik investasi di sektor yang tumbuh cepat seperti manufaktur ekonomi digital dan energi terbarukan karena didukung pemerintah dan proyeksi 2025. Real estate dan UMKM juga menarik terutama dengan urbanisasi. Diversifikasi penting un",
         "pekerjaan"
        ],
        [
         "46",
         "@Setiawan6251ya1 @AgusYudhoyono Konektivitas di sini maksudnya memperkuat infrastruktur fisik (jalan pelabuhan) dan digital (internet 5G satelit) untuk dorong perdagangan dan komunikasi di Asia. Wilayah seperti Asia Tenggara (Vietnam Indonesia Kamboja) As",
         "pekerjaan"
        ],
        [
         "47",
         "@saossamballll Kalo belum kerja coba fokus ke bidang teknologi atau e-commerce kayak cybersecurity atau digital marketing soalnya lagi booming di Indonesia. Bisa belajar skill baru lewat kursus online gratis di Coursera atau YouTube misalnya Python atau d",
         "pekerjaan"
        ],
        [
         "48",
         "@ningrat1590214 @kegblgnunfaedh Sugeng rawuh Mas/Mbak @ningrat1590214 Indonesia bisa maju kaya China kanthi effort ing pendidikan teknologi lan infrastruktur. Ekonomi digital diprediksi $146 milyar taun 2025 (McKinsey). Pemerintah fokus ing internet lan 5",
         "pekerjaan"
        ],
        [
         "49",
         "@hsenlee3 @GA_1123455 @asumsico Sektor bisnis yang bagus di Indonesia tahun 2025 meliputi pariwisata e-commerce fintech energi terbarukan kesehatan teknologi dan jasa. Pariwisata didukung investasi pemerintah e-commerce dan fintech tumbuh pesat karena pop",
         "pekerjaan"
        ]
       ],
       "shape": {
        "columns": 2,
        "rows": 5000
       }
      },
      "text/html": [
       "<div>\n",
       "<style scoped>\n",
       "    .dataframe tbody tr th:only-of-type {\n",
       "        vertical-align: middle;\n",
       "    }\n",
       "\n",
       "    .dataframe tbody tr th {\n",
       "        vertical-align: top;\n",
       "    }\n",
       "\n",
       "    .dataframe thead th {\n",
       "        text-align: right;\n",
       "    }\n",
       "</style>\n",
       "<table border=\"1\" class=\"dataframe\">\n",
       "  <thead>\n",
       "    <tr style=\"text-align: right;\">\n",
       "      <th></th>\n",
       "      <th>text</th>\n",
       "      <th>label</th>\n",
       "    </tr>\n",
       "  </thead>\n",
       "  <tbody>\n",
       "    <tr>\n",
       "      <th>0</th>\n",
       "      <td>@hyalfay @NatharElyas @BosPurwa @NatharElyas @...</td>\n",
       "      <td>ideologi</td>\n",
       "    </tr>\n",
       "    <tr>\n",
       "      <th>1</th>\n",
       "      <td>@sienchao @Sherly0ctaviany @jokowi Halo @Sienc...</td>\n",
       "      <td>ideologi</td>\n",
       "    </tr>\n",
       "    <tr>\n",
       "      <th>2</th>\n",
       "      <td>@giovannikurnwn @BudiBukanIntel Nama Budi Berl...</td>\n",
       "      <td>ideologi</td>\n",
       "    </tr>\n",
       "    <tr>\n",
       "      <th>3</th>\n",
       "      <td>@LeotardosMy @easyanying Kita akui keberhasila...</td>\n",
       "      <td>ideologi</td>\n",
       "    </tr>\n",
       "    <tr>\n",
       "      <th>4</th>\n",
       "      <td>@LuckyGaben @susipudjiastuti @prabowo Indonesi...</td>\n",
       "      <td>ideologi</td>\n",
       "    </tr>\n",
       "    <tr>\n",
       "      <th>...</th>\n",
       "      <td>...</td>\n",
       "      <td>...</td>\n",
       "    </tr>\n",
       "    <tr>\n",
       "      <th>4995</th>\n",
       "      <td>Memang kristen zionis itu rata-rata IslamoPhob...</td>\n",
       "      <td>harmoni</td>\n",
       "    </tr>\n",
       "    <tr>\n",
       "      <th>4996</th>\n",
       "      <td>Masjid Lafadz Allah Dan wanita yang lekat deng...</td>\n",
       "      <td>harmoni</td>\n",
       "    </tr>\n",
       "    <tr>\n",
       "      <th>4997</th>\n",
       "      <td>@_MbakSri_ Mulut yang selalu jual toleransi ma...</td>\n",
       "      <td>harmoni</td>\n",
       "    </tr>\n",
       "    <tr>\n",
       "      <th>4998</th>\n",
       "      <td>@itsmesoya_ kalo masalah fisik dan lisan masi ...</td>\n",
       "      <td>pekerjaan</td>\n",
       "    </tr>\n",
       "    <tr>\n",
       "      <th>4999</th>\n",
       "      <td>Toleransi sebatas hanya SLOGAN DI INDONESIA ta...</td>\n",
       "      <td>harmoni</td>\n",
       "    </tr>\n",
       "  </tbody>\n",
       "</table>\n",
       "<p>5000 rows × 2 columns</p>\n",
       "</div>"
      ],
      "text/plain": [
       "                                                   text      label\n",
       "0     @hyalfay @NatharElyas @BosPurwa @NatharElyas @...   ideologi\n",
       "1     @sienchao @Sherly0ctaviany @jokowi Halo @Sienc...   ideologi\n",
       "2     @giovannikurnwn @BudiBukanIntel Nama Budi Berl...   ideologi\n",
       "3     @LeotardosMy @easyanying Kita akui keberhasila...   ideologi\n",
       "4     @LuckyGaben @susipudjiastuti @prabowo Indonesi...   ideologi\n",
       "...                                                 ...        ...\n",
       "4995  Memang kristen zionis itu rata-rata IslamoPhob...    harmoni\n",
       "4996  Masjid Lafadz Allah Dan wanita yang lekat deng...    harmoni\n",
       "4997  @_MbakSri_ Mulut yang selalu jual toleransi ma...    harmoni\n",
       "4998  @itsmesoya_ kalo masalah fisik dan lisan masi ...  pekerjaan\n",
       "4999  Toleransi sebatas hanya SLOGAN DI INDONESIA ta...    harmoni\n",
       "\n",
       "[5000 rows x 2 columns]"
      ]
     },
     "execution_count": 78,
     "metadata": {},
     "output_type": "execute_result"
    }
   ],
   "source": [
    "data_train"
   ]
  },
  {
   "cell_type": "code",
   "execution_count": 79,
   "id": "b8ffd4ab",
   "metadata": {},
   "outputs": [
    {
     "name": "stdout",
     "output_type": "stream",
     "text": [
      "                                                text  \\\n",
      "0  @hyalfay @NatharElyas @BosPurwa @NatharElyas @...   \n",
      "1  @sienchao @Sherly0ctaviany @jokowi Halo @Sienc...   \n",
      "2  @giovannikurnwn @BudiBukanIntel Nama Budi Berl...   \n",
      "3  @LeotardosMy @easyanying Kita akui keberhasila...   \n",
      "4  @LuckyGaben @susipudjiastuti @prabowo Indonesi...   \n",
      "\n",
      "                                          clean_text  \n",
      "0  prabowo menang di 2024 karena strategi cerdas ...  \n",
      "1  halo mungkin terus mengangkat isu negatif joko...  \n",
      "2  nama budi berlari mungkin mencerminkan sikap k...  \n",
      "3  kita akui keberhasilannya kita akui juga kekur...  \n",
      "4  indonesia masih bisa menuju kesuksesan tapi ru...  \n"
     ]
    }
   ],
   "source": [
    "slang_dict = {\n",
    "    \"gak\": \"tidak\",\n",
    "    \"ga\": \"tidak\",\n",
    "    \"nggak\": \"tidak\",\n",
    "    \"aja\": \"saja\",\n",
    "    \"tp\": \"tapi\",\n",
    "    \"yg\": \"yang\",\n",
    "    \"dgn\": \"dengan\",\n",
    "    \"dlm\": \"dalam\",\n",
    "    \"utk\": \"untuk\",\n",
    "    \"jg\": \"juga\",\n",
    "    \"tdk\": \"tidak\",\n",
    "    \"sdh\": \"sudah\",\n",
    "    \"blm\": \"belum\"\n",
    "}\n",
    "\n",
    "def normalize_slang(text):\n",
    "    tokens = text.split()\n",
    "    return \" \".join([slang_dict.get(t, t) for t in tokens])\n",
    "\n",
    "def clean_text(text):\n",
    "    # lowercase\n",
    "    text = text.lower()\n",
    "    # hapus url\n",
    "    text = re.sub(r\"http\\S+|www.\\S+\", \"\", text)\n",
    "    # hapus mention\n",
    "    text = re.sub(r\"@\\w+\", \"\", text)\n",
    "    # ubah hashtag jadi kata\n",
    "    text = re.sub(r\"#(\\w+)\", r\"\\1\", text)\n",
    "    # ubah emoji jadi kata\n",
    "    text = emoji.demojize(text, delimiters=(\" \", \" \"))\n",
    "    # hapus tanda baca\n",
    "    text = text.translate(str.maketrans(\"\", \"\", string.punctuation))\n",
    "    # normalisasi slang\n",
    "    text = normalize_slang(text)\n",
    "    # hapus spasi ganda\n",
    "    text = re.sub(r\"\\s+\", \" \", text).strip()\n",
    "    return text\n",
    "\n",
    "data_train['clean_text'] = data_train['text'].apply(clean_text)\n",
    "data_test['clean_text'] = data_test['text'].apply(clean_text)\n",
    "\n",
    "print(data_train[['text','clean_text']].head())\n",
    "\n",
    "le = LabelEncoder()\n",
    "data_train['label'] = le.fit_transform(data_train['label'])"
   ]
  },
  {
   "cell_type": "code",
   "execution_count": 80,
   "id": "5c206298",
   "metadata": {},
   "outputs": [],
   "source": [
    "train_texts, val_texts, train_labels, val_labels = train_test_split(\n",
    "    data_train['clean_text'].values,\n",
    "    data_train['label'].values,\n",
    "    test_size=0.2,\n",
    "    stratify=data_train['label'].values,\n",
    "    random_state=42\n",
    ")"
   ]
  },
  {
   "cell_type": "code",
   "execution_count": 81,
   "id": "c953347c",
   "metadata": {},
   "outputs": [
    {
     "name": "stdout",
     "output_type": "stream",
     "text": [
      "0.5237369629402601\n"
     ]
    }
   ],
   "source": [
    "vectorizer = TfidfVectorizer(max_features=20000,ngram_range=(1,2))\n",
    "x_train = vectorizer.fit_transform(train_texts)\n",
    "x_val = vectorizer.transform(val_texts)\n",
    "x_test = vectorizer.transform(data_test['clean_text'])\n",
    "\n",
    "lr = LogisticRegression(max_iter=300,class_weight='balanced')\n",
    "lr.fit(x_train,train_labels)\n",
    "val_preds_lr = lr.predict(x_val)\n",
    "\n",
    "print(balanced_accuracy_score(val_labels,val_preds_lr))"
   ]
  },
  {
   "cell_type": "code",
   "execution_count": 82,
   "id": "01034cb9",
   "metadata": {},
   "outputs": [],
   "source": [
    "model_name = \"indolem/indobertweet-base-uncased\"\n",
    "tokenizer = AutoTokenizer.from_pretrained(model_name)\n",
    "max_len = 128\n",
    "\n",
    "def tokenize(batch):\n",
    "    return tokenizer(\n",
    "        batch,\n",
    "        padding='max_length',\n",
    "        truncation=True,\n",
    "        max_length=max_len,\n",
    "        return_tensors='pt'\n",
    "    )\n",
    "\n",
    "train_encodings = tokenize(list(train_texts))\n",
    "val_encodings = tokenize(list(val_texts))\n",
    "test_encodings = tokenize(list(data_test['clean_text']))\n",
    "\n"
   ]
  },
  {
   "cell_type": "code",
   "execution_count": 83,
   "id": "8ad1cca8",
   "metadata": {},
   "outputs": [],
   "source": [
    "class Dataset(torch.utils.data.Dataset):\n",
    "    def __init__(self, encodings, labels=None):\n",
    "        self.encodings = encodings\n",
    "        self.labels = labels\n",
    "    def __len__(self):\n",
    "        return len(self.encodings[\"input_ids\"])\n",
    "    def __getitem__(self, idx):\n",
    "        item = {key: val[idx] for key, val in self.encodings.items()}\n",
    "        if self.labels is not None:\n",
    "            item[\"labels\"] = torch.tensor(self.labels[idx])\n",
    "        return item\n",
    "    \n",
    "train_dataset = Dataset(train_encodings, train_labels)\n",
    "val_dataset = Dataset(val_encodings, val_labels)\n",
    "test_dataset = Dataset(test_encodings)"
   ]
  },
  {
   "cell_type": "code",
   "execution_count": 84,
   "id": "74ccc6c9",
   "metadata": {},
   "outputs": [
    {
     "data": {
      "application/vnd.microsoft.datawrangler.viewer.v0+json": {
       "columns": [
        {
         "name": "index",
         "rawType": "int64",
         "type": "integer"
        },
        {
         "name": "text",
         "rawType": "object",
         "type": "string"
        },
        {
         "name": "label",
         "rawType": "int64",
         "type": "integer"
        },
        {
         "name": "clean_text",
         "rawType": "object",
         "type": "string"
        }
       ],
       "ref": "a2291ebe-e211-4927-93a2-766610f171ab",
       "rows": [
        [
         "0",
         "@hyalfay @NatharElyas @BosPurwa @NatharElyas @BosPurwa Prabowo menang di 2024 karena strategi cerdas: media sosial ubah imej jadi gemoy buat anak muda aliansi sama Gibran anak Jokowi iklan digital besar dan nyambung budaya gotong royong . Dapet 58 58% sua",
         "2",
         "prabowo menang di 2024 karena strategi cerdas media sosial ubah imej jadi gemoy buat anak muda aliansi sama gibran anak jokowi iklan digital besar dan nyambung budaya gotong royong dapet 58 58 sua"
        ],
        [
         "1",
         "@sienchao @Sherly0ctaviany @jokowi Halo @Sienchao @Sherly0ctaviany mungkin terus mengangkat isu negatif Jokowi karena aktivisme politik atau ketidakpuasan dengan kepemimpinannya fokus pada korupsi dan kemunduran demokrasi. Kontennya mirip dengan akun lain",
         "2",
         "halo mungkin terus mengangkat isu negatif jokowi karena aktivisme politik atau ketidakpuasan dengan kepemimpinannya fokus pada korupsi dan kemunduran demokrasi kontennya mirip dengan akun lain"
        ],
        [
         "2",
         "@giovannikurnwn @BudiBukanIntel Nama Budi BerlarI mungkin mencerminkan sikap kritis @BudiBukanIntel terhadap pemerintah khususnya RUU KUHAP dan RUU POLRI yang kontroversial. Kedua RUU ini dikritik karena bisa memperluas kuasa polisi dan mengancam kebebasa",
         "2",
         "nama budi berlari mungkin mencerminkan sikap kritis terhadap pemerintah khususnya ruu kuhap dan ruu polri yang kontroversial kedua ruu ini dikritik karena bisa memperluas kuasa polisi dan mengancam kebebasa"
        ],
        [
         "3",
         "@LeotardosMy @easyanying Kita akui keberhasilannya kita akui juga kekurangan. Gue gak terlalu peduli para pengkritik Jokowi atau pemerintah saat ini. Dalam demokrasi pro-kontra itu hal biasa bagi gue. Makanya gue juga jarang bahas soal mereka. Fokus kita ",
         "2",
         "kita akui keberhasilannya kita akui juga kekurangan gue tidak terlalu peduli para pengkritik jokowi atau pemerintah saat ini dalam demokrasi prokontra itu hal biasa bagi gue makanya gue juga jarang bahas soal mereka fokus kita"
        ],
        [
         "4",
         "@LuckyGaben @susipudjiastuti @prabowo Indonesia masih bisa menuju kesuksesan tapi RUU TNI dan dwifungsi bikin khawatir. Upaya lawan judi online positif tapi perluasan peran militer di pemerintahan dan aktivis yang diam bisa jadi tanda mundur demokrasi. Pe",
         "2",
         "indonesia masih bisa menuju kesuksesan tapi ruu tni dan dwifungsi bikin khawatir upaya lawan judi online positif tapi perluasan peran militer di pemerintahan dan aktivis yang diam bisa jadi tanda mundur demokrasi pe"
        ],
        [
         "5",
         "Kalo gua bukan buzzer. Dukungan kita terhadap capres-cawapres hanya sebatas pada saat pesta demokrasi itu dimulai. Terlepas dari itu jika sudah selesai. Maka dukungan juga selesai. Biarkan yang menang bekerja dlm jabatannya selama 5 th. Jadi ya gak terlalu aktif bahas politik..",
         "2",
         "kalo gua bukan buzzer dukungan kita terhadap caprescawapres hanya sebatas pada saat pesta demokrasi itu dimulai terlepas dari itu jika sudah selesai maka dukungan juga selesai biarkan yang menang bekerja dalam jabatannya selama 5 th jadi ya tidak terlalu aktif bahas politik"
        ],
        [
         "6",
         "@zarryhendrik Maaf saya tidak bisa menjelaskan dalam bahasa Minahasa karena kurangnya sumber daya terjemahan online untuk bahasa seperti Tondano. Dalam bahasa Indonesia: Kolaborasi mendukung demokrasi dengan memungkinkan partisipasi warga dalam pengambila",
         "2",
         "maaf saya tidak bisa menjelaskan dalam bahasa minahasa karena kurangnya sumber daya terjemahan online untuk bahasa seperti tondano dalam bahasa indonesia kolaborasi mendukung demokrasi dengan memungkinkan partisipasi warga dalam pengambila"
        ],
        [
         "7",
         "@PekPekok @kompascom Berita tentang putusan Mahkamah Konstitusi bahwa kerusuhan digital di media sosial bukan tindak pidana menurut UU ITE tampaknya baik bagi masyarakat. Putusan ini melindungi kebebasan berpendapat memungkinkan warga Indonesia berekspres",
         "2",
         "berita tentang putusan mahkamah konstitusi bahwa kerusuhan digital di media sosial bukan tindak pidana menurut uu ite tampaknya baik bagi masyarakat putusan ini melindungi kebebasan berpendapat memungkinkan warga indonesia berekspres"
        ],
        [
         "8",
         "@virdianaurellio Mantap KK buzzer2 sok keras di twitter juga sepertinya perlu diajak debat online adu gagasan seperti ini biar rakyat bisa menilai serta nisa tahu Akun2 buzzer itu manusianya seperti apa bentuknya dan wawasannya sejauh mana ttg NKRI dan de",
         "2",
         "mantap kk buzzer2 sok keras di twitter juga sepertinya perlu diajak debat online adu gagasan seperti ini biar rakyat bisa menilai serta nisa tahu akun2 buzzer itu manusianya seperti apa bentuknya dan wawasannya sejauh mana ttg nkri dan de"
        ],
        [
         "9",
         "@Rahwana060810 Di Jerman: Kampus punya portal verifikasi online. Di AS: Presiden publikasi transkrip nilai. Di Indonesia? 'Udah percaya saja' + hina yang bertanya. Kita mau pake standar mana? *Demokrasi bukan sekadar 'percaya partai' tapi hak publik memas",
         "2",
         "di jerman kampus punya portal verifikasi online di as presiden publikasi transkrip nilai di indonesia udah percaya saja hina yang bertanya kita mau pake standar mana demokrasi bukan sekadar percaya partai tapi hak publik memas"
        ],
        [
         "10",
         "@BosPurwa Akhirnya! MK menegaskan bahwa dinamika kritik dan opini di media sosial bukan kerusuhan yang bisa dipidana pakai UU ITE. Ini kemenangan kecil untuk kebebasan berekspresi di ruang digital. Demokrasi memang kadang gaduh tapi justru di situlah nafa",
         "2",
         "akhirnya mk menegaskan bahwa dinamika kritik dan opini di media sosial bukan kerusuhan yang bisa dipidana pakai uu ite ini kemenangan kecil untuk kebebasan berekspresi di ruang digital demokrasi memang kadang gaduh tapi justru di situlah nafa"
        ],
        [
         "11",
         "@zrs28_ Jika pemilih cerdas Anies Baswedan kemungkinan menang pilpres 2024 dengan platform reformasinya. Namun Prabowo Subianto menang dengan 59% suara lanjutkan kebijakan Jokowi meski ada kontroversi pelanggaran HAM. Ganjar Pranowo dapat 16% fokus keseja",
         "2",
         "jika pemilih cerdas anies baswedan kemungkinan menang pilpres 2024 dengan platform reformasinya namun prabowo subianto menang dengan 59 suara lanjutkan kebijakan jokowi meski ada kontroversi pelanggaran ham ganjar pranowo dapat 16 fokus keseja"
        ],
        [
         "12",
         "@sukangawoorrrr @narkosun Situasi politik dan ekonomi Indonesia tahun 2025 dilihat positif dunia. Politik stabil di bawah Prabowo demokrasi kuat meski ada isu pengawasan. Ekonomi tumbuh 5 1% terbesar di ASEAN didukung konsumsi dan investasi. Isu judi onli",
         "2",
         "situasi politik dan ekonomi indonesia tahun 2025 dilihat positif dunia politik stabil di bawah prabowo demokrasi kuat meski ada isu pengawasan ekonomi tumbuh 5 1 terbesar di asean didukung konsumsi dan investasi isu judi onli"
        ],
        [
         "13",
         "@OposisiCerdas Buktinya apa (cacat etik)? Kecuali presiden perintahkan kapolri dan kejagung usut akun fufufafa tsb! Indonesi negara berdsrkan Pancasila tdk kompromi dgn siapapun presiden/wapres rekam jejak digital medsos narasi2 kotor biadab utk diproses ",
         "2",
         "buktinya apa cacat etik kecuali presiden perintahkan kapolri dan kejagung usut akun fufufafa tsb indonesi negara berdsrkan pancasila tidak kompromi dengan siapapun presidenwapres rekam jejak digital medsos narasi2 kotor biadab untuk diproses"
        ],
        [
         "14",
         "Harga harga stabil apanya yang gelap ohjya hati dan pikiran kaliann yang gelap masih bisa online dan bebas berkata apapun berati demokrasi masih sehat",
         "2",
         "harga harga stabil apanya yang gelap ohjya hati dan pikiran kaliann yang gelap masih bisa online dan bebas berkata apapun berati demokrasi masih sehat"
        ],
        [
         "15",
         "@radjathaher ya sebenernya mereka masi ada senjata lain kalo warga internet dah ga percaya . senjata mereka warga2 desa/kampung makanya dl budget kampanye nya gede jd bisa ngasi bansos warga2 yg ga kejangkau internet dan jumlahnya banyaak. dan bakal nurut",
         "2",
         "ya sebenernya mereka masi ada senjata lain kalo warga internet dah tidak percaya senjata mereka warga2 desakampung makanya dl budget kampanye nya gede jd bisa ngasi bansos warga2 yang tidak kejangkau internet dan jumlahnya banyaak dan bakal nurut"
        ],
        [
         "16",
         "@rudi_alexander @yusuf_dumdum @DedynurPalakka Kalau gue ikut pemilu 2024 kayaknya gue bakal pilih Anies Baswedan. Dia punya rekam jejak kuat di inovasi digital dan e-governance plus komitmen ke hak asasi manusia. Prabowo punya ide kota inovasi tapi kontro",
         "2",
         "kalau gue ikut pemilu 2024 kayaknya gue bakal pilih anies baswedan dia punya rekam jejak kuat di inovasi digital dan egovernance plus komitmen ke hak asasi manusia prabowo punya ide kota inovasi tapi kontro"
        ],
        [
         "17",
         "@ardianTaka @Homo_sapiens21 @logos_id @ardianTaka @Homo_sapiens21 @logos_id Tenang belum ada bukti X akan dilarang di Indonesia gara-gara bahas tambang ilegal atau korupsi. Fokus pemerintah sekarang ke perlindungan anak dan e-commerce bukan konten seperti",
         "2",
         "tenang belum ada bukti x akan dilarang di indonesia garagara bahas tambang ilegal atau korupsi fokus pemerintah sekarang ke perlindungan anak dan ecommerce bukan konten seperti"
        ],
        [
         "18",
         "@HariPandowo @mikuroQ Harapan untuk menyelamatkan Indonesia ada pada reformasi ekonomi dan program sosial Prabowo seperti pertumbuhan 8% dan makan gratis untuk 82 juta orang. Pelatihan digital untuk 9 juta pemuda bisa turunkan pengangguran sementara langk",
         "5",
         "harapan untuk menyelamatkan indonesia ada pada reformasi ekonomi dan program sosial prabowo seperti pertumbuhan 8 dan makan gratis untuk 82 juta orang pelatihan digital untuk 9 juta pemuda bisa turunkan pengangguran sementara langk"
        ],
        [
         "19",
         "@Reinn_shere UU TNI yang sudah direvisi Maret 2025 punya manfaat tapi juga risiko. Positifnya memperkuat keamanan nasional seperti pertahanan siber dan perlindungan WNI di luar negeri misalnya di Taiwan. Ini sejalan dengan visi Indonesia Emas 2045. Namun ",
         "5",
         "uu tni yang sudah direvisi maret 2025 punya manfaat tapi juga risiko positifnya memperkuat keamanan nasional seperti pertahanan siber dan perlindungan wni di luar negeri misalnya di taiwan ini sejalan dengan visi indonesia emas 2045 namun"
        ],
        [
         "20",
         "@jondhez @kring_pajak @DitjenPajakRI bukti lainnya bahwa keamanan siber kita gak ada aman2nya sama sekali bahkan setelah tuh Parjo mulai masuk ke ranah siber",
         "5",
         "bukti lainnya bahwa keamanan siber kita tidak ada aman2nya sama sekali bahkan setelah tuh parjo mulai masuk ke ranah siber"
        ],
        [
         "21",
         "@zupp4zup Masalah publik lain di administrasi publik adalah kebutuhan akan langkah keamanan siber yang kuat untuk melindungi data pemerintah dari ancaman siber seperti pelanggaran data dan ransomware. Ini melibatkan lembaga publik profesional keamanan sib",
         "5",
         "masalah publik lain di administrasi publik adalah kebutuhan akan langkah keamanan siber yang kuat untuk melindungi data pemerintah dari ancaman siber seperti pelanggaran data dan ransomware ini melibatkan lembaga publik profesional keamanan sib"
        ],
        [
         "22",
         "@LahrianSyahilla Masyarakat berharap kepemimpinan ini tidak hanya menjadi simbolis tetapi juga menghasilkan langkah nyata seperti pengembangan energi terbarukan investasi pada infrastruktur hijau dan percepatan inovasi teknologi energi bersih.",
         "5",
         "masyarakat berharap kepemimpinan ini tidak hanya menjadi simbolis tetapi juga menghasilkan langkah nyata seperti pengembangan energi terbarukan investasi pada infrastruktur hijau dan percepatan inovasi teknologi energi bersih"
        ],
        [
         "23",
         "@ValNOFX86 Teknologi energi fusi berpotensi sangat bermanfaat dalam 30-50 tahun ke depan menawarkan sumber energi bersih dan melimpah yang bisa mengatasi perubahan iklim. Diperkirakan pada 2055-2075 fusi bisa jadi layak secara komersial menghasilkan daya ",
         "5",
         "teknologi energi fusi berpotensi sangat bermanfaat dalam 3050 tahun ke depan menawarkan sumber energi bersih dan melimpah yang bisa mengatasi perubahan iklim diperkirakan pada 20552075 fusi bisa jadi layak secara komersial menghasilkan daya"
        ],
        [
         "24",
         "@LahrianSyahilla Di tengah kebutuhan akan energi bersih dan efisiensi penggunaan teknologi canggih seperti AI menunjukkan bahwa Indonesia siap beradaptasi dengan perkembangan zaman.",
         "5",
         "di tengah kebutuhan akan energi bersih dan efisiensi penggunaan teknologi canggih seperti ai menunjukkan bahwa indonesia siap beradaptasi dengan perkembangan zaman"
        ],
        [
         "25",
         "@alphomega_ Program kerja 2025 fokus pada pertumbuhan ekonomi lewat infrastruktur transformasi digital dukungan UMKM dan energi hijau. Meski ada efisiensi anggaran (contoh: potong dana PUPR jadi Rp 76T) pemerintah tetap dorong program seperti makan gratis",
         "5",
         "program kerja 2025 fokus pada pertumbuhan ekonomi lewat infrastruktur transformasi digital dukungan umkm dan energi hijau meski ada efisiensi anggaran contoh potong dana pupr jadi rp 76t pemerintah tetap dorong program seperti makan gratis"
        ],
        [
         "26",
         "@LahrianSyahilla Langkah ini menunjukkan komitmen Pertamina terhadap transisi energi bersih dan pemanfaatan teknologi modern demi efisiensi serta keberlanjutan lingkungan.",
         "5",
         "langkah ini menunjukkan komitmen pertamina terhadap transisi energi bersih dan pemanfaatan teknologi modern demi efisiensi serta keberlanjutan lingkungan"
        ],
        [
         "27",
         "@Dafyasyah1 @UstadzWaloni emangnya yg punya minyak bumi cuma arab. skr jg sdh banyak negara yg jg penghasil minyak bumi. bahkan dunia bergeser ke teknologi energi bersih.",
         "5",
         "emangnya yang punya minyak bumi cuma arab skr juga sudah banyak negara yang juga penghasil minyak bumi bahkan dunia bergeser ke teknologi energi bersih"
        ],
        [
         "28",
         "Dengan kerja sama energi Indonesia bisa dapet alih teknologi buat produksi energi bersih #KunjunganTimtengTurkiyePrabowo",
         "5",
         "dengan kerja sama energi indonesia bisa dapet alih teknologi buat produksi energi bersih kunjungantimtengturkiyeprabowo"
        ],
        [
         "29",
         "Wes to... Rasah fafifu masalah energi... Mau bersih dan murah ya nuklir Mau kotor dan murah ya batubara Sisanya ya mahal... Kecuali udah bisa bedah teknologi UFO...",
         "5",
         "wes to rasah fafifu masalah energi mau bersih dan murah ya nuklir mau kotor dan murah ya batubara sisanya ya mahal kecuali udah bisa bedah teknologi ufo"
        ],
        [
         "30",
         "@EkoPurwanto001 @V3g3L Halo Bang Stepen! Carbon trading itu sistem jual-beli kredit karbon untuk kurangi emisi gas rumah kaca. Manfaatnya buat masa depan umat manusia: - Kurangi pemanasan global lewat batas emisi. - Dorong inovasi teknologi bersih seperti",
         "5",
         "halo bang stepen carbon trading itu sistem jualbeli kredit karbon untuk kurangi emisi gas rumah kaca manfaatnya buat masa depan umat manusia kurangi pemanasan global lewat batas emisi dorong inovasi teknologi bersih seperti"
        ],
        [
         "31",
         "Mantap! Pembentukan Satgas Transisi Energi dan Ekonomi Hijau dalam kerangka JETP menunjukkan komitmen pemerintah yang makin konkret. Tantangannya sekarang ada di implementasi: apakah transisinya benar-benar mengarah ke energi bersih bukan sekadar penghijauan dari teknologi",
         "5",
         "mantap pembentukan satgas transisi energi dan ekonomi hijau dalam kerangka jetp menunjukkan komitmen pemerintah yang makin konkret tantangannya sekarang ada di implementasi apakah transisinya benarbenar mengarah ke energi bersih bukan sekadar penghijauan dari teknologi"
        ],
        [
         "32",
         "@Seputar_Energi_ Inovasi kayak gini yang bikin optimis. Energi bersih bukan cuma wacana tapi dibarengi aksi nyata dan teknologi!",
         "5",
         "inovasi kayak gini yang bikin optimis energi bersih bukan cuma wacana tapi dibarengi aksi nyata dan teknologi"
        ],
        [
         "33",
         "Dengan fokus pada pengembangan infrastruktur global kebijakan serta teknologi-teknologi terbaru di industri hidrogen GHES 2025 bertujuan menciptakan ekosistem kolaboratif guna mempercepat transisi menuju energi bersih. Para peserta akan mengikuti berbagai sesi panel pameran",
         "5",
         "dengan fokus pada pengembangan infrastruktur global kebijakan serta teknologiteknologi terbaru di industri hidrogen ghes 2025 bertujuan menciptakan ekosistem kolaboratif guna mempercepat transisi menuju energi bersih para peserta akan mengikuti berbagai sesi panel pameran"
        ],
        [
         "34",
         "Menyoroti penyalahgunaan NIK dan solusinya ganti eSIM? Yang ngebocorin data siapa cobaaa Yang perlu belajar keamanan siber siapa cobaaa Nomorku angka cantik dari pertama punya hape",
         "5",
         "menyoroti penyalahgunaan nik dan solusinya ganti esim yang ngebocorin data siapa cobaaa yang perlu belajar keamanan siber siapa cobaaa nomorku angka cantik dari pertama punya hape"
        ],
        [
         "35",
         "@mpwichi @YokL97 @_riverheaven laut yg menyusahkan nelayan. Pendidikan juga bukan prioritas di masanya. Yg marak korupsi judol dan oinjol. Padahal di masa sby gak ada yg namanya judol dan pinjol. Bagaimana teknologi pertanian mau maju pemerintah sendiri t",
         "5",
         "laut yang menyusahkan nelayan pendidikan juga bukan prioritas di masanya yang marak korupsi judol dan oinjol padahal di masa sby tidak ada yang namanya judol dan pinjol bagaimana teknologi pertanian mau maju pemerintah sendiri t"
        ],
        [
         "36",
         "@DigitalVibesID @guntara_yudi Uang menguap karena kebiasaan belanja impulsif kurang lacak pengeluaran biaya tak terduga investasi berisiko dan inflasi. Di Indonesia pembayaran digital dan budaya konsumerisme mempercepat pengeluaran tapi banyak yang mulai ",
         "3",
         "uang menguap karena kebiasaan belanja impulsif kurang lacak pengeluaran biaya tak terduga investasi berisiko dan inflasi di indonesia pembayaran digital dan budaya konsumerisme mempercepat pengeluaran tapi banyak yang mulai"
        ],
        [
         "37",
         "@dev1ra Keren ya! Remote work di Indonesia masih trending di 2025 terutama model hybrid soalnya orang suka fleksibel tapi perusahaan tetap butuh kolaborasi. Infrastruktur sama budaya face-to-face jadi tantangan tapi tools digital bantu banget. AI dipakai ",
         "3",
         "keren ya remote work di indonesia masih trending di 2025 terutama model hybrid soalnya orang suka fleksibel tapi perusahaan tetap butuh kolaborasi infrastruktur sama budaya facetoface jadi tantangan tapi tools digital bantu banget ai dipakai"
        ],
        [
         "38",
         "@BigAlphaID Kebijakan tarif ini nggak bakal langsung membuat pabrik US yg ada di RRT pindah ke dalam negeri untuk menghindari tarif. Industri high-tech macam Foxcon itu sudah super effisien dimana pengerjaannya sudah otomasi diatas 80% untuk proses produk",
         "3",
         "kebijakan tarif ini tidak bakal langsung membuat pabrik us yang ada di rrt pindah ke dalam negeri untuk menghindari tarif industri hightech macam foxcon itu sudah super effisien dimana pengerjaannya sudah otomasi diatas 80 untuk proses produk"
        ],
        [
         "39",
         "@ravelyeib @HannahDCox @hoteliercrypto Halo bro manufaktur AS turun karena globalisasi otomasi dan biaya tenaga kerja tinggi. Tarif mungkin melindungi industri tertentu tapi nggak cukup buat balikin manufaktur kayak dulu. Soalnya rantai pasok global udah ",
         "3",
         "halo bro manufaktur as turun karena globalisasi otomasi dan biaya tenaga kerja tinggi tarif mungkin melindungi industri tertentu tapi tidak cukup buat balikin manufaktur kayak dulu soalnya rantai pasok global udah"
        ],
        [
         "40",
         "@zky_mul Menurutku saat ini mechatronics engineer paling banyak diminati karena perkembangan otomasi dan robotik yang pesat. Mereka menggabungkan keahlian mekanik elektrik dan elektronik sesuai kebutuhan industri modern. Mechanical dan electrical engineer",
         "3",
         "menurutku saat ini mechatronics engineer paling banyak diminati karena perkembangan otomasi dan robotik yang pesat mereka menggabungkan keahlian mekanik elektrik dan elektronik sesuai kebutuhan industri modern mechanical dan electrical engineer"
        ],
        [
         "41",
         "@AiraNtieReal Katanya hilirisasi digital jalanan aja masih kayak kumbangan gitu... Jln toll dibangun trus rakyat di suruh bayar kalau mau lewat jalan rata beraspal... Ada yg berdagang dgn rakyatnya",
         "3",
         "katanya hilirisasi digital jalanan saja masih kayak kumbangan gitu jln toll dibangun trus rakyat di suruh bayar kalau mau lewat jalan rata beraspal ada yang berdagang dengan rakyatnya"
        ],
        [
         "42",
         "Sampe detik ini ga ada statement minimal apresiasi ke film ini. . pdahal janji politiknya ekonomi kreatif - hilirisasi digital . @gibran_tweet ?",
         "3",
         "sampe detik ini tidak ada statement minimal apresiasi ke film ini pdahal janji politiknya ekonomi kreatif hilirisasi digital"
        ],
        [
         "43",
         "@Daffa_rffdhl @arifin34533 Saya lebih setuju dengan QRIS untuk Indonesia karena lebih adil dan simpel. QRIS punya biaya transaksi rendah cocok untuk UMKM dan data tetap di Indonesia mendukung kedaulatan ekonomi. Konsumen bisa bayar pakai dompet digital mu",
         "3",
         "saya lebih setuju dengan qris untuk indonesia karena lebih adil dan simpel qris punya biaya transaksi rendah cocok untuk umkm dan data tetap di indonesia mendukung kedaulatan ekonomi konsumen bisa bayar pakai dompet digital mu"
        ],
        [
         "44",
         "@prabowo Pemerintah Indonesia harusnya memperketat pengawasan terhadap e-commerce dari Luar negeri yg ada di Indonesia agar mereka tidak gegabah membuat aturan dan merugikan seller di Indonesia. Jangan sampai kebablasan seperti bbrp THN yg lalu mereka mas",
         "3",
         "pemerintah indonesia harusnya memperketat pengawasan terhadap ecommerce dari luar negeri yang ada di indonesia agar mereka tidak gegabah membuat aturan dan merugikan seller di indonesia jangan sampai kebablasan seperti bbrp thn yang lalu mereka mas"
        ],
        [
         "45",
         "@Annf04 @ayalogi Lebih baik investasi di sektor yang tumbuh cepat seperti manufaktur ekonomi digital dan energi terbarukan karena didukung pemerintah dan proyeksi 2025. Real estate dan UMKM juga menarik terutama dengan urbanisasi. Diversifikasi penting un",
         "3",
         "lebih baik investasi di sektor yang tumbuh cepat seperti manufaktur ekonomi digital dan energi terbarukan karena didukung pemerintah dan proyeksi 2025 real estate dan umkm juga menarik terutama dengan urbanisasi diversifikasi penting un"
        ],
        [
         "46",
         "@Setiawan6251ya1 @AgusYudhoyono Konektivitas di sini maksudnya memperkuat infrastruktur fisik (jalan pelabuhan) dan digital (internet 5G satelit) untuk dorong perdagangan dan komunikasi di Asia. Wilayah seperti Asia Tenggara (Vietnam Indonesia Kamboja) As",
         "3",
         "konektivitas di sini maksudnya memperkuat infrastruktur fisik jalan pelabuhan dan digital internet 5g satelit untuk dorong perdagangan dan komunikasi di asia wilayah seperti asia tenggara vietnam indonesia kamboja as"
        ],
        [
         "47",
         "@saossamballll Kalo belum kerja coba fokus ke bidang teknologi atau e-commerce kayak cybersecurity atau digital marketing soalnya lagi booming di Indonesia. Bisa belajar skill baru lewat kursus online gratis di Coursera atau YouTube misalnya Python atau d",
         "3",
         "kalo belum kerja coba fokus ke bidang teknologi atau ecommerce kayak cybersecurity atau digital marketing soalnya lagi booming di indonesia bisa belajar skill baru lewat kursus online gratis di coursera atau youtube misalnya python atau d"
        ],
        [
         "48",
         "@ningrat1590214 @kegblgnunfaedh Sugeng rawuh Mas/Mbak @ningrat1590214 Indonesia bisa maju kaya China kanthi effort ing pendidikan teknologi lan infrastruktur. Ekonomi digital diprediksi $146 milyar taun 2025 (McKinsey). Pemerintah fokus ing internet lan 5",
         "3",
         "sugeng rawuh masmbak indonesia bisa maju kaya china kanthi effort ing pendidikan teknologi lan infrastruktur ekonomi digital diprediksi 146 milyar taun 2025 mckinsey pemerintah fokus ing internet lan 5"
        ],
        [
         "49",
         "@hsenlee3 @GA_1123455 @asumsico Sektor bisnis yang bagus di Indonesia tahun 2025 meliputi pariwisata e-commerce fintech energi terbarukan kesehatan teknologi dan jasa. Pariwisata didukung investasi pemerintah e-commerce dan fintech tumbuh pesat karena pop",
         "3",
         "sektor bisnis yang bagus di indonesia tahun 2025 meliputi pariwisata ecommerce fintech energi terbarukan kesehatan teknologi dan jasa pariwisata didukung investasi pemerintah ecommerce dan fintech tumbuh pesat karena pop"
        ]
       ],
       "shape": {
        "columns": 3,
        "rows": 5000
       }
      },
      "text/html": [
       "<div>\n",
       "<style scoped>\n",
       "    .dataframe tbody tr th:only-of-type {\n",
       "        vertical-align: middle;\n",
       "    }\n",
       "\n",
       "    .dataframe tbody tr th {\n",
       "        vertical-align: top;\n",
       "    }\n",
       "\n",
       "    .dataframe thead th {\n",
       "        text-align: right;\n",
       "    }\n",
       "</style>\n",
       "<table border=\"1\" class=\"dataframe\">\n",
       "  <thead>\n",
       "    <tr style=\"text-align: right;\">\n",
       "      <th></th>\n",
       "      <th>text</th>\n",
       "      <th>label</th>\n",
       "      <th>clean_text</th>\n",
       "    </tr>\n",
       "  </thead>\n",
       "  <tbody>\n",
       "    <tr>\n",
       "      <th>0</th>\n",
       "      <td>@hyalfay @NatharElyas @BosPurwa @NatharElyas @...</td>\n",
       "      <td>2</td>\n",
       "      <td>prabowo menang di 2024 karena strategi cerdas ...</td>\n",
       "    </tr>\n",
       "    <tr>\n",
       "      <th>1</th>\n",
       "      <td>@sienchao @Sherly0ctaviany @jokowi Halo @Sienc...</td>\n",
       "      <td>2</td>\n",
       "      <td>halo mungkin terus mengangkat isu negatif joko...</td>\n",
       "    </tr>\n",
       "    <tr>\n",
       "      <th>2</th>\n",
       "      <td>@giovannikurnwn @BudiBukanIntel Nama Budi Berl...</td>\n",
       "      <td>2</td>\n",
       "      <td>nama budi berlari mungkin mencerminkan sikap k...</td>\n",
       "    </tr>\n",
       "    <tr>\n",
       "      <th>3</th>\n",
       "      <td>@LeotardosMy @easyanying Kita akui keberhasila...</td>\n",
       "      <td>2</td>\n",
       "      <td>kita akui keberhasilannya kita akui juga kekur...</td>\n",
       "    </tr>\n",
       "    <tr>\n",
       "      <th>4</th>\n",
       "      <td>@LuckyGaben @susipudjiastuti @prabowo Indonesi...</td>\n",
       "      <td>2</td>\n",
       "      <td>indonesia masih bisa menuju kesuksesan tapi ru...</td>\n",
       "    </tr>\n",
       "    <tr>\n",
       "      <th>...</th>\n",
       "      <td>...</td>\n",
       "      <td>...</td>\n",
       "      <td>...</td>\n",
       "    </tr>\n",
       "    <tr>\n",
       "      <th>4995</th>\n",
       "      <td>Memang kristen zionis itu rata-rata IslamoPhob...</td>\n",
       "      <td>0</td>\n",
       "      <td>memang kristen zionis itu ratarata islamophobi...</td>\n",
       "    </tr>\n",
       "    <tr>\n",
       "      <th>4996</th>\n",
       "      <td>Masjid Lafadz Allah Dan wanita yang lekat deng...</td>\n",
       "      <td>0</td>\n",
       "      <td>masjid lafadz allah dan wanita yang lekat deng...</td>\n",
       "    </tr>\n",
       "    <tr>\n",
       "      <th>4997</th>\n",
       "      <td>@_MbakSri_ Mulut yang selalu jual toleransi ma...</td>\n",
       "      <td>0</td>\n",
       "      <td>mulut yang selalu jual toleransi malah dia sen...</td>\n",
       "    </tr>\n",
       "    <tr>\n",
       "      <th>4998</th>\n",
       "      <td>@itsmesoya_ kalo masalah fisik dan lisan masi ...</td>\n",
       "      <td>3</td>\n",
       "      <td>kalo masalah fisik dan lisan masi bisa di tole...</td>\n",
       "    </tr>\n",
       "    <tr>\n",
       "      <th>4999</th>\n",
       "      <td>Toleransi sebatas hanya SLOGAN DI INDONESIA ta...</td>\n",
       "      <td>0</td>\n",
       "      <td>toleransi sebatas hanya slogan di indonesia ta...</td>\n",
       "    </tr>\n",
       "  </tbody>\n",
       "</table>\n",
       "<p>5000 rows × 3 columns</p>\n",
       "</div>"
      ],
      "text/plain": [
       "                                                   text  label  \\\n",
       "0     @hyalfay @NatharElyas @BosPurwa @NatharElyas @...      2   \n",
       "1     @sienchao @Sherly0ctaviany @jokowi Halo @Sienc...      2   \n",
       "2     @giovannikurnwn @BudiBukanIntel Nama Budi Berl...      2   \n",
       "3     @LeotardosMy @easyanying Kita akui keberhasila...      2   \n",
       "4     @LuckyGaben @susipudjiastuti @prabowo Indonesi...      2   \n",
       "...                                                 ...    ...   \n",
       "4995  Memang kristen zionis itu rata-rata IslamoPhob...      0   \n",
       "4996  Masjid Lafadz Allah Dan wanita yang lekat deng...      0   \n",
       "4997  @_MbakSri_ Mulut yang selalu jual toleransi ma...      0   \n",
       "4998  @itsmesoya_ kalo masalah fisik dan lisan masi ...      3   \n",
       "4999  Toleransi sebatas hanya SLOGAN DI INDONESIA ta...      0   \n",
       "\n",
       "                                             clean_text  \n",
       "0     prabowo menang di 2024 karena strategi cerdas ...  \n",
       "1     halo mungkin terus mengangkat isu negatif joko...  \n",
       "2     nama budi berlari mungkin mencerminkan sikap k...  \n",
       "3     kita akui keberhasilannya kita akui juga kekur...  \n",
       "4     indonesia masih bisa menuju kesuksesan tapi ru...  \n",
       "...                                                 ...  \n",
       "4995  memang kristen zionis itu ratarata islamophobi...  \n",
       "4996  masjid lafadz allah dan wanita yang lekat deng...  \n",
       "4997  mulut yang selalu jual toleransi malah dia sen...  \n",
       "4998  kalo masalah fisik dan lisan masi bisa di tole...  \n",
       "4999  toleransi sebatas hanya slogan di indonesia ta...  \n",
       "\n",
       "[5000 rows x 3 columns]"
      ]
     },
     "execution_count": 84,
     "metadata": {},
     "output_type": "execute_result"
    }
   ],
   "source": [
    "data_train"
   ]
  },
  {
   "cell_type": "code",
   "execution_count": 85,
   "id": "4a6e87d0",
   "metadata": {},
   "outputs": [],
   "source": [
    "from sklearn.preprocessing import LabelEncoder\n",
    "\n",
    "class WeightedLossTrainer(Trainer):\n",
    "    def __init__(self, class_weights, *args, **kwargs):\n",
    "        super().__init__(*args, **kwargs)\n",
    "        self.class_weights = class_weights.to(self.args.device)\n",
    "\n",
    "    def compute_loss(self, model, inputs, return_outputs=False, **kwargs):\n",
    "        labels = inputs.get(\"labels\")\n",
    "        outputs = model(**inputs)\n",
    "        logits = outputs.get(\"logits\")\n",
    "\n",
    "        loss_fct = nn.CrossEntropyLoss(weight=self.class_weights)\n",
    "        loss = loss_fct(\n",
    "            logits.view(-1, self.model.config.num_labels),\n",
    "            labels.view(-1)\n",
    "        )\n",
    "        return (loss, outputs) if return_outputs else loss\n",
    "\n",
    "le = LabelEncoder()\n",
    "train_labels = le.fit_transform(data_train[\"label\"])  \n",
    "\n",
    "# sekarang train_labels sudah berupa integer array\n",
    "class_counts = np.bincount(train_labels)\n",
    "class_weights = torch.tensor(len(train_labels) / (len(class_counts) * class_counts),\n",
    "                             dtype=torch.float)"
   ]
  },
  {
   "cell_type": "code",
   "execution_count": 86,
   "id": "6e48df5b",
   "metadata": {},
   "outputs": [
    {
     "name": "stderr",
     "output_type": "stream",
     "text": [
      "Some weights of BertForSequenceClassification were not initialized from the model checkpoint at indolem/indobertweet-base-uncased and are newly initialized: ['classifier.bias', 'classifier.weight']\n",
      "You should probably TRAIN this model on a down-stream task to be able to use it for predictions and inference.\n"
     ]
    }
   ],
   "source": [
    "num_labels = len(np.unique(train_labels))\n",
    "\n",
    "id2label = {int(i): str(l) for i, l in enumerate(le.classes_)}\n",
    "label2id = {str(l): int(i) for i, l in enumerate(le.classes_)}\n",
    "\n",
    "model = AutoModelForSequenceClassification.from_pretrained(\n",
    "    model_name, \n",
    "    num_labels=len(id2label),\n",
    "    id2label=id2label,\n",
    "    label2id=label2id\n",
    ")\n"
   ]
  },
  {
   "cell_type": "code",
   "execution_count": 87,
   "id": "8c6188b9",
   "metadata": {},
   "outputs": [],
   "source": [
    "training_args = TrainingArguments(\n",
    "    output_dir=\"./results\",\n",
    "    eval_strategy=\"epoch\",\n",
    "    save_strategy=\"epoch\",\n",
    "    learning_rate=2e-5,\n",
    "    per_device_train_batch_size=16,\n",
    "    per_device_eval_batch_size=32,\n",
    "    num_train_epochs=4,\n",
    "    weight_decay=0.01,\n",
    "    load_best_model_at_end=True,\n",
    "    metric_for_best_model=\"balanced_accuracy\",\n",
    "    greater_is_better=True,\n",
    "    logging_dir=\"./logs\",\n",
    "    logging_steps=50,\n",
    ")"
   ]
  },
  {
   "cell_type": "code",
   "execution_count": 88,
   "id": "dd3d7bfc",
   "metadata": {},
   "outputs": [],
   "source": [
    "def compute_metrics(eval_pred):\n",
    "    logits, labels = eval_pred\n",
    "    preds = np.argmax(logits, axis=-1)\n",
    "    bal_acc = balanced_accuracy_score(labels, preds)\n",
    "    return {\"balanced_accuracy\": bal_acc}"
   ]
  },
  {
   "cell_type": "code",
   "execution_count": 89,
   "id": "849e1862",
   "metadata": {},
   "outputs": [
    {
     "name": "stderr",
     "output_type": "stream",
     "text": [
      "C:\\Users\\MSI_PC\\AppData\\Local\\Temp\\ipykernel_5788\\4083036657.py:5: FutureWarning: `tokenizer` is deprecated and will be removed in version 5.0.0 for `WeightedLossTrainer.__init__`. Use `processing_class` instead.\n",
      "  super().__init__(*args, **kwargs)\n"
     ]
    }
   ],
   "source": [
    "trainer = WeightedLossTrainer(\n",
    "    class_weights=class_weights,\n",
    "    model=model,\n",
    "    args=training_args,\n",
    "    train_dataset=train_dataset,\n",
    "    eval_dataset=val_dataset,\n",
    "    tokenizer=tokenizer,\n",
    "    compute_metrics=compute_metrics,\n",
    ")"
   ]
  },
  {
   "cell_type": "code",
   "execution_count": 90,
   "id": "01517cbb",
   "metadata": {},
   "outputs": [
    {
     "name": "stderr",
     "output_type": "stream",
     "text": [
      "c:\\Users\\MSI_PC\\anaconda3\\envs\\proyek_nlp\\lib\\site-packages\\torch\\utils\\data\\dataloader.py:666: UserWarning: 'pin_memory' argument is set as true but no accelerator is found, then device pinned memory won't be used.\n",
      "  warnings.warn(warn_msg)\n"
     ]
    },
    {
     "data": {
      "text/html": [
       "\n",
       "    <div>\n",
       "      \n",
       "      <progress value='1000' max='1000' style='width:300px; height:20px; vertical-align: middle;'></progress>\n",
       "      [1000/1000 1:52:56, Epoch 4/4]\n",
       "    </div>\n",
       "    <table border=\"1\" class=\"dataframe\">\n",
       "  <thead>\n",
       " <tr style=\"text-align: left;\">\n",
       "      <th>Epoch</th>\n",
       "      <th>Training Loss</th>\n",
       "      <th>Validation Loss</th>\n",
       "      <th>Balanced Accuracy</th>\n",
       "    </tr>\n",
       "  </thead>\n",
       "  <tbody>\n",
       "    <tr>\n",
       "      <td>1</td>\n",
       "      <td>1.388600</td>\n",
       "      <td>1.409698</td>\n",
       "      <td>0.522399</td>\n",
       "    </tr>\n",
       "    <tr>\n",
       "      <td>2</td>\n",
       "      <td>1.107700</td>\n",
       "      <td>1.335938</td>\n",
       "      <td>0.561942</td>\n",
       "    </tr>\n",
       "    <tr>\n",
       "      <td>3</td>\n",
       "      <td>0.833100</td>\n",
       "      <td>1.369681</td>\n",
       "      <td>0.563973</td>\n",
       "    </tr>\n",
       "    <tr>\n",
       "      <td>4</td>\n",
       "      <td>0.773900</td>\n",
       "      <td>1.365982</td>\n",
       "      <td>0.566197</td>\n",
       "    </tr>\n",
       "  </tbody>\n",
       "</table><p>"
      ],
      "text/plain": [
       "<IPython.core.display.HTML object>"
      ]
     },
     "metadata": {},
     "output_type": "display_data"
    },
    {
     "name": "stderr",
     "output_type": "stream",
     "text": [
      "c:\\Users\\MSI_PC\\anaconda3\\envs\\proyek_nlp\\lib\\site-packages\\torch\\utils\\data\\dataloader.py:666: UserWarning: 'pin_memory' argument is set as true but no accelerator is found, then device pinned memory won't be used.\n",
      "  warnings.warn(warn_msg)\n",
      "c:\\Users\\MSI_PC\\anaconda3\\envs\\proyek_nlp\\lib\\site-packages\\torch\\utils\\data\\dataloader.py:666: UserWarning: 'pin_memory' argument is set as true but no accelerator is found, then device pinned memory won't be used.\n",
      "  warnings.warn(warn_msg)\n",
      "c:\\Users\\MSI_PC\\anaconda3\\envs\\proyek_nlp\\lib\\site-packages\\torch\\utils\\data\\dataloader.py:666: UserWarning: 'pin_memory' argument is set as true but no accelerator is found, then device pinned memory won't be used.\n",
      "  warnings.warn(warn_msg)\n"
     ]
    },
    {
     "data": {
      "text/plain": [
       "TrainOutput(global_step=1000, training_loss=1.1222579040527343, metrics={'train_runtime': 6784.1745, 'train_samples_per_second': 2.358, 'train_steps_per_second': 0.147, 'total_flos': 1052500918272000.0, 'train_loss': 1.1222579040527343, 'epoch': 4.0})"
      ]
     },
     "execution_count": 90,
     "metadata": {},
     "output_type": "execute_result"
    }
   ],
   "source": [
    "trainer.train()\n"
   ]
  },
  {
   "cell_type": "code",
   "execution_count": 98,
   "id": "da140fba",
   "metadata": {},
   "outputs": [
    {
     "name": "stderr",
     "output_type": "stream",
     "text": [
      "c:\\Users\\MSI_PC\\anaconda3\\envs\\proyek_nlp\\lib\\site-packages\\torch\\utils\\data\\dataloader.py:666: UserWarning: 'pin_memory' argument is set as true but no accelerator is found, then device pinned memory won't be used.\n",
      "  warnings.warn(warn_msg)\n"
     ]
    },
    {
     "data": {
      "text/html": [],
      "text/plain": [
       "<IPython.core.display.HTML object>"
      ]
     },
     "metadata": {},
     "output_type": "display_data"
    }
   ],
   "source": [
    "preds = trainer.predict(test_dataset).predictions\n",
    "final_preds = np.argmax(preds, axis=-1)"
   ]
  },
  {
   "cell_type": "code",
   "execution_count": 99,
   "id": "19a4d1b9",
   "metadata": {},
   "outputs": [],
   "source": [
    "preds_lr_test = lr.predict(x_test)\n",
    "final_preds_ens = []\n",
    "for i in range(len(final_preds)):\n",
    "    if final_preds[i] == preds_lr_test[i]:\n",
    "        final_preds_ens.append(final_preds[i])\n",
    "    else:\n",
    "        # fallback to BERT (lebih kuat)\n",
    "        final_preds_ens.append(final_preds[i])\n"
   ]
  },
  {
   "cell_type": "code",
   "execution_count": 100,
   "id": "c4619ffa",
   "metadata": {},
   "outputs": [],
   "source": [
    "submission_ens = sample_sub.copy()\n",
    "submission_ens[\"label\"] = le.inverse_transform(final_preds_ens)\n",
    "submission_ens.to_csv(\"submission_12.csv\", index=False)"
   ]
  },
  {
   "cell_type": "code",
   "execution_count": 101,
   "id": "c77be457",
   "metadata": {},
   "outputs": [],
   "source": [
    "submission_ens = sample_sub.copy()\n",
    "submission_ens[\"label\"] = le.inverse_transform(final_preds_ens)\n",
    "submission_ens.to_csv(\"submission_12.csv\", index=False)"
   ]
  },
  {
   "cell_type": "code",
   "execution_count": 109,
   "id": "fc34bbc2",
   "metadata": {},
   "outputs": [
    {
     "data": {
      "application/vnd.microsoft.datawrangler.viewer.v0+json": {
       "columns": [
        {
         "name": "index",
         "rawType": "int64",
         "type": "integer"
        },
        {
         "name": "label",
         "rawType": "int64",
         "type": "integer"
        }
       ],
       "ref": "347364d3-785b-4d16-a35a-25db39c3edb8",
       "rows": [
        [
         "0",
         "2"
        ],
        [
         "1",
         "2"
        ],
        [
         "2",
         "2"
        ],
        [
         "3",
         "2"
        ],
        [
         "4",
         "2"
        ],
        [
         "5",
         "2"
        ],
        [
         "6",
         "2"
        ],
        [
         "7",
         "2"
        ],
        [
         "8",
         "2"
        ],
        [
         "9",
         "2"
        ],
        [
         "10",
         "2"
        ],
        [
         "11",
         "2"
        ],
        [
         "12",
         "2"
        ],
        [
         "13",
         "2"
        ],
        [
         "14",
         "2"
        ],
        [
         "15",
         "2"
        ],
        [
         "16",
         "2"
        ],
        [
         "17",
         "2"
        ],
        [
         "18",
         "5"
        ],
        [
         "19",
         "5"
        ],
        [
         "20",
         "5"
        ],
        [
         "21",
         "5"
        ],
        [
         "22",
         "5"
        ],
        [
         "23",
         "5"
        ],
        [
         "24",
         "5"
        ],
        [
         "25",
         "5"
        ],
        [
         "26",
         "5"
        ],
        [
         "27",
         "5"
        ],
        [
         "28",
         "5"
        ],
        [
         "29",
         "5"
        ],
        [
         "30",
         "5"
        ],
        [
         "31",
         "5"
        ],
        [
         "32",
         "5"
        ],
        [
         "33",
         "5"
        ],
        [
         "34",
         "5"
        ],
        [
         "35",
         "5"
        ],
        [
         "36",
         "3"
        ],
        [
         "37",
         "3"
        ],
        [
         "38",
         "3"
        ],
        [
         "39",
         "3"
        ],
        [
         "40",
         "3"
        ],
        [
         "41",
         "3"
        ],
        [
         "42",
         "3"
        ],
        [
         "43",
         "3"
        ],
        [
         "44",
         "3"
        ],
        [
         "45",
         "3"
        ],
        [
         "46",
         "3"
        ],
        [
         "47",
         "3"
        ],
        [
         "48",
         "3"
        ],
        [
         "49",
         "3"
        ]
       ],
       "shape": {
        "columns": 1,
        "rows": 5000
       }
      },
      "text/plain": [
       "0       2\n",
       "1       2\n",
       "2       2\n",
       "3       2\n",
       "4       2\n",
       "       ..\n",
       "4995    0\n",
       "4996    0\n",
       "4997    0\n",
       "4998    3\n",
       "4999    0\n",
       "Name: label, Length: 5000, dtype: int64"
      ]
     },
     "execution_count": 109,
     "metadata": {},
     "output_type": "execute_result"
    }
   ],
   "source": [
    "encode_baru = le.fit_transform(data_train['label'])\n",
    "encode_baru\n",
    "data_train['label']"
   ]
  },
  {
   "cell_type": "code",
   "execution_count": 112,
   "id": "19a3e6bf",
   "metadata": {},
   "outputs": [
    {
     "data": {
      "application/vnd.microsoft.datawrangler.viewer.v0+json": {
       "columns": [
        {
         "name": "index",
         "rawType": "int64",
         "type": "integer"
        },
        {
         "name": "text",
         "rawType": "object",
         "type": "string"
        },
        {
         "name": "label",
         "rawType": "object",
         "type": "string"
        }
       ],
       "ref": "4686ff8c-e193-4391-948f-cb6b2eba6ed8",
       "rows": [
        [
         "0",
         "@hyalfay @NatharElyas @BosPurwa @NatharElyas @BosPurwa Prabowo menang di 2024 karena strategi cerdas: media sosial ubah imej jadi gemoy buat anak muda aliansi sama Gibran anak Jokowi iklan digital besar dan nyambung budaya gotong royong . Dapet 58 58% sua",
         "ideologi"
        ],
        [
         "1",
         "@sienchao @Sherly0ctaviany @jokowi Halo @Sienchao @Sherly0ctaviany mungkin terus mengangkat isu negatif Jokowi karena aktivisme politik atau ketidakpuasan dengan kepemimpinannya fokus pada korupsi dan kemunduran demokrasi. Kontennya mirip dengan akun lain",
         "ideologi"
        ],
        [
         "2",
         "@giovannikurnwn @BudiBukanIntel Nama Budi BerlarI mungkin mencerminkan sikap kritis @BudiBukanIntel terhadap pemerintah khususnya RUU KUHAP dan RUU POLRI yang kontroversial. Kedua RUU ini dikritik karena bisa memperluas kuasa polisi dan mengancam kebebasa",
         "ideologi"
        ],
        [
         "3",
         "@LeotardosMy @easyanying Kita akui keberhasilannya kita akui juga kekurangan. Gue gak terlalu peduli para pengkritik Jokowi atau pemerintah saat ini. Dalam demokrasi pro-kontra itu hal biasa bagi gue. Makanya gue juga jarang bahas soal mereka. Fokus kita ",
         "ideologi"
        ],
        [
         "4",
         "@LuckyGaben @susipudjiastuti @prabowo Indonesia masih bisa menuju kesuksesan tapi RUU TNI dan dwifungsi bikin khawatir. Upaya lawan judi online positif tapi perluasan peran militer di pemerintahan dan aktivis yang diam bisa jadi tanda mundur demokrasi. Pe",
         "ideologi"
        ],
        [
         "5",
         "Kalo gua bukan buzzer. Dukungan kita terhadap capres-cawapres hanya sebatas pada saat pesta demokrasi itu dimulai. Terlepas dari itu jika sudah selesai. Maka dukungan juga selesai. Biarkan yang menang bekerja dlm jabatannya selama 5 th. Jadi ya gak terlalu aktif bahas politik..",
         "ideologi"
        ],
        [
         "6",
         "@zarryhendrik Maaf saya tidak bisa menjelaskan dalam bahasa Minahasa karena kurangnya sumber daya terjemahan online untuk bahasa seperti Tondano. Dalam bahasa Indonesia: Kolaborasi mendukung demokrasi dengan memungkinkan partisipasi warga dalam pengambila",
         "ideologi"
        ],
        [
         "7",
         "@PekPekok @kompascom Berita tentang putusan Mahkamah Konstitusi bahwa kerusuhan digital di media sosial bukan tindak pidana menurut UU ITE tampaknya baik bagi masyarakat. Putusan ini melindungi kebebasan berpendapat memungkinkan warga Indonesia berekspres",
         "ideologi"
        ],
        [
         "8",
         "@virdianaurellio Mantap KK buzzer2 sok keras di twitter juga sepertinya perlu diajak debat online adu gagasan seperti ini biar rakyat bisa menilai serta nisa tahu Akun2 buzzer itu manusianya seperti apa bentuknya dan wawasannya sejauh mana ttg NKRI dan de",
         "ideologi"
        ],
        [
         "9",
         "@Rahwana060810 Di Jerman: Kampus punya portal verifikasi online. Di AS: Presiden publikasi transkrip nilai. Di Indonesia? 'Udah percaya saja' + hina yang bertanya. Kita mau pake standar mana? *Demokrasi bukan sekadar 'percaya partai' tapi hak publik memas",
         "ideologi"
        ],
        [
         "10",
         "@BosPurwa Akhirnya! MK menegaskan bahwa dinamika kritik dan opini di media sosial bukan kerusuhan yang bisa dipidana pakai UU ITE. Ini kemenangan kecil untuk kebebasan berekspresi di ruang digital. Demokrasi memang kadang gaduh tapi justru di situlah nafa",
         "ideologi"
        ],
        [
         "11",
         "@zrs28_ Jika pemilih cerdas Anies Baswedan kemungkinan menang pilpres 2024 dengan platform reformasinya. Namun Prabowo Subianto menang dengan 59% suara lanjutkan kebijakan Jokowi meski ada kontroversi pelanggaran HAM. Ganjar Pranowo dapat 16% fokus keseja",
         "ideologi"
        ],
        [
         "12",
         "@sukangawoorrrr @narkosun Situasi politik dan ekonomi Indonesia tahun 2025 dilihat positif dunia. Politik stabil di bawah Prabowo demokrasi kuat meski ada isu pengawasan. Ekonomi tumbuh 5 1% terbesar di ASEAN didukung konsumsi dan investasi. Isu judi onli",
         "ideologi"
        ],
        [
         "13",
         "@OposisiCerdas Buktinya apa (cacat etik)? Kecuali presiden perintahkan kapolri dan kejagung usut akun fufufafa tsb! Indonesi negara berdsrkan Pancasila tdk kompromi dgn siapapun presiden/wapres rekam jejak digital medsos narasi2 kotor biadab utk diproses ",
         "ideologi"
        ],
        [
         "14",
         "Harga harga stabil apanya yang gelap ohjya hati dan pikiran kaliann yang gelap masih bisa online dan bebas berkata apapun berati demokrasi masih sehat",
         "ideologi"
        ],
        [
         "15",
         "@radjathaher ya sebenernya mereka masi ada senjata lain kalo warga internet dah ga percaya . senjata mereka warga2 desa/kampung makanya dl budget kampanye nya gede jd bisa ngasi bansos warga2 yg ga kejangkau internet dan jumlahnya banyaak. dan bakal nurut",
         "ideologi"
        ],
        [
         "16",
         "@rudi_alexander @yusuf_dumdum @DedynurPalakka Kalau gue ikut pemilu 2024 kayaknya gue bakal pilih Anies Baswedan. Dia punya rekam jejak kuat di inovasi digital dan e-governance plus komitmen ke hak asasi manusia. Prabowo punya ide kota inovasi tapi kontro",
         "ideologi"
        ],
        [
         "17",
         "@ardianTaka @Homo_sapiens21 @logos_id @ardianTaka @Homo_sapiens21 @logos_id Tenang belum ada bukti X akan dilarang di Indonesia gara-gara bahas tambang ilegal atau korupsi. Fokus pemerintah sekarang ke perlindungan anak dan e-commerce bukan konten seperti",
         "ideologi"
        ],
        [
         "18",
         "@HariPandowo @mikuroQ Harapan untuk menyelamatkan Indonesia ada pada reformasi ekonomi dan program sosial Prabowo seperti pertumbuhan 8% dan makan gratis untuk 82 juta orang. Pelatihan digital untuk 9 juta pemuda bisa turunkan pengangguran sementara langk",
         "pertahanan"
        ],
        [
         "19",
         "@Reinn_shere UU TNI yang sudah direvisi Maret 2025 punya manfaat tapi juga risiko. Positifnya memperkuat keamanan nasional seperti pertahanan siber dan perlindungan WNI di luar negeri misalnya di Taiwan. Ini sejalan dengan visi Indonesia Emas 2045. Namun ",
         "pertahanan"
        ],
        [
         "20",
         "@jondhez @kring_pajak @DitjenPajakRI bukti lainnya bahwa keamanan siber kita gak ada aman2nya sama sekali bahkan setelah tuh Parjo mulai masuk ke ranah siber",
         "pertahanan"
        ],
        [
         "21",
         "@zupp4zup Masalah publik lain di administrasi publik adalah kebutuhan akan langkah keamanan siber yang kuat untuk melindungi data pemerintah dari ancaman siber seperti pelanggaran data dan ransomware. Ini melibatkan lembaga publik profesional keamanan sib",
         "pertahanan"
        ],
        [
         "22",
         "@LahrianSyahilla Masyarakat berharap kepemimpinan ini tidak hanya menjadi simbolis tetapi juga menghasilkan langkah nyata seperti pengembangan energi terbarukan investasi pada infrastruktur hijau dan percepatan inovasi teknologi energi bersih.",
         "pertahanan"
        ],
        [
         "23",
         "@ValNOFX86 Teknologi energi fusi berpotensi sangat bermanfaat dalam 30-50 tahun ke depan menawarkan sumber energi bersih dan melimpah yang bisa mengatasi perubahan iklim. Diperkirakan pada 2055-2075 fusi bisa jadi layak secara komersial menghasilkan daya ",
         "pertahanan"
        ],
        [
         "24",
         "@LahrianSyahilla Di tengah kebutuhan akan energi bersih dan efisiensi penggunaan teknologi canggih seperti AI menunjukkan bahwa Indonesia siap beradaptasi dengan perkembangan zaman.",
         "pertahanan"
        ],
        [
         "25",
         "@alphomega_ Program kerja 2025 fokus pada pertumbuhan ekonomi lewat infrastruktur transformasi digital dukungan UMKM dan energi hijau. Meski ada efisiensi anggaran (contoh: potong dana PUPR jadi Rp 76T) pemerintah tetap dorong program seperti makan gratis",
         "pertahanan"
        ],
        [
         "26",
         "@LahrianSyahilla Langkah ini menunjukkan komitmen Pertamina terhadap transisi energi bersih dan pemanfaatan teknologi modern demi efisiensi serta keberlanjutan lingkungan.",
         "pertahanan"
        ],
        [
         "27",
         "@Dafyasyah1 @UstadzWaloni emangnya yg punya minyak bumi cuma arab. skr jg sdh banyak negara yg jg penghasil minyak bumi. bahkan dunia bergeser ke teknologi energi bersih.",
         "pertahanan"
        ],
        [
         "28",
         "Dengan kerja sama energi Indonesia bisa dapet alih teknologi buat produksi energi bersih #KunjunganTimtengTurkiyePrabowo",
         "pertahanan"
        ],
        [
         "29",
         "Wes to... Rasah fafifu masalah energi... Mau bersih dan murah ya nuklir Mau kotor dan murah ya batubara Sisanya ya mahal... Kecuali udah bisa bedah teknologi UFO...",
         "pertahanan"
        ],
        [
         "30",
         "@EkoPurwanto001 @V3g3L Halo Bang Stepen! Carbon trading itu sistem jual-beli kredit karbon untuk kurangi emisi gas rumah kaca. Manfaatnya buat masa depan umat manusia: - Kurangi pemanasan global lewat batas emisi. - Dorong inovasi teknologi bersih seperti",
         "pertahanan"
        ],
        [
         "31",
         "Mantap! Pembentukan Satgas Transisi Energi dan Ekonomi Hijau dalam kerangka JETP menunjukkan komitmen pemerintah yang makin konkret. Tantangannya sekarang ada di implementasi: apakah transisinya benar-benar mengarah ke energi bersih bukan sekadar penghijauan dari teknologi",
         "pertahanan"
        ],
        [
         "32",
         "@Seputar_Energi_ Inovasi kayak gini yang bikin optimis. Energi bersih bukan cuma wacana tapi dibarengi aksi nyata dan teknologi!",
         "pertahanan"
        ],
        [
         "33",
         "Dengan fokus pada pengembangan infrastruktur global kebijakan serta teknologi-teknologi terbaru di industri hidrogen GHES 2025 bertujuan menciptakan ekosistem kolaboratif guna mempercepat transisi menuju energi bersih. Para peserta akan mengikuti berbagai sesi panel pameran",
         "pertahanan"
        ],
        [
         "34",
         "Menyoroti penyalahgunaan NIK dan solusinya ganti eSIM? Yang ngebocorin data siapa cobaaa Yang perlu belajar keamanan siber siapa cobaaa Nomorku angka cantik dari pertama punya hape",
         "pertahanan"
        ],
        [
         "35",
         "@mpwichi @YokL97 @_riverheaven laut yg menyusahkan nelayan. Pendidikan juga bukan prioritas di masanya. Yg marak korupsi judol dan oinjol. Padahal di masa sby gak ada yg namanya judol dan pinjol. Bagaimana teknologi pertanian mau maju pemerintah sendiri t",
         "pertahanan"
        ],
        [
         "36",
         "@DigitalVibesID @guntara_yudi Uang menguap karena kebiasaan belanja impulsif kurang lacak pengeluaran biaya tak terduga investasi berisiko dan inflasi. Di Indonesia pembayaran digital dan budaya konsumerisme mempercepat pengeluaran tapi banyak yang mulai ",
         "pekerjaan"
        ],
        [
         "37",
         "@dev1ra Keren ya! Remote work di Indonesia masih trending di 2025 terutama model hybrid soalnya orang suka fleksibel tapi perusahaan tetap butuh kolaborasi. Infrastruktur sama budaya face-to-face jadi tantangan tapi tools digital bantu banget. AI dipakai ",
         "pekerjaan"
        ],
        [
         "38",
         "@BigAlphaID Kebijakan tarif ini nggak bakal langsung membuat pabrik US yg ada di RRT pindah ke dalam negeri untuk menghindari tarif. Industri high-tech macam Foxcon itu sudah super effisien dimana pengerjaannya sudah otomasi diatas 80% untuk proses produk",
         "pekerjaan"
        ],
        [
         "39",
         "@ravelyeib @HannahDCox @hoteliercrypto Halo bro manufaktur AS turun karena globalisasi otomasi dan biaya tenaga kerja tinggi. Tarif mungkin melindungi industri tertentu tapi nggak cukup buat balikin manufaktur kayak dulu. Soalnya rantai pasok global udah ",
         "pekerjaan"
        ],
        [
         "40",
         "@zky_mul Menurutku saat ini mechatronics engineer paling banyak diminati karena perkembangan otomasi dan robotik yang pesat. Mereka menggabungkan keahlian mekanik elektrik dan elektronik sesuai kebutuhan industri modern. Mechanical dan electrical engineer",
         "pekerjaan"
        ],
        [
         "41",
         "@AiraNtieReal Katanya hilirisasi digital jalanan aja masih kayak kumbangan gitu... Jln toll dibangun trus rakyat di suruh bayar kalau mau lewat jalan rata beraspal... Ada yg berdagang dgn rakyatnya",
         "pekerjaan"
        ],
        [
         "42",
         "Sampe detik ini ga ada statement minimal apresiasi ke film ini. . pdahal janji politiknya ekonomi kreatif - hilirisasi digital . @gibran_tweet ?",
         "pekerjaan"
        ],
        [
         "43",
         "@Daffa_rffdhl @arifin34533 Saya lebih setuju dengan QRIS untuk Indonesia karena lebih adil dan simpel. QRIS punya biaya transaksi rendah cocok untuk UMKM dan data tetap di Indonesia mendukung kedaulatan ekonomi. Konsumen bisa bayar pakai dompet digital mu",
         "pekerjaan"
        ],
        [
         "44",
         "@prabowo Pemerintah Indonesia harusnya memperketat pengawasan terhadap e-commerce dari Luar negeri yg ada di Indonesia agar mereka tidak gegabah membuat aturan dan merugikan seller di Indonesia. Jangan sampai kebablasan seperti bbrp THN yg lalu mereka mas",
         "pekerjaan"
        ],
        [
         "45",
         "@Annf04 @ayalogi Lebih baik investasi di sektor yang tumbuh cepat seperti manufaktur ekonomi digital dan energi terbarukan karena didukung pemerintah dan proyeksi 2025. Real estate dan UMKM juga menarik terutama dengan urbanisasi. Diversifikasi penting un",
         "pekerjaan"
        ],
        [
         "46",
         "@Setiawan6251ya1 @AgusYudhoyono Konektivitas di sini maksudnya memperkuat infrastruktur fisik (jalan pelabuhan) dan digital (internet 5G satelit) untuk dorong perdagangan dan komunikasi di Asia. Wilayah seperti Asia Tenggara (Vietnam Indonesia Kamboja) As",
         "pekerjaan"
        ],
        [
         "47",
         "@saossamballll Kalo belum kerja coba fokus ke bidang teknologi atau e-commerce kayak cybersecurity atau digital marketing soalnya lagi booming di Indonesia. Bisa belajar skill baru lewat kursus online gratis di Coursera atau YouTube misalnya Python atau d",
         "pekerjaan"
        ],
        [
         "48",
         "@ningrat1590214 @kegblgnunfaedh Sugeng rawuh Mas/Mbak @ningrat1590214 Indonesia bisa maju kaya China kanthi effort ing pendidikan teknologi lan infrastruktur. Ekonomi digital diprediksi $146 milyar taun 2025 (McKinsey). Pemerintah fokus ing internet lan 5",
         "pekerjaan"
        ],
        [
         "49",
         "@hsenlee3 @GA_1123455 @asumsico Sektor bisnis yang bagus di Indonesia tahun 2025 meliputi pariwisata e-commerce fintech energi terbarukan kesehatan teknologi dan jasa. Pariwisata didukung investasi pemerintah e-commerce dan fintech tumbuh pesat karena pop",
         "pekerjaan"
        ]
       ],
       "shape": {
        "columns": 2,
        "rows": 5000
       }
      },
      "text/html": [
       "<div>\n",
       "<style scoped>\n",
       "    .dataframe tbody tr th:only-of-type {\n",
       "        vertical-align: middle;\n",
       "    }\n",
       "\n",
       "    .dataframe tbody tr th {\n",
       "        vertical-align: top;\n",
       "    }\n",
       "\n",
       "    .dataframe thead th {\n",
       "        text-align: right;\n",
       "    }\n",
       "</style>\n",
       "<table border=\"1\" class=\"dataframe\">\n",
       "  <thead>\n",
       "    <tr style=\"text-align: right;\">\n",
       "      <th></th>\n",
       "      <th>text</th>\n",
       "      <th>label</th>\n",
       "    </tr>\n",
       "  </thead>\n",
       "  <tbody>\n",
       "    <tr>\n",
       "      <th>0</th>\n",
       "      <td>@hyalfay @NatharElyas @BosPurwa @NatharElyas @...</td>\n",
       "      <td>ideologi</td>\n",
       "    </tr>\n",
       "    <tr>\n",
       "      <th>1</th>\n",
       "      <td>@sienchao @Sherly0ctaviany @jokowi Halo @Sienc...</td>\n",
       "      <td>ideologi</td>\n",
       "    </tr>\n",
       "    <tr>\n",
       "      <th>2</th>\n",
       "      <td>@giovannikurnwn @BudiBukanIntel Nama Budi Berl...</td>\n",
       "      <td>ideologi</td>\n",
       "    </tr>\n",
       "    <tr>\n",
       "      <th>3</th>\n",
       "      <td>@LeotardosMy @easyanying Kita akui keberhasila...</td>\n",
       "      <td>ideologi</td>\n",
       "    </tr>\n",
       "    <tr>\n",
       "      <th>4</th>\n",
       "      <td>@LuckyGaben @susipudjiastuti @prabowo Indonesi...</td>\n",
       "      <td>ideologi</td>\n",
       "    </tr>\n",
       "    <tr>\n",
       "      <th>...</th>\n",
       "      <td>...</td>\n",
       "      <td>...</td>\n",
       "    </tr>\n",
       "    <tr>\n",
       "      <th>4995</th>\n",
       "      <td>Memang kristen zionis itu rata-rata IslamoPhob...</td>\n",
       "      <td>harmoni</td>\n",
       "    </tr>\n",
       "    <tr>\n",
       "      <th>4996</th>\n",
       "      <td>Masjid Lafadz Allah Dan wanita yang lekat deng...</td>\n",
       "      <td>harmoni</td>\n",
       "    </tr>\n",
       "    <tr>\n",
       "      <th>4997</th>\n",
       "      <td>@_MbakSri_ Mulut yang selalu jual toleransi ma...</td>\n",
       "      <td>harmoni</td>\n",
       "    </tr>\n",
       "    <tr>\n",
       "      <th>4998</th>\n",
       "      <td>@itsmesoya_ kalo masalah fisik dan lisan masi ...</td>\n",
       "      <td>pekerjaan</td>\n",
       "    </tr>\n",
       "    <tr>\n",
       "      <th>4999</th>\n",
       "      <td>Toleransi sebatas hanya SLOGAN DI INDONESIA ta...</td>\n",
       "      <td>harmoni</td>\n",
       "    </tr>\n",
       "  </tbody>\n",
       "</table>\n",
       "<p>5000 rows × 2 columns</p>\n",
       "</div>"
      ],
      "text/plain": [
       "                                                   text      label\n",
       "0     @hyalfay @NatharElyas @BosPurwa @NatharElyas @...   ideologi\n",
       "1     @sienchao @Sherly0ctaviany @jokowi Halo @Sienc...   ideologi\n",
       "2     @giovannikurnwn @BudiBukanIntel Nama Budi Berl...   ideologi\n",
       "3     @LeotardosMy @easyanying Kita akui keberhasila...   ideologi\n",
       "4     @LuckyGaben @susipudjiastuti @prabowo Indonesi...   ideologi\n",
       "...                                                 ...        ...\n",
       "4995  Memang kristen zionis itu rata-rata IslamoPhob...    harmoni\n",
       "4996  Masjid Lafadz Allah Dan wanita yang lekat deng...    harmoni\n",
       "4997  @_MbakSri_ Mulut yang selalu jual toleransi ma...    harmoni\n",
       "4998  @itsmesoya_ kalo masalah fisik dan lisan masi ...  pekerjaan\n",
       "4999  Toleransi sebatas hanya SLOGAN DI INDONESIA ta...    harmoni\n",
       "\n",
       "[5000 rows x 2 columns]"
      ]
     },
     "execution_count": 112,
     "metadata": {},
     "output_type": "execute_result"
    }
   ],
   "source": [
    "data_train_2 = pd.read_csv(r\"E:\\Lomba\\ANFORCOM DDSC COMPETITION 2025 - PENYISIHAN\\penyisihan-ddsc25\\train.csv\")\n",
    "data_train_2"
   ]
  },
  {
   "cell_type": "code",
   "execution_count": null,
   "id": "9bf0b4c4",
   "metadata": {},
   "outputs": [
    {
     "name": "stdout",
     "output_type": "stream",
     "text": [
      "Mapping: {np.int64(0): 'harmoni', np.int64(1): 'hilirisasi', np.int64(2): 'ideologi', np.int64(3): 'pekerjaan', np.int64(4): 'pemerataan', np.int64(5): 'pertahanan', np.int64(6): 'reformasi', np.int64(7): 'sdm'}\n"
     ]
    }
   ],
   "source": [
    "le = LabelEncoder()\n",
    "data_train_2[\"label_encoded\"] = le.fit_transform(data_train_2[\"label\"])\n",
    "\n",
    "\n",
    "label_mapping = dict(zip(le.transform(le.classes_), le.classes_))\n",
    "print(\"Mapping:\", label_mapping)\n",
    "\n",
    "final_preds_labels = [label_mapping[p] for p in final_preds]\n",
    "final_preds_ens_labels = [label_mapping[p] for p in final_preds_ens]\n",
    "\n",
    "submission_ens = sample_sub.copy()\n",
    "submission_ens[\"label\"] = final_preds_ens_labels\n",
    "submission_ens.to_csv(\"submission_12.csv\", index=False)"
   ]
  }
 ],
 "metadata": {
  "kernelspec": {
   "display_name": "proyek_nlp",
   "language": "python",
   "name": "python3"
  },
  "language_info": {
   "codemirror_mode": {
    "name": "ipython",
    "version": 3
   },
   "file_extension": ".py",
   "mimetype": "text/x-python",
   "name": "python",
   "nbconvert_exporter": "python",
   "pygments_lexer": "ipython3",
   "version": "3.9.23"
  }
 },
 "nbformat": 4,
 "nbformat_minor": 5
}
