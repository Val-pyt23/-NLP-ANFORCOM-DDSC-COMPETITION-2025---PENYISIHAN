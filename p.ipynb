{
 "cells": [
  {
   "cell_type": "code",
   "execution_count": 24,
   "id": "1fd66416",
   "metadata": {},
   "outputs": [],
   "source": [
    "import numpy as np\n",
    "import torch\n",
    "from torch.utils.data import DataLoader\n",
    "from transformers import AutoTokenizer, AutoModelForSequenceClassification, Trainer, TrainingArguments\n",
    "from sklearn.metrics import balanced_accuracy_score\n",
    "from sklearn.preprocessing import LabelEncoder\n",
    "import pandas as pd \n",
    "import re\n",
    "from sklearn.model_selection import train_test_split\n",
    "import optuna\n",
    "from datasets import Dataset as HFDataset"
   ]
  },
  {
   "cell_type": "code",
   "execution_count": 25,
   "id": "5bb4bb2f",
   "metadata": {},
   "outputs": [],
   "source": [
    "train = pd.read_csv(r\"E:\\Lomba\\ANFORCOM DDSC COMPETITION 2025 - PENYISIHAN\\penyisihan-ddsc25\\train.csv\")\n",
    "test = pd.read_csv(r\"E:\\Lomba\\ANFORCOM DDSC COMPETITION 2025 - PENYISIHAN\\penyisihan-ddsc25\\test.csv\")"
   ]
  },
  {
   "cell_type": "code",
   "execution_count": 26,
   "id": "8de6feb1",
   "metadata": {},
   "outputs": [],
   "source": [
    "le = LabelEncoder()\n",
    "train[\"label_enc\"] = le.fit_transform(train[\"label\"])"
   ]
  },
  {
   "cell_type": "code",
   "execution_count": null,
   "id": "f3ebc720",
   "metadata": {},
   "outputs": [],
   "source": [
    "slang_dict = {\n",
    "    \"gak\": \"tidak\",\n",
    "    \"ga\": \"tidak\",\n",
    "    \"nggak\": \"tidak\",\n",
    "    \"aja\": \"saja\",\n",
    "    \"tp\": \"tapi\",\n",
    "    \"yg\": \"yang\",\n",
    "    \"dgn\": \"dengan\",\n",
    "    \"dlm\": \"dalam\",\n",
    "    \"utk\": \"untuk\",\n",
    "    \"jg\": \"juga\",\n",
    "    \"tdk\": \"tidak\",\n",
    "    \"sdh\": \"sudah\",\n",
    "    \"blm\": \"belum\"\n",
    "}\n",
    "\n",
    "def normalize_slang(text):\n",
    "    tokens = text.split()\n",
    "    return \" \".join([slang_dict.get(t, t) for t in tokens])\n",
    "\n",
    "def clean_text(text):\n",
    "    text = re.sub(r\"http\\S+|www\\S+|https\\S+\", \"\", text)  # remove URL\n",
    "    text = re.sub(r\"@\\w+\", \"\", text)  # remove username\n",
    "    text = re.sub(r\"#\\w+\", \"\", text)  # remove hashtag\n",
    "    text = re.sub(r\"[^A-Za-z0-9\\s]\", \" \", text)  # remove special char\n",
    "    return text.strip()\n",
    "\n",
    "def add_features(df):\n",
    "    df['text_clean'] = df['text'].apply(normalize_slang)\n",
    "    df[\"text_clean\"] = df[\"text_clean\"].apply(clean_text)\n",
    "    df[\"text_len\"] = df[\"text_clean\"].apply(len)\n",
    "    df[\"word_count\"] = df[\"text_clean\"].apply(lambda x: len(x.split()))\n",
    "    df[\"capital_ratio\"] = df[\"text\"].apply(lambda x: sum(1 for c in x if c.isupper()) / (len(x)+1))\n",
    "    return df"
   ]
  },
  {
   "cell_type": "code",
   "execution_count": 28,
   "id": "15841c4e",
   "metadata": {},
   "outputs": [],
   "source": [
    "train = add_features(train)\n",
    "test = add_features(test)"
   ]
  },
  {
   "cell_type": "code",
   "execution_count": 29,
   "id": "d6c23d82",
   "metadata": {},
   "outputs": [
    {
     "data": {
      "application/vnd.microsoft.datawrangler.viewer.v0+json": {
       "columns": [
        {
         "name": "index",
         "rawType": "int64",
         "type": "integer"
        },
        {
         "name": "text",
         "rawType": "object",
         "type": "string"
        },
        {
         "name": "label",
         "rawType": "object",
         "type": "string"
        },
        {
         "name": "label_enc",
         "rawType": "int64",
         "type": "integer"
        },
        {
         "name": "text_clean",
         "rawType": "object",
         "type": "string"
        },
        {
         "name": "text_len",
         "rawType": "int64",
         "type": "integer"
        },
        {
         "name": "word_count",
         "rawType": "int64",
         "type": "integer"
        },
        {
         "name": "capital_ratio",
         "rawType": "float64",
         "type": "float"
        }
       ],
       "ref": "5c0d73a9-36a6-47a2-8f87-2b24f996bf80",
       "rows": [
        [
         "0",
         "@hyalfay @NatharElyas @BosPurwa @NatharElyas @BosPurwa Prabowo menang di 2024 karena strategi cerdas: media sosial ubah imej jadi gemoy buat anak muda aliansi sama Gibran anak Jokowi iklan digital besar dan nyambung budaya gotong royong . Dapet 58 58% sua",
         "ideologi",
         "2",
         "Prabowo menang di 2024 karena strategi cerdas  media sosial ubah imej jadi gemoy buat anak muda aliansi sama Gibran anak Jokowi iklan digital besar dan nyambung budaya gotong royong   Dapet 58 58  sua",
         "200",
         "33",
         "0.046875"
        ],
        [
         "1",
         "@sienchao @Sherly0ctaviany @jokowi Halo @Sienchao @Sherly0ctaviany mungkin terus mengangkat isu negatif Jokowi karena aktivisme politik atau ketidakpuasan dengan kepemimpinannya fokus pada korupsi dan kemunduran demokrasi. Kontennya mirip dengan akun lain",
         "ideologi",
         "2",
         "Halo   mungkin terus mengangkat isu negatif Jokowi karena aktivisme politik atau ketidakpuasan dengan kepemimpinannya fokus pada korupsi dan kemunduran demokrasi  Kontennya mirip dengan akun lain",
         "195",
         "25",
         "0.0234375"
        ],
        [
         "2",
         "@giovannikurnwn @BudiBukanIntel Nama Budi BerlarI mungkin mencerminkan sikap kritis @BudiBukanIntel terhadap pemerintah khususnya RUU KUHAP dan RUU POLRI yang kontroversial. Kedua RUU ini dikritik karena bisa memperluas kuasa polisi dan mengancam kebebasa",
         "ideologi",
         "2",
         "Nama Budi BerlarI mungkin mencerminkan sikap kritis  terhadap pemerintah khususnya RUU KUHAP dan RUU POLRI yang kontroversial  Kedua RUU ini dikritik karena bisa memperluas kuasa polisi dan mengancam kebebasa",
         "208",
         "29",
         "0.1171875"
        ],
        [
         "3",
         "@LeotardosMy @easyanying Kita akui keberhasilannya kita akui juga kekurangan. Gue gak terlalu peduli para pengkritik Jokowi atau pemerintah saat ini. Dalam demokrasi pro-kontra itu hal biasa bagi gue. Makanya gue juga jarang bahas soal mereka. Fokus kita ",
         "ideologi",
         "2",
         "Kita akui keberhasilannya kita akui juga kekurangan  Gue tidak terlalu peduli para pengkritik Jokowi atau pemerintah saat ini  Dalam demokrasi pro kontra itu hal biasa bagi gue  Makanya gue juga jarang bahas soal mereka  Fokus kita",
         "231",
         "36",
         "0.03125"
        ],
        [
         "4",
         "@LuckyGaben @susipudjiastuti @prabowo Indonesia masih bisa menuju kesuksesan tapi RUU TNI dan dwifungsi bikin khawatir. Upaya lawan judi online positif tapi perluasan peran militer di pemerintahan dan aktivis yang diam bisa jadi tanda mundur demokrasi. Pe",
         "ideologi",
         "2",
         "Indonesia masih bisa menuju kesuksesan tapi RUU TNI dan dwifungsi bikin khawatir  Upaya lawan judi online positif tapi perluasan peran militer di pemerintahan dan aktivis yang diam bisa jadi tanda mundur demokrasi  Pe",
         "217",
         "33",
         "0.04296875"
        ],
        [
         "5",
         "Kalo gua bukan buzzer. Dukungan kita terhadap capres-cawapres hanya sebatas pada saat pesta demokrasi itu dimulai. Terlepas dari itu jika sudah selesai. Maka dukungan juga selesai. Biarkan yang menang bekerja dlm jabatannya selama 5 th. Jadi ya gak terlalu aktif bahas politik..",
         "ideologi",
         "2",
         "Kalo gua bukan buzzer  Dukungan kita terhadap capres cawapres hanya sebatas pada saat pesta demokrasi itu dimulai  Terlepas dari itu jika sudah selesai  Maka dukungan juga selesai  Biarkan yang menang bekerja dalam jabatannya selama 5 th  Jadi ya tidak terlalu aktif bahas politik",
         "280",
         "43",
         "0.021505376344086023"
        ],
        [
         "6",
         "@zarryhendrik Maaf saya tidak bisa menjelaskan dalam bahasa Minahasa karena kurangnya sumber daya terjemahan online untuk bahasa seperti Tondano. Dalam bahasa Indonesia: Kolaborasi mendukung demokrasi dengan memungkinkan partisipasi warga dalam pengambila",
         "ideologi",
         "2",
         "Maaf saya tidak bisa menjelaskan dalam bahasa Minahasa karena kurangnya sumber daya terjemahan online untuk bahasa seperti Tondano  Dalam bahasa Indonesia  Kolaborasi mendukung demokrasi dengan memungkinkan partisipasi warga dalam pengambila",
         "241",
         "30",
         "0.0234375"
        ],
        [
         "7",
         "@PekPekok @kompascom Berita tentang putusan Mahkamah Konstitusi bahwa kerusuhan digital di media sosial bukan tindak pidana menurut UU ITE tampaknya baik bagi masyarakat. Putusan ini melindungi kebebasan berpendapat memungkinkan warga Indonesia berekspres",
         "ideologi",
         "2",
         "Berita tentang putusan Mahkamah Konstitusi bahwa kerusuhan digital di media sosial bukan tindak pidana menurut UU ITE tampaknya baik bagi masyarakat  Putusan ini melindungi kebebasan berpendapat memungkinkan warga Indonesia berekspres",
         "234",
         "30",
         "0.046875"
        ],
        [
         "8",
         "@virdianaurellio Mantap KK buzzer2 sok keras di twitter juga sepertinya perlu diajak debat online adu gagasan seperti ini biar rakyat bisa menilai serta nisa tahu Akun2 buzzer itu manusianya seperti apa bentuknya dan wawasannya sejauh mana ttg NKRI dan de",
         "ideologi",
         "2",
         "Mantap KK buzzer2 sok keras di twitter juga sepertinya perlu diajak debat online adu gagasan seperti ini biar rakyat bisa menilai serta nisa tahu Akun2 buzzer itu manusianya seperti apa bentuknya dan wawasannya sejauh mana ttg NKRI dan de",
         "238",
         "39",
         "0.03125"
        ],
        [
         "9",
         "@Rahwana060810 Di Jerman: Kampus punya portal verifikasi online. Di AS: Presiden publikasi transkrip nilai. Di Indonesia? 'Udah percaya saja' + hina yang bertanya. Kita mau pake standar mana? *Demokrasi bukan sekadar 'percaya partai' tapi hak publik memas",
         "ideologi",
         "2",
         "Di Jerman  Kampus punya portal verifikasi online  Di AS  Presiden publikasi transkrip nilai  Di Indonesia   Udah percaya saja    hina yang bertanya  Kita mau pake standar mana   Demokrasi bukan sekadar  percaya partai  tapi hak publik memas",
         "240",
         "35",
         "0.05078125"
        ],
        [
         "10",
         "@BosPurwa Akhirnya! MK menegaskan bahwa dinamika kritik dan opini di media sosial bukan kerusuhan yang bisa dipidana pakai UU ITE. Ini kemenangan kecil untuk kebebasan berekspresi di ruang digital. Demokrasi memang kadang gaduh tapi justru di situlah nafa",
         "ideologi",
         "2",
         "Akhirnya  MK menegaskan bahwa dinamika kritik dan opini di media sosial bukan kerusuhan yang bisa dipidana pakai UU ITE  Ini kemenangan kecil untuk kebebasan berekspresi di ruang digital  Demokrasi memang kadang gaduh tapi justru di situlah nafa",
         "245",
         "37",
         "0.046875"
        ],
        [
         "11",
         "@zrs28_ Jika pemilih cerdas Anies Baswedan kemungkinan menang pilpres 2024 dengan platform reformasinya. Namun Prabowo Subianto menang dengan 59% suara lanjutkan kebijakan Jokowi meski ada kontroversi pelanggaran HAM. Ganjar Pranowo dapat 16% fokus keseja",
         "ideologi",
         "2",
         "Jika pemilih cerdas Anies Baswedan kemungkinan menang pilpres 2024 dengan platform reformasinya  Namun Prabowo Subianto menang dengan 59  suara lanjutkan kebijakan Jokowi meski ada kontroversi pelanggaran HAM  Ganjar Pranowo dapat 16  fokus keseja",
         "247",
         "33",
         "0.046875"
        ],
        [
         "12",
         "@sukangawoorrrr @narkosun Situasi politik dan ekonomi Indonesia tahun 2025 dilihat positif dunia. Politik stabil di bawah Prabowo demokrasi kuat meski ada isu pengawasan. Ekonomi tumbuh 5 1% terbesar di ASEAN didukung konsumsi dan investasi. Isu judi onli",
         "ideologi",
         "2",
         "Situasi politik dan ekonomi Indonesia tahun 2025 dilihat positif dunia  Politik stabil di bawah Prabowo demokrasi kuat meski ada isu pengawasan  Ekonomi tumbuh 5 1  terbesar di ASEAN didukung konsumsi dan investasi  Isu judi onli",
         "229",
         "35",
         "0.04296875"
        ],
        [
         "13",
         "@OposisiCerdas Buktinya apa (cacat etik)? Kecuali presiden perintahkan kapolri dan kejagung usut akun fufufafa tsb! Indonesi negara berdsrkan Pancasila tdk kompromi dgn siapapun presiden/wapres rekam jejak digital medsos narasi2 kotor biadab utk diproses ",
         "ideologi",
         "2",
         "Buktinya apa  cacat etik   Kecuali presiden perintahkan kapolri dan kejagung usut akun fufufafa tsb  Indonesi negara berdsrkan Pancasila tidak kompromi dengan siapapun presiden wapres rekam jejak digital medsos narasi2 kotor biadab untuk diproses",
         "246",
         "33",
         "0.0234375"
        ],
        [
         "14",
         "Harga harga stabil apanya yang gelap ohjya hati dan pikiran kaliann yang gelap masih bisa online dan bebas berkata apapun berati demokrasi masih sehat",
         "ideologi",
         "2",
         "Harga harga stabil apanya yang gelap ohjya hati dan pikiran kaliann yang gelap masih bisa online dan bebas berkata apapun berati demokrasi masih sehat",
         "150",
         "24",
         "0.006622516556291391"
        ],
        [
         "15",
         "@radjathaher ya sebenernya mereka masi ada senjata lain kalo warga internet dah ga percaya . senjata mereka warga2 desa/kampung makanya dl budget kampanye nya gede jd bisa ngasi bansos warga2 yg ga kejangkau internet dan jumlahnya banyaak. dan bakal nurut",
         "ideologi",
         "2",
         "ya sebenernya mereka masi ada senjata lain kalo warga internet dah tidak percaya   senjata mereka warga2 desa kampung makanya dl budget kampanye nya gede jd bisa ngasi bansos warga2 yang tidak kejangkau internet dan jumlahnya banyaak  dan bakal nurut",
         "250",
         "39",
         "0.0"
        ],
        [
         "16",
         "@rudi_alexander @yusuf_dumdum @DedynurPalakka Kalau gue ikut pemilu 2024 kayaknya gue bakal pilih Anies Baswedan. Dia punya rekam jejak kuat di inovasi digital dan e-governance plus komitmen ke hak asasi manusia. Prabowo punya ide kota inovasi tapi kontro",
         "ideologi",
         "2",
         "Kalau gue ikut pemilu 2024 kayaknya gue bakal pilih Anies Baswedan  Dia punya rekam jejak kuat di inovasi digital dan e governance plus komitmen ke hak asasi manusia  Prabowo punya ide kota inovasi tapi kontro",
         "209",
         "35",
         "0.02734375"
        ],
        [
         "17",
         "@ardianTaka @Homo_sapiens21 @logos_id @ardianTaka @Homo_sapiens21 @logos_id Tenang belum ada bukti X akan dilarang di Indonesia gara-gara bahas tambang ilegal atau korupsi. Fokus pemerintah sekarang ke perlindungan anak dan e-commerce bukan konten seperti",
         "ideologi",
         "2",
         "Tenang belum ada bukti X akan dilarang di Indonesia gara gara bahas tambang ilegal atau korupsi  Fokus pemerintah sekarang ke perlindungan anak dan e commerce bukan konten seperti",
         "179",
         "28",
         "0.03125"
        ],
        [
         "18",
         "@HariPandowo @mikuroQ Harapan untuk menyelamatkan Indonesia ada pada reformasi ekonomi dan program sosial Prabowo seperti pertumbuhan 8% dan makan gratis untuk 82 juta orang. Pelatihan digital untuk 9 juta pemuda bisa turunkan pengangguran sementara langk",
         "pertahanan",
         "5",
         "Harapan untuk menyelamatkan Indonesia ada pada reformasi ekonomi dan program sosial Prabowo seperti pertumbuhan 8  dan makan gratis untuk 82 juta orang  Pelatihan digital untuk 9 juta pemuda bisa turunkan pengangguran sementara langk",
         "233",
         "33",
         "0.02734375"
        ],
        [
         "19",
         "@Reinn_shere UU TNI yang sudah direvisi Maret 2025 punya manfaat tapi juga risiko. Positifnya memperkuat keamanan nasional seperti pertahanan siber dan perlindungan WNI di luar negeri misalnya di Taiwan. Ini sejalan dengan visi Indonesia Emas 2045. Namun ",
         "pertahanan",
         "5",
         "UU TNI yang sudah direvisi Maret 2025 punya manfaat tapi juga risiko  Positifnya memperkuat keamanan nasional seperti pertahanan siber dan perlindungan WNI di luar negeri misalnya di Taiwan  Ini sejalan dengan visi Indonesia Emas 2045  Namun",
         "241",
         "36",
         "0.0625"
        ],
        [
         "20",
         "@jondhez @kring_pajak @DitjenPajakRI bukti lainnya bahwa keamanan siber kita gak ada aman2nya sama sekali bahkan setelah tuh Parjo mulai masuk ke ranah siber",
         "pertahanan",
         "5",
         "bukti lainnya bahwa keamanan siber kita tidak ada aman2nya sama sekali bahkan setelah tuh Parjo mulai masuk ke ranah siber",
         "122",
         "20",
         "0.03164556962025317"
        ],
        [
         "21",
         "@zupp4zup Masalah publik lain di administrasi publik adalah kebutuhan akan langkah keamanan siber yang kuat untuk melindungi data pemerintah dari ancaman siber seperti pelanggaran data dan ransomware. Ini melibatkan lembaga publik profesional keamanan sib",
         "pertahanan",
         "5",
         "Masalah publik lain di administrasi publik adalah kebutuhan akan langkah keamanan siber yang kuat untuk melindungi data pemerintah dari ancaman siber seperti pelanggaran data dan ransomware  Ini melibatkan lembaga publik profesional keamanan sib",
         "245",
         "33",
         "0.0078125"
        ],
        [
         "22",
         "@LahrianSyahilla Masyarakat berharap kepemimpinan ini tidak hanya menjadi simbolis tetapi juga menghasilkan langkah nyata seperti pengembangan energi terbarukan investasi pada infrastruktur hijau dan percepatan inovasi teknologi energi bersih.",
         "pertahanan",
         "5",
         "Masyarakat berharap kepemimpinan ini tidak hanya menjadi simbolis tetapi juga menghasilkan langkah nyata seperti pengembangan energi terbarukan investasi pada infrastruktur hijau dan percepatan inovasi teknologi energi bersih",
         "225",
         "27",
         "0.012295081967213115"
        ],
        [
         "23",
         "@ValNOFX86 Teknologi energi fusi berpotensi sangat bermanfaat dalam 30-50 tahun ke depan menawarkan sumber energi bersih dan melimpah yang bisa mengatasi perubahan iklim. Diperkirakan pada 2055-2075 fusi bisa jadi layak secara komersial menghasilkan daya ",
         "pertahanan",
         "5",
         "Teknologi energi fusi berpotensi sangat bermanfaat dalam 30 50 tahun ke depan menawarkan sumber energi bersih dan melimpah yang bisa mengatasi perubahan iklim  Diperkirakan pada 2055 2075 fusi bisa jadi layak secara komersial menghasilkan daya",
         "243",
         "35",
         "0.02734375"
        ],
        [
         "24",
         "@LahrianSyahilla Di tengah kebutuhan akan energi bersih dan efisiensi penggunaan teknologi canggih seperti AI menunjukkan bahwa Indonesia siap beradaptasi dengan perkembangan zaman.",
         "pertahanan",
         "5",
         "Di tengah kebutuhan akan energi bersih dan efisiensi penggunaan teknologi canggih seperti AI menunjukkan bahwa Indonesia siap beradaptasi dengan perkembangan zaman",
         "163",
         "21",
         "0.03296703296703297"
        ],
        [
         "25",
         "@alphomega_ Program kerja 2025 fokus pada pertumbuhan ekonomi lewat infrastruktur transformasi digital dukungan UMKM dan energi hijau. Meski ada efisiensi anggaran (contoh: potong dana PUPR jadi Rp 76T) pemerintah tetap dorong program seperti makan gratis",
         "pertahanan",
         "5",
         "Program kerja 2025 fokus pada pertumbuhan ekonomi lewat infrastruktur transformasi digital dukungan UMKM dan energi hijau  Meski ada efisiensi anggaran  contoh  potong dana PUPR jadi Rp 76T  pemerintah tetap dorong program seperti makan gratis",
         "243",
         "34",
         "0.046875"
        ],
        [
         "26",
         "@LahrianSyahilla Langkah ini menunjukkan komitmen Pertamina terhadap transisi energi bersih dan pemanfaatan teknologi modern demi efisiensi serta keberlanjutan lingkungan.",
         "pertahanan",
         "5",
         "Langkah ini menunjukkan komitmen Pertamina terhadap transisi energi bersih dan pemanfaatan teknologi modern demi efisiensi serta keberlanjutan lingkungan",
         "153",
         "18",
         "0.023255813953488372"
        ],
        [
         "27",
         "@Dafyasyah1 @UstadzWaloni emangnya yg punya minyak bumi cuma arab. skr jg sdh banyak negara yg jg penghasil minyak bumi. bahkan dunia bergeser ke teknologi energi bersih.",
         "pertahanan",
         "5",
         "emangnya yang punya minyak bumi cuma arab  skr juga sudah banyak negara yang juga penghasil minyak bumi  bahkan dunia bergeser ke teknologi energi bersih",
         "153",
         "24",
         "0.017543859649122806"
        ],
        [
         "28",
         "Dengan kerja sama energi Indonesia bisa dapet alih teknologi buat produksi energi bersih #KunjunganTimtengTurkiyePrabowo",
         "pertahanan",
         "5",
         "Dengan kerja sama energi Indonesia bisa dapet alih teknologi buat produksi energi bersih",
         "88",
         "13",
         "0.049586776859504134"
        ],
        [
         "29",
         "Wes to... Rasah fafifu masalah energi... Mau bersih dan murah ya nuklir Mau kotor dan murah ya batubara Sisanya ya mahal... Kecuali udah bisa bedah teknologi UFO...",
         "pertahanan",
         "5",
         "Wes to    Rasah fafifu masalah energi    Mau bersih dan murah ya nuklir Mau kotor dan murah ya batubara Sisanya ya mahal    Kecuali udah bisa bedah teknologi UFO",
         "161",
         "27",
         "0.05454545454545454"
        ],
        [
         "30",
         "@EkoPurwanto001 @V3g3L Halo Bang Stepen! Carbon trading itu sistem jual-beli kredit karbon untuk kurangi emisi gas rumah kaca. Manfaatnya buat masa depan umat manusia: - Kurangi pemanasan global lewat batas emisi. - Dorong inovasi teknologi bersih seperti",
         "pertahanan",
         "5",
         "Halo Bang Stepen  Carbon trading itu sistem jual beli kredit karbon untuk kurangi emisi gas rumah kaca  Manfaatnya buat masa depan umat manusia    Kurangi pemanasan global lewat batas emisi    Dorong inovasi teknologi bersih seperti",
         "232",
         "34",
         "0.04296875"
        ],
        [
         "31",
         "Mantap! Pembentukan Satgas Transisi Energi dan Ekonomi Hijau dalam kerangka JETP menunjukkan komitmen pemerintah yang makin konkret. Tantangannya sekarang ada di implementasi: apakah transisinya benar-benar mengarah ke energi bersih bukan sekadar penghijauan dari teknologi",
         "pertahanan",
         "5",
         "Mantap  Pembentukan Satgas Transisi Energi dan Ekonomi Hijau dalam kerangka JETP menunjukkan komitmen pemerintah yang makin konkret  Tantangannya sekarang ada di implementasi  apakah transisinya benar benar mengarah ke energi bersih bukan sekadar penghijauan dari teknologi",
         "273",
         "35",
         "0.043795620437956206"
        ],
        [
         "32",
         "@Seputar_Energi_ Inovasi kayak gini yang bikin optimis. Energi bersih bukan cuma wacana tapi dibarengi aksi nyata dan teknologi!",
         "pertahanan",
         "5",
         "Inovasi kayak gini yang bikin optimis  Energi bersih bukan cuma wacana tapi dibarengi aksi nyata dan teknologi",
         "110",
         "17",
         "0.031007751937984496"
        ],
        [
         "33",
         "Dengan fokus pada pengembangan infrastruktur global kebijakan serta teknologi-teknologi terbaru di industri hidrogen GHES 2025 bertujuan menciptakan ekosistem kolaboratif guna mempercepat transisi menuju energi bersih. Para peserta akan mengikuti berbagai sesi panel pameran",
         "pertahanan",
         "5",
         "Dengan fokus pada pengembangan infrastruktur global kebijakan serta teknologi teknologi terbaru di industri hidrogen GHES 2025 bertujuan menciptakan ekosistem kolaboratif guna mempercepat transisi menuju energi bersih  Para peserta akan mengikuti berbagai sesi panel pameran",
         "274",
         "34",
         "0.02181818181818182"
        ],
        [
         "34",
         "Menyoroti penyalahgunaan NIK dan solusinya ganti eSIM? Yang ngebocorin data siapa cobaaa Yang perlu belajar keamanan siber siapa cobaaa Nomorku angka cantik dari pertama punya hape",
         "pertahanan",
         "5",
         "Menyoroti penyalahgunaan NIK dan solusinya ganti eSIM  Yang ngebocorin data siapa cobaaa Yang perlu belajar keamanan siber siapa cobaaa Nomorku angka cantik dari pertama punya hape",
         "180",
         "26",
         "0.055248618784530384"
        ],
        [
         "35",
         "@mpwichi @YokL97 @_riverheaven laut yg menyusahkan nelayan. Pendidikan juga bukan prioritas di masanya. Yg marak korupsi judol dan oinjol. Padahal di masa sby gak ada yg namanya judol dan pinjol. Bagaimana teknologi pertanian mau maju pemerintah sendiri t",
         "pertahanan",
         "5",
         "laut yang menyusahkan nelayan  Pendidikan juga bukan prioritas di masanya  Yg marak korupsi judol dan oinjol  Padahal di masa sby tidak ada yang namanya judol dan pinjol  Bagaimana teknologi pertanian mau maju pemerintah sendiri t",
         "230",
         "35",
         "0.0234375"
        ],
        [
         "36",
         "@DigitalVibesID @guntara_yudi Uang menguap karena kebiasaan belanja impulsif kurang lacak pengeluaran biaya tak terduga investasi berisiko dan inflasi. Di Indonesia pembayaran digital dan budaya konsumerisme mempercepat pengeluaran tapi banyak yang mulai ",
         "pekerjaan",
         "3",
         "Uang menguap karena kebiasaan belanja impulsif kurang lacak pengeluaran biaya tak terduga investasi berisiko dan inflasi  Di Indonesia pembayaran digital dan budaya konsumerisme mempercepat pengeluaran tapi banyak yang mulai",
         "224",
         "29",
         "0.02734375"
        ],
        [
         "37",
         "@dev1ra Keren ya! Remote work di Indonesia masih trending di 2025 terutama model hybrid soalnya orang suka fleksibel tapi perusahaan tetap butuh kolaborasi. Infrastruktur sama budaya face-to-face jadi tantangan tapi tools digital bantu banget. AI dipakai ",
         "pekerjaan",
         "3",
         "Keren ya  Remote work di Indonesia masih trending di 2025 terutama model hybrid soalnya orang suka fleksibel tapi perusahaan tetap butuh kolaborasi  Infrastruktur sama budaya face to face jadi tantangan tapi tools digital bantu banget  AI dipakai",
         "246",
         "37",
         "0.0234375"
        ],
        [
         "38",
         "@BigAlphaID Kebijakan tarif ini nggak bakal langsung membuat pabrik US yg ada di RRT pindah ke dalam negeri untuk menghindari tarif. Industri high-tech macam Foxcon itu sudah super effisien dimana pengerjaannya sudah otomasi diatas 80% untuk proses produk",
         "pekerjaan",
         "3",
         "Kebijakan tarif ini tidak bakal langsung membuat pabrik US yang ada di RRT pindah ke dalam negeri untuk menghindari tarif  Industri high tech macam Foxcon itu sudah super effisien dimana pengerjaannya sudah otomasi diatas 80  untuk proses produk",
         "245",
         "38",
         "0.046875"
        ],
        [
         "39",
         "@ravelyeib @HannahDCox @hoteliercrypto Halo bro manufaktur AS turun karena globalisasi otomasi dan biaya tenaga kerja tinggi. Tarif mungkin melindungi industri tertentu tapi nggak cukup buat balikin manufaktur kayak dulu. Soalnya rantai pasok global udah ",
         "pekerjaan",
         "3",
         "Halo bro manufaktur AS turun karena globalisasi otomasi dan biaya tenaga kerja tinggi  Tarif mungkin melindungi industri tertentu tapi tidak cukup buat balikin manufaktur kayak dulu  Soalnya rantai pasok global udah",
         "215",
         "31",
         "0.03125"
        ],
        [
         "40",
         "@zky_mul Menurutku saat ini mechatronics engineer paling banyak diminati karena perkembangan otomasi dan robotik yang pesat. Mereka menggabungkan keahlian mekanik elektrik dan elektronik sesuai kebutuhan industri modern. Mechanical dan electrical engineer",
         "pekerjaan",
         "3",
         "Menurutku saat ini mechatronics engineer paling banyak diminati karena perkembangan otomasi dan robotik yang pesat  Mereka menggabungkan keahlian mekanik elektrik dan elektronik sesuai kebutuhan industri modern  Mechanical dan electrical engineer",
         "246",
         "30",
         "0.01171875"
        ],
        [
         "41",
         "@AiraNtieReal Katanya hilirisasi digital jalanan aja masih kayak kumbangan gitu... Jln toll dibangun trus rakyat di suruh bayar kalau mau lewat jalan rata beraspal... Ada yg berdagang dgn rakyatnya",
         "pekerjaan",
         "3",
         "Katanya hilirisasi digital jalanan saja masih kayak kumbangan gitu    Jln toll dibangun trus rakyat di suruh bayar kalau mau lewat jalan rata beraspal    Ada yang berdagang dengan rakyatnya",
         "189",
         "28",
         "0.030303030303030304"
        ],
        [
         "42",
         "Sampe detik ini ga ada statement minimal apresiasi ke film ini. . pdahal janji politiknya ekonomi kreatif - hilirisasi digital . @gibran_tweet ?",
         "pekerjaan",
         "3",
         "Sampe detik ini tidak ada statement minimal apresiasi ke film ini    pdahal janji politiknya ekonomi kreatif   hilirisasi digital",
         "129",
         "18",
         "0.006896551724137931"
        ],
        [
         "43",
         "@Daffa_rffdhl @arifin34533 Saya lebih setuju dengan QRIS untuk Indonesia karena lebih adil dan simpel. QRIS punya biaya transaksi rendah cocok untuk UMKM dan data tetap di Indonesia mendukung kedaulatan ekonomi. Konsumen bisa bayar pakai dompet digital mu",
         "pekerjaan",
         "3",
         "Saya lebih setuju dengan QRIS untuk Indonesia karena lebih adil dan simpel  QRIS punya biaya transaksi rendah cocok untuk UMKM dan data tetap di Indonesia mendukung kedaulatan ekonomi  Konsumen bisa bayar pakai dompet digital mu",
         "228",
         "35",
         "0.06640625"
        ],
        [
         "44",
         "@prabowo Pemerintah Indonesia harusnya memperketat pengawasan terhadap e-commerce dari Luar negeri yg ada di Indonesia agar mereka tidak gegabah membuat aturan dan merugikan seller di Indonesia. Jangan sampai kebablasan seperti bbrp THN yg lalu mereka mas",
         "pekerjaan",
         "3",
         "Pemerintah Indonesia harusnya memperketat pengawasan terhadap e commerce dari Luar negeri yang ada di Indonesia agar mereka tidak gegabah membuat aturan dan merugikan seller di Indonesia  Jangan sampai kebablasan seperti bbrp THN yang lalu mereka mas",
         "250",
         "36",
         "0.03515625"
        ],
        [
         "45",
         "@Annf04 @ayalogi Lebih baik investasi di sektor yang tumbuh cepat seperti manufaktur ekonomi digital dan energi terbarukan karena didukung pemerintah dan proyeksi 2025. Real estate dan UMKM juga menarik terutama dengan urbanisasi. Diversifikasi penting un",
         "pekerjaan",
         "3",
         "Lebih baik investasi di sektor yang tumbuh cepat seperti manufaktur ekonomi digital dan energi terbarukan karena didukung pemerintah dan proyeksi 2025  Real estate dan UMKM juga menarik terutama dengan urbanisasi  Diversifikasi penting un",
         "238",
         "33",
         "0.03125"
        ],
        [
         "46",
         "@Setiawan6251ya1 @AgusYudhoyono Konektivitas di sini maksudnya memperkuat infrastruktur fisik (jalan pelabuhan) dan digital (internet 5G satelit) untuk dorong perdagangan dan komunikasi di Asia. Wilayah seperti Asia Tenggara (Vietnam Indonesia Kamboja) As",
         "pekerjaan",
         "3",
         "Konektivitas di sini maksudnya memperkuat infrastruktur fisik  jalan pelabuhan  dan digital  internet 5G satelit  untuk dorong perdagangan dan komunikasi di Asia  Wilayah seperti Asia Tenggara  Vietnam Indonesia Kamboja  As",
         "223",
         "29",
         "0.05078125"
        ],
        [
         "47",
         "@saossamballll Kalo belum kerja coba fokus ke bidang teknologi atau e-commerce kayak cybersecurity atau digital marketing soalnya lagi booming di Indonesia. Bisa belajar skill baru lewat kursus online gratis di Coursera atau YouTube misalnya Python atau d",
         "pekerjaan",
         "3",
         "Kalo belum kerja coba fokus ke bidang teknologi atau e commerce kayak cybersecurity atau digital marketing soalnya lagi booming di Indonesia  Bisa belajar skill baru lewat kursus online gratis di Coursera atau YouTube misalnya Python atau d",
         "240",
         "37",
         "0.02734375"
        ],
        [
         "48",
         "@ningrat1590214 @kegblgnunfaedh Sugeng rawuh Mas/Mbak @ningrat1590214 Indonesia bisa maju kaya China kanthi effort ing pendidikan teknologi lan infrastruktur. Ekonomi digital diprediksi $146 milyar taun 2025 (McKinsey). Pemerintah fokus ing internet lan 5",
         "pekerjaan",
         "3",
         "Sugeng rawuh Mas Mbak  Indonesia bisa maju kaya China kanthi effort ing pendidikan teknologi lan infrastruktur  Ekonomi digital diprediksi  146 milyar taun 2025  McKinsey   Pemerintah fokus ing internet lan 5",
         "208",
         "30",
         "0.03515625"
        ],
        [
         "49",
         "@hsenlee3 @GA_1123455 @asumsico Sektor bisnis yang bagus di Indonesia tahun 2025 meliputi pariwisata e-commerce fintech energi terbarukan kesehatan teknologi dan jasa. Pariwisata didukung investasi pemerintah e-commerce dan fintech tumbuh pesat karena pop",
         "pekerjaan",
         "3",
         "Sektor bisnis yang bagus di Indonesia tahun 2025 meliputi pariwisata e commerce fintech energi terbarukan kesehatan teknologi dan jasa  Pariwisata didukung investasi pemerintah e commerce dan fintech tumbuh pesat karena pop",
         "223",
         "31",
         "0.01953125"
        ]
       ],
       "shape": {
        "columns": 7,
        "rows": 5000
       }
      },
      "text/html": [
       "<div>\n",
       "<style scoped>\n",
       "    .dataframe tbody tr th:only-of-type {\n",
       "        vertical-align: middle;\n",
       "    }\n",
       "\n",
       "    .dataframe tbody tr th {\n",
       "        vertical-align: top;\n",
       "    }\n",
       "\n",
       "    .dataframe thead th {\n",
       "        text-align: right;\n",
       "    }\n",
       "</style>\n",
       "<table border=\"1\" class=\"dataframe\">\n",
       "  <thead>\n",
       "    <tr style=\"text-align: right;\">\n",
       "      <th></th>\n",
       "      <th>text</th>\n",
       "      <th>label</th>\n",
       "      <th>label_enc</th>\n",
       "      <th>text_clean</th>\n",
       "      <th>text_len</th>\n",
       "      <th>word_count</th>\n",
       "      <th>capital_ratio</th>\n",
       "    </tr>\n",
       "  </thead>\n",
       "  <tbody>\n",
       "    <tr>\n",
       "      <th>0</th>\n",
       "      <td>@hyalfay @NatharElyas @BosPurwa @NatharElyas @...</td>\n",
       "      <td>ideologi</td>\n",
       "      <td>2</td>\n",
       "      <td>Prabowo menang di 2024 karena strategi cerdas ...</td>\n",
       "      <td>200</td>\n",
       "      <td>33</td>\n",
       "      <td>0.046875</td>\n",
       "    </tr>\n",
       "    <tr>\n",
       "      <th>1</th>\n",
       "      <td>@sienchao @Sherly0ctaviany @jokowi Halo @Sienc...</td>\n",
       "      <td>ideologi</td>\n",
       "      <td>2</td>\n",
       "      <td>Halo   mungkin terus mengangkat isu negatif Jo...</td>\n",
       "      <td>195</td>\n",
       "      <td>25</td>\n",
       "      <td>0.023438</td>\n",
       "    </tr>\n",
       "    <tr>\n",
       "      <th>2</th>\n",
       "      <td>@giovannikurnwn @BudiBukanIntel Nama Budi Berl...</td>\n",
       "      <td>ideologi</td>\n",
       "      <td>2</td>\n",
       "      <td>Nama Budi BerlarI mungkin mencerminkan sikap k...</td>\n",
       "      <td>208</td>\n",
       "      <td>29</td>\n",
       "      <td>0.117188</td>\n",
       "    </tr>\n",
       "    <tr>\n",
       "      <th>3</th>\n",
       "      <td>@LeotardosMy @easyanying Kita akui keberhasila...</td>\n",
       "      <td>ideologi</td>\n",
       "      <td>2</td>\n",
       "      <td>Kita akui keberhasilannya kita akui juga kekur...</td>\n",
       "      <td>231</td>\n",
       "      <td>36</td>\n",
       "      <td>0.031250</td>\n",
       "    </tr>\n",
       "    <tr>\n",
       "      <th>4</th>\n",
       "      <td>@LuckyGaben @susipudjiastuti @prabowo Indonesi...</td>\n",
       "      <td>ideologi</td>\n",
       "      <td>2</td>\n",
       "      <td>Indonesia masih bisa menuju kesuksesan tapi RU...</td>\n",
       "      <td>217</td>\n",
       "      <td>33</td>\n",
       "      <td>0.042969</td>\n",
       "    </tr>\n",
       "    <tr>\n",
       "      <th>...</th>\n",
       "      <td>...</td>\n",
       "      <td>...</td>\n",
       "      <td>...</td>\n",
       "      <td>...</td>\n",
       "      <td>...</td>\n",
       "      <td>...</td>\n",
       "      <td>...</td>\n",
       "    </tr>\n",
       "    <tr>\n",
       "      <th>4995</th>\n",
       "      <td>Memang kristen zionis itu rata-rata IslamoPhob...</td>\n",
       "      <td>harmoni</td>\n",
       "      <td>0</td>\n",
       "      <td>Memang kristen zionis itu rata rata IslamoPhob...</td>\n",
       "      <td>146</td>\n",
       "      <td>23</td>\n",
       "      <td>0.058480</td>\n",
       "    </tr>\n",
       "    <tr>\n",
       "      <th>4996</th>\n",
       "      <td>Masjid Lafadz Allah Dan wanita yang lekat deng...</td>\n",
       "      <td>harmoni</td>\n",
       "      <td>0</td>\n",
       "      <td>Masjid Lafadz Allah Dan wanita yang lekat deng...</td>\n",
       "      <td>275</td>\n",
       "      <td>41</td>\n",
       "      <td>0.046205</td>\n",
       "    </tr>\n",
       "    <tr>\n",
       "      <th>4997</th>\n",
       "      <td>@_MbakSri_ Mulut yang selalu jual toleransi ma...</td>\n",
       "      <td>harmoni</td>\n",
       "      <td>0</td>\n",
       "      <td>Mulut yang selalu jual toleransi malah dia sen...</td>\n",
       "      <td>238</td>\n",
       "      <td>34</td>\n",
       "      <td>0.011952</td>\n",
       "    </tr>\n",
       "    <tr>\n",
       "      <th>4998</th>\n",
       "      <td>@itsmesoya_ kalo masalah fisik dan lisan masi ...</td>\n",
       "      <td>pekerjaan</td>\n",
       "      <td>3</td>\n",
       "      <td>kalo masalah fisik dan lisan masi bisa di tole...</td>\n",
       "      <td>148</td>\n",
       "      <td>26</td>\n",
       "      <td>0.000000</td>\n",
       "    </tr>\n",
       "    <tr>\n",
       "      <th>4999</th>\n",
       "      <td>Toleransi sebatas hanya SLOGAN DI INDONESIA ta...</td>\n",
       "      <td>harmoni</td>\n",
       "      <td>0</td>\n",
       "      <td>Toleransi sebatas hanya SLOGAN DI INDONESIA ta...</td>\n",
       "      <td>211</td>\n",
       "      <td>31</td>\n",
       "      <td>0.222642</td>\n",
       "    </tr>\n",
       "  </tbody>\n",
       "</table>\n",
       "<p>5000 rows × 7 columns</p>\n",
       "</div>"
      ],
      "text/plain": [
       "                                                   text      label  label_enc  \\\n",
       "0     @hyalfay @NatharElyas @BosPurwa @NatharElyas @...   ideologi          2   \n",
       "1     @sienchao @Sherly0ctaviany @jokowi Halo @Sienc...   ideologi          2   \n",
       "2     @giovannikurnwn @BudiBukanIntel Nama Budi Berl...   ideologi          2   \n",
       "3     @LeotardosMy @easyanying Kita akui keberhasila...   ideologi          2   \n",
       "4     @LuckyGaben @susipudjiastuti @prabowo Indonesi...   ideologi          2   \n",
       "...                                                 ...        ...        ...   \n",
       "4995  Memang kristen zionis itu rata-rata IslamoPhob...    harmoni          0   \n",
       "4996  Masjid Lafadz Allah Dan wanita yang lekat deng...    harmoni          0   \n",
       "4997  @_MbakSri_ Mulut yang selalu jual toleransi ma...    harmoni          0   \n",
       "4998  @itsmesoya_ kalo masalah fisik dan lisan masi ...  pekerjaan          3   \n",
       "4999  Toleransi sebatas hanya SLOGAN DI INDONESIA ta...    harmoni          0   \n",
       "\n",
       "                                             text_clean  text_len  word_count  \\\n",
       "0     Prabowo menang di 2024 karena strategi cerdas ...       200          33   \n",
       "1     Halo   mungkin terus mengangkat isu negatif Jo...       195          25   \n",
       "2     Nama Budi BerlarI mungkin mencerminkan sikap k...       208          29   \n",
       "3     Kita akui keberhasilannya kita akui juga kekur...       231          36   \n",
       "4     Indonesia masih bisa menuju kesuksesan tapi RU...       217          33   \n",
       "...                                                 ...       ...         ...   \n",
       "4995  Memang kristen zionis itu rata rata IslamoPhob...       146          23   \n",
       "4996  Masjid Lafadz Allah Dan wanita yang lekat deng...       275          41   \n",
       "4997  Mulut yang selalu jual toleransi malah dia sen...       238          34   \n",
       "4998  kalo masalah fisik dan lisan masi bisa di tole...       148          26   \n",
       "4999  Toleransi sebatas hanya SLOGAN DI INDONESIA ta...       211          31   \n",
       "\n",
       "      capital_ratio  \n",
       "0          0.046875  \n",
       "1          0.023438  \n",
       "2          0.117188  \n",
       "3          0.031250  \n",
       "4          0.042969  \n",
       "...             ...  \n",
       "4995       0.058480  \n",
       "4996       0.046205  \n",
       "4997       0.011952  \n",
       "4998       0.000000  \n",
       "4999       0.222642  \n",
       "\n",
       "[5000 rows x 7 columns]"
      ]
     },
     "execution_count": 29,
     "metadata": {},
     "output_type": "execute_result"
    }
   ],
   "source": [
    "train"
   ]
  },
  {
   "cell_type": "code",
   "execution_count": 30,
   "id": "dba0e8ef",
   "metadata": {},
   "outputs": [
    {
     "data": {
      "application/vnd.microsoft.datawrangler.viewer.v0+json": {
       "columns": [
        {
         "name": "index",
         "rawType": "int64",
         "type": "integer"
        },
        {
         "name": "id",
         "rawType": "int64",
         "type": "integer"
        },
        {
         "name": "text",
         "rawType": "object",
         "type": "string"
        },
        {
         "name": "text_clean",
         "rawType": "object",
         "type": "string"
        },
        {
         "name": "text_len",
         "rawType": "int64",
         "type": "integer"
        },
        {
         "name": "word_count",
         "rawType": "int64",
         "type": "integer"
        },
        {
         "name": "capital_ratio",
         "rawType": "float64",
         "type": "float"
        }
       ],
       "ref": "8fc0f6d3-4847-4d90-9497-73d075a80910",
       "rows": [
        [
         "0",
         "0",
         "@xuminghao_ogf @ShopeeID @ShopeePay_ID Bapak gua juga begini bedanya dia bahkan gapernah download shopee tapi tagihan dimana2 data bocor kok bisa ya",
         "Bapak gua juga begini bedanya dia bahkan gapernah download shopee tapi tagihan dimana2 data bocor kok bisa ya",
         "109",
         "18",
         "0.053691275167785234"
        ],
        [
         "1",
         "1",
         "tidak hanya membayangkan masa depan sebagai kiai atau pendakwah tetapi juga sebagai ilmuwan dan peneliti yang berkontribusi dalam pembangunan bangsa. Melalui pendekatan yang sederhana namun visioner",
         "tidak hanya membayangkan masa depan sebagai kiai atau pendakwah tetapi juga sebagai ilmuwan dan peneliti yang berkontribusi dalam pembangunan bangsa  Melalui pendekatan yang sederhana namun visioner",
         "198",
         "26",
         "0.005025125628140704"
        ],
        [
         "2",
         "2",
         "@feliscxtus Kalau aku jadi pemimpin RI visiku bikin Indonesia jadi kekuatan AI global tahun 2045 semua desa terkoneksi internet tiap warga punya akses teknologi buat pendidikan dan ekonomi. Misiku pakai AI buat selesain masalah kesehatan pendidikan sama p",
         "Kalau aku jadi pemimpin RI visiku bikin Indonesia jadi kekuatan AI global tahun 2045 semua desa terkoneksi internet tiap warga punya akses teknologi buat pendidikan dan ekonomi  Misiku pakai AI buat selesain masalah kesehatan pendidikan sama p",
         "243",
         "37",
         "0.03515625"
        ],
        [
         "3",
         "3",
         "@EkoDwiSant73293 @Dahnilanzar @prabowo Masyarakat bisa menerapkan strategi seperti berinvestasi pada pendidikan dan keterampilan untuk meningkatkan daya saing, mendukung bisnis lokal dengan membeli produk dalam negeri guna memperkuat konsumsi domestik, sert",
         "Masyarakat bisa menerapkan strategi seperti berinvestasi pada pendidikan dan keterampilan untuk meningkatkan daya saing  mendukung bisnis lokal dengan membeli produk dalam negeri guna memperkuat konsumsi domestik  sert",
         "218",
         "27",
         "0.01937984496124031"
        ],
        [
         "4",
         "4",
         "@goonjol Mengamankan data pribadi rakyat RI sik durung maksimal wes gaya2an wajib digitalisasi sertifikat",
         "Mengamankan data pribadi rakyat RI sik durung maksimal wes gaya2an wajib digitalisasi sertifikat",
         "96",
         "13",
         "0.02830188679245283"
        ],
        [
         "5",
         "5",
         "@Mdy_Asmara1701 Omon-omon doang wo @prabowo. Proses tuh laporan kasus Jokowi Gibran dan Kaesang yg sudah ada di KPK. ",
         "Omon omon doang wo   Proses tuh laporan kasus Jokowi Gibran dan Kaesang yang sudah ada di KPK",
         "93",
         "17",
         "0.0847457627118644"
        ],
        [
         "6",
         "6",
         "@CNNIndonesia @KPK_RI ayo tangkap kader PDI-P yg terlibat kasus e-KTP bansos dll yg selama jokowi berkuasa mrk kenal hukum ",
         "ayo tangkap kader PDI P yang terlibat kasus e KTP bansos dll yang selama jokowi berkuasa mrk kenal hukum",
         "104",
         "19",
         "0.12903225806451613"
        ],
        [
         "7",
         "7",
         "Udah gak bener Prabowo kelola ini negara : Satu Kabinet 2 presiden Trending Topic #JokowiGakUsahPulang #2025LengserkanGibran Jokowi dan Gibran jauh dari kejujuran semua hal buruk ada diri Jokowi penipu pembohong manipukatif dan Manusia terkorup OCCRP. https://t.co/kssFDB7BxU",
         "Udah tidak bener Prabowo kelola ini negara   Satu Kabinet 2 presiden Trending Topic   Jokowi dan Gibran jauh dari kejujuran semua hal buruk ada diri Jokowi penipu pembohong manipukatif dan Manusia terkorup OCCRP",
         "211",
         "32",
         "0.09420289855072464"
        ],
        [
         "8",
         "8",
         "Contoh 3 Literasi media bertujuan agar generasi muda dapat melek teknologi. Dengan literasi media diharapkan generasi muda dapat memahami bagaimana pemanfaatan media digital. Literasi media membantu generasi muda mengembangkan pemahaman yang lebih baik. Literasi media juga",
         "Contoh 3 Literasi media bertujuan agar generasi muda dapat melek teknologi  Dengan literasi media diharapkan generasi muda dapat memahami bagaimana pemanfaatan media digital  Literasi media membantu generasi muda mengembangkan pemahaman yang lebih baik  Literasi media juga",
         "273",
         "36",
         "0.01824817518248175"
        ],
        [
         "9",
         "9",
         "@awesomeposted Coba perhatikan nie pa presiden @prabowo @mprgoid biar mata hati anda terbuka dan ini mirip bapaknya @gibran_tweet",
         "Coba perhatikan nie pa presiden   biar mata hati anda terbuka dan ini mirip bapaknya",
         "84",
         "14",
         "0.007692307692307693"
        ],
        [
         "10",
         "10",
         "Padahal: Banyak kritik Gen Z bersumber dari literasi digital tinggi kesadaran iklim dan keinginan akan transparansi. - Aurelia @senjatanuklir",
         "Padahal  Banyak kritik Gen Z bersumber dari literasi digital tinggi kesadaran iklim dan keinginan akan transparansi    Aurelia",
         "126",
         "17",
         "0.035211267605633804"
        ],
        [
         "11",
         "11",
         "@kucingtelorasin @KokoprotKesang @MkarimAhusni @AndiePeci Halo! Pemilik PT Yihong Novatex Indonesia kemungkinan besar dari China tapi info pasti soal nama atau perusahaan induknya nggak jelas di data publik. Banyak laporan sebut ini perusahaan Tiongkok na",
         "Halo  Pemilik PT Yihong Novatex Indonesia kemungkinan besar dari China tapi info pasti soal nama atau perusahaan induknya tidak jelas di data publik  Banyak laporan sebut ini perusahaan Tiongkok na",
         "197",
         "30",
         "0.0625"
        ],
        [
         "12",
         "12",
         "Program Asta Cita adalah program yg dibentuk untuk mendorong kemandirian bangsa melalui #SwasembadaPangan nasional. Dan Petrokimia Gresik bertugas untuk membantu menjamin ketersediaan #StokPupukPG bagi para petani #PetrokimiaGresik #SolusiAgroindustri",
         "Program Asta Cita adalah program yang dibentuk untuk mendorong kemandirian bangsa melalui  nasional  Dan Petrokimia Gresik bertugas untuk membantu menjamin ketersediaan  bagi para petani",
         "186",
         "24",
         "0.06349206349206349"
        ],
        [
         "13",
         "13",
         " @Lembayung071 @gibran_tweet @prabowo @DedynurPalakka @setkabgoid @KemensetnegRI Untuk memoles rumah saja tidak cukup waktu sehari nah ini mau memoles seperti apapun tidak akan pernah cukup waktu bertahun2 karena yang dipoles tersebut SANGAT TERBATAS KOMPETENSINYA",
         "Untuk memoles rumah saja tidak cukup waktu sehari nah ini mau memoles seperti apapun tidak akan pernah cukup waktu bertahun2 karena yang dipoles tersebut SANGAT TERBATAS KOMPETENSINYA",
         "183",
         "27",
         "0.12830188679245283"
        ],
        [
         "14",
         "14",
         "@mas_veel @prabowo @gibran_tweet Penjilat Mulyono wajib jilatin biar dapat jabatan.wkwkwkwkwk Buzer bansos tetep teguh biar dapat sumbangan dana dari tuan ternaknya karena buzer ini mulai haluu.wkwkwkwkwk",
         "Penjilat Mulyono wajib jilatin biar dapat jabatan wkwkwkwkwk Buzer bansos tetep teguh biar dapat sumbangan dana dari tuan ternaknya karena buzer ini mulai haluu wkwkwkwkwk",
         "171",
         "25",
         "0.014634146341463415"
        ],
        [
         "15",
         "15",
         "Penegakan hukum yang tegas dan transparan adalah kunci keadilan! Usut Tuntas Penembakan Polisi agar tidak ada lagi pelanggaran HAM yang dibiarkan. #TegakkanHAM @KomnasHAM @DivHumas_Polri https://t.co/wPPTSNfpCX",
         "Penegakan hukum yang tegas dan transparan adalah kunci keadilan  Usut Tuntas Penembakan Polisi agar tidak ada lagi pelanggaran HAM yang dibiarkan",
         "145",
         "21",
         "0.12322274881516587"
        ],
        [
         "16",
         "16",
         "@azizbas_ @ecommurz Ya saya bisa diblokir oleh pemerintah yang mengontrol internet seperti China atau Rusia karena alasan seperti pelanggaran konten keamanan nasional privasi data sensitivitas budaya atau kontrol politik. Di Indonesia pemerintah juga bisa",
         "Ya saya bisa diblokir oleh pemerintah yang mengontrol internet seperti China atau Rusia karena alasan seperti pelanggaran konten keamanan nasional privasi data sensitivitas budaya atau kontrol politik  Di Indonesia pemerintah juga bisa",
         "235",
         "32",
         "0.01953125"
        ],
        [
         "17",
         "17",
         "Jangan cuma ngajarin anak-anak cara main game ajari mereka juga cara melindungi diri di dunia maya. @bssn_ri @DPR_RI https://t.co/aoKqIl6cuA",
         "Jangan cuma ngajarin anak anak cara main game ajari mereka juga cara melindungi diri di dunia maya",
         "98",
         "17",
         "0.06382978723404255"
        ],
        [
         "18",
         "18",
         "@tanyakanrl Banyak masyarakat tertipu melalui aplikasi palsu yang dikirim via pesan instan. Oleh karena itu kami menyarankan penggunaan #GalaxyA06 yang telah dilengkapi fitur #AutoBlockerAPKDilawan agar privasi dan keamanan data tetap #PastiBeneranAman.",
         "Banyak masyarakat tertipu melalui aplikasi palsu yang dikirim via pesan instan  Oleh karena itu kami menyarankan penggunaan  yang telah dilengkapi fitur  agar privasi dan keamanan data tetap",
         "190",
         "27",
         "0.051181102362204724"
        ],
        [
         "19",
         "19",
         "@ZulkifliLubis69 @jokowi Eh zul Lu mau khianati jokowi? Lu anggap remeh gibran? Pilpres masih lama lu udah njilat aja ke Prabowo",
         "Eh zul Lu mau khianati jokowi  Lu anggap remeh gibran  Pilpres masih lama lu udah njilat saja ke Prabowo",
         "104",
         "19",
         "0.05426356589147287"
        ],
        [
         "20",
         "20",
         "Tidak hanya berbagi Petrokimia Gresik juga memberikan pelatihan kewirausahaan bagi UMKM lokal! Dari cara pemasaran hingga pengelolaan usaha kami ingin membantu ekonomi masyarakat lebih berkembang! #BerbagiBerkah #PetrokimiaGresik #SolusiAgroindustri",
         "Tidak hanya berbagi Petrokimia Gresik juga memberikan pelatihan kewirausahaan bagi UMKM lokal  Dari cara pemasaran hingga pengelolaan usaha kami ingin membantu ekonomi masyarakat lebih berkembang",
         "195",
         "25",
         "0.056"
        ],
        [
         "21",
         "21",
         "@Rusli888_ Halo @Rusli888_! Maaf atas diamku tadi . Saya setuju membangun desa harus dari memahami kebutuhan dan potensi masyarakatnya. Inisiatif digitalisasi desa pemerintah targetkan 75.265 desa jadi Desa Digital tahun 2025 sepertinya selaras dengan vis",
         "Halo   Maaf atas diamku tadi   Saya setuju membangun desa harus dari memahami kebutuhan dan potensi masyarakatnya  Inisiatif digitalisasi desa pemerintah targetkan 75 265 desa jadi Desa Digital tahun 2025 sepertinya selaras dengan vis",
         "234",
         "33",
         "0.03125"
        ],
        [
         "22",
         "22",
         "Indonesia terus berkembang ekonomi yang solid berkat kepemimpinan Presiden Prabowo. #Pertumbuhan Ekonomi Digital #EkonomoDigital https://t.co/ZOIvryfnzQ",
         "Indonesia terus berkembang ekonomi yang solid berkat kepemimpinan Presiden Prabowo   Ekonomi Digital",
         "100",
         "12",
         "0.0784313725490196"
        ],
        [
         "23",
         "23",
         "Seenggaknya kalo vs prabowo vs gibran masih mendingan lah berani nantang2in preman sama bersihin bantaran kali",
         "Seenggaknya kalo vs prabowo vs gibran masih mendingan lah berani nantang2in preman sama bersihin bantaran kali",
         "110",
         "16",
         "0.009009009009009009"
        ],
        [
         "24",
         "24",
         "Pertamina bersatu untuk dapat memperkuat SDM demi mencapai swasembada energi nasional supaya Indonesia bisa lebih mandiri dalam sektor energi. https://t.co/sFCvapgfsE",
         "Pertamina bersatu untuk dapat memperkuat SDM demi mencapai swasembada energi nasional supaya Indonesia bisa lebih mandiri dalam sektor energi",
         "141",
         "19",
         "0.04790419161676647"
        ],
        [
         "25",
         "25",
         "@bachrum_achmadi @mohtahid Wihhh cakeeeeppp!! @gibran_tweet gitu lhoh!! Anaknya @jokowi gitu lhoh!! Wakil presiden Republik Indonesia gitu lhoh!! Wakilnya @prabowo gitu lhoh!! Makanya jangan dibuli lagi ya netizen... Apalagi klo sedang nge-Youtube.",
         "Wihhh cakeeeeppp    gitu lhoh   Anaknya  gitu lhoh   Wakil presiden Republik Indonesia gitu lhoh   Wakilnya  gitu lhoh   Makanya jangan dibuli lagi ya netizen    Apalagi klo sedang nge Youtube",
         "192",
         "27",
         "0.03614457831325301"
        ],
        [
         "26",
         "26",
         "@ARSIPAJA Mau ganti pake ai sim jg kalau data ktp kk dll bisa bocor ya gubrak bu.",
         "Mau ganti pake ai sim juga kalau data ktp kk dll bisa bocor ya gubrak bu",
         "72",
         "16",
         "0.10975609756097561"
        ],
        [
         "27",
         "27",
         "@ayreenflow lagi nyari tutorial merubah nilai jadi saldo belum nemu ini kak dari tadi pagi",
         "lagi nyari tutorial merubah nilai jadi saldo belum nemu ini kak dari tadi pagi",
         "78",
         "14",
         "0.0"
        ],
        [
         "28",
         "28",
         "@coldnaicha_ @JoseAndre89 Pdhl mereka selalu teriak demokrasi tp beda pilihan aja lgsg kaya gitu bahkan menghubung2kan dengan apa yg gak semestinya alias gak nyambung",
         "Pdhl mereka selalu teriak demokrasi tapi beda pilihan saja lgsg kaya gitu bahkan menghubung2kan dengan apa yang tidak semestinya alias tidak nyambung",
         "149",
         "22",
         "0.017964071856287425"
        ],
        [
         "29",
         "29",
         "Hidup dewasa ini : tetap kerja walau sudah capek karena overwork. Tetap dikerjain walaupun jobdesk bisa lebih dari satu. Tetap profesional di tengah lingkungan toxic karena masih butuh duit.",
         "Hidup dewasa ini   tetap kerja walau sudah capek karena overwork  Tetap dikerjain walaupun jobdesk bisa lebih dari satu  Tetap profesional di tengah lingkungan toxic karena masih butuh duit",
         "189",
         "28",
         "0.015706806282722512"
        ],
        [
         "30",
         "30",
         "Semoga nilai-nilai keikhlasan pengorbanan dan kebersamaan senantiasa menjadi pedoman dalam menjalankan tugas dan memberikan pelayanan terbaik kepada masyarakat. #guardandguide #imigrasisingkawang #kerjapakaihati",
         "Semoga nilai nilai keikhlasan pengorbanan dan kebersamaan senantiasa menjadi pedoman dalam menjalankan tugas dan memberikan pelayanan terbaik kepada masyarakat",
         "159",
         "19",
         "0.0047169811320754715"
        ],
        [
         "31",
         "31",
         "@IndonesiaJadi Salut banget liat masyarakat solid dukung program pendidikan sains teknologi dari pemerintah sekolah garuda unggul jadi inspirasi banget",
         "Salut banget liat masyarakat solid dukung program pendidikan sains teknologi dari pemerintah sekolah garuda unggul jadi inspirasi banget",
         "136",
         "18",
         "0.019736842105263157"
        ],
        [
         "32",
         "32",
         "Di dunia yang serba digital ini punya portofolio online itu wajib banget guys! Bukan hanya buat pamer tapi juga sebagai cara untuk menunjukkan skill dan pengalaman kamu kepada calon klien atau perusahaan yang kamu incar. https://t.co/3egUBOFflc",
         "Di dunia yang serba digital ini punya portofolio online itu wajib banget guys  Bukan hanya buat pamer tapi juga sebagai cara untuk menunjukkan skill dan pengalaman kamu kepada calon klien atau perusahaan yang kamu incar",
         "219",
         "35",
         "0.024489795918367346"
        ],
        [
         "33",
         "33",
         "Gali terus sampai habis Â¿? buat Rakyat seNusantara kah ? Daya rusak nya melebihi ekspektasi+ keuntungannya apa buat Rakyat? Reformasi julid hanya beban. Hutang makin banyak pajak over.. Giliran kasih subsidi listrik hanya 2 bln naik setelahnya Â¿? https://t.co/Ha8UyYls5z",
         "Gali terus sampai habis     buat Rakyat seNusantara kah   Daya rusak nya melebihi ekspektasi  keuntungannya apa buat Rakyat  Reformasi julid hanya beban  Hutang makin banyak pajak over   Giliran kasih subsidi listrik hanya 2 bln naik setelahnya",
         "244",
         "35",
         "0.047619047619047616"
        ],
        [
         "34",
         "34",
         "@MRKsav3r @myureceptor @ikanatassa Iya kalau mengulik sosmed yang bersifat privat seperti pesan pribadi itu masuk ranah privat dan dilindungi UU PDP No. 27/2022. Hukumnya butuh persetujuan untuk akses data privat kalau tidak bisa melanggar privasi dan ken",
         "Iya kalau mengulik sosmed yang bersifat privat seperti pesan pribadi itu masuk ranah privat dan dilindungi UU PDP No  27 2022  Hukumnya butuh persetujuan untuk akses data privat kalau tidak bisa melanggar privasi dan ken",
         "220",
         "35",
         "0.04296875"
        ],
        [
         "35",
         "35",
         "@ZainalKaimuddin @zerapinn Betul teknologi mahal utk pabrikan bahan baku mahal krn sptnya varietas tertentu yg bisa diolah. Blm lg masalah ijin BPOM Kasusnya akan sama spt minyak kelapa n sawit.. Apresiasi utk anak muda yg berinovasi.",
         "Betul teknologi mahal untuk pabrikan bahan baku mahal krn sptnya varietas tertentu yang bisa diolah  Blm lg masalah ijin BPOM Kasusnya akan sama spt minyak kelapa n sawit   Apresiasi untuk anak muda yang berinovasi",
         "214",
         "34",
         "0.0425531914893617"
        ],
        [
         "36",
         "36",
         "Alumni kepamongprajaan memiliki peran strategis dalam menciptakan tata kelola pemerintahan yang lebih efektif dan berorientasi pada pelayanan masyarakat. Dengan kolaborasi yang solid kita bisa mewujudkan Makassar yang lebih maju inklusif dan berkelanjutan #MenujuMakassarMulia https://t.co/OggkzFwTnZ",
         "Alumni kepamongprajaan memiliki peran strategis dalam menciptakan tata kelola pemerintahan yang lebih efektif dan berorientasi pada pelayanan masyarakat  Dengan kolaborasi yang solid kita bisa mewujudkan Makassar yang lebih maju inklusif dan berkelanjutan",
         "255",
         "32",
         "0.03322259136212625"
        ],
        [
         "37",
         "37",
         "@__AnakKolong Penjahat demokrasi/konstitusi/undangÃ‚Â² penjahat moral penjahat adab penjahat etik penjahat wewenang penjahat sendiÃ‚Â² bernegara perlu seringÃ‚Â²dipoles agar selalu tampak baik demi 2029.",
         "Penjahat demokrasi konstitusi undang     penjahat moral penjahat adab penjahat etik penjahat wewenang penjahat sendi     bernegara perlu sering    dipoles agar selalu tampak baik demi 2029",
         "188",
         "24",
         "0.04411764705882353"
        ],
        [
         "38",
         "38",
         "Merencanakan karier jauh lebih dari sekadar memilih pekerjaan. Di zaman yang semuanya serba digital ini penting banget buat kamu untuk memikirkan masa depan. https://t.co/H5C4K31tGq",
         "Merencanakan karier jauh lebih dari sekadar memilih pekerjaan  Di zaman yang semuanya serba digital ini penting banget buat kamu untuk memikirkan masa depan",
         "156",
         "23",
         "0.03296703296703297"
        ],
        [
         "39",
         "39",
         " KESIMPULAN Praktika lintas bidang menunjukkan bahwa ilmu informatika tidak eksklusif untuk dunia komputer melainkan berperan penting di semua sektor kehidupan. Kemampuan mengintegrasikan teknologi dan pengetahuan bidang lain adalah keterampilan penting di era digital.",
         "KESIMPULAN Praktika lintas bidang menunjukkan bahwa ilmu informatika tidak eksklusif untuk dunia komputer melainkan berperan penting di semua sektor kehidupan  Kemampuan mengintegrasikan teknologi dan pengetahuan bidang lain adalah keterampilan penting di era digital",
         "267",
         "33",
         "0.044444444444444446"
        ],
        [
         "40",
         "40",
         "@AntangRajah Tanggung jawab kita semua untuk menjaga dunia maya tetap bebas dari judi online. Bersama kita bisa menciptakan lingkungan yang lebih sehat dan aman! #JudiOnline #BerantasJudiOnline #AstaCita",
         "Tanggung jawab kita semua untuk menjaga dunia maya tetap bebas dari judi online  Bersama kita bisa menciptakan lingkungan yang lebih sehat dan aman",
         "147",
         "23",
         "0.05392156862745098"
        ],
        [
         "41",
         "41",
         "@Akunketiga003 @herristiawan @NarasiNewsroom Betul kebijakan soal DT memang diubah. Cuma impact ke logistik hanya sekedar angka karna ada instansi kolot jadul kuno dan tolol yang masih ngurus segala sesuatu pake kertas. Padahal instruksinya jelas digitalisasi. Tapi si instansi goblok masih mengglorifikasi paperwork",
         "Betul kebijakan soal DT memang diubah  Cuma impact ke logistik hanya sekedar angka karna ada instansi kolot jadul kuno dan tolol yang masih ngurus segala sesuatu pake kertas  Padahal instruksinya jelas digitalisasi  Tapi si instansi goblok masih mengglorifikasi paperwork",
         "271",
         "39",
         "0.028391167192429023"
        ],
        [
         "42",
         "42",
         "Empat program utama Infinity 2.0 adalah pendanaan kreatif Web3 hackathon blockchain digitalisasi sapi perah dan buletin keamanan siber",
         "Empat program utama Infinity 2 0 adalah pendanaan kreatif Web3 hackathon blockchain digitalisasi sapi perah dan buletin keamanan siber",
         "134",
         "19",
         "0.022222222222222223"
        ],
        [
         "43",
         "43",
         "@xquitavee @jokowi @prabowo @gibran_tweet Lu sih enak kaga punya otak. Kaga bakalan bisa somplak. Mikir!!! Pake dengkullu keq pake jidatlu keq biar paham kenapa dikritik dan diejek. Bahlil ! ",
         "Lu sih enak kaga punya otak  Kaga bakalan bisa somplak  Mikir    Pake dengkullu keq pake jidatlu keq biar paham kenapa dikritik dan diejek  Bahlil",
         "146",
         "24",
         "0.026041666666666668"
        ],
        [
         "44",
         "44",
         "@mfs_ub ribet wong kari ngomong kok ngatur2. malah dadi ajang rasis. punya bahasa nasional ( bahasa Indonesia) buat apa kalo ngga dipake. Ã¢Â€Â Ã¯Â¸Â Ã¢Â€Â Ã¯Â¸Â Ã¢Â€Â Ã¯Â¸Â  wes sekolahh duwur2 kok isih ngeributi hal sepele ngene Iki Yo isin nduk nduk.",
         "ribet wong kari ngomong kok ngatur2  malah dadi ajang rasis  punya bahasa nasional   bahasa Indonesia  buat apa kalo ngga dipake                                      wes sekolahh duwur2 kok isih ngeributi hal sepele ngene Iki Yo isin nduk nduk",
         "243",
         "34",
         "0.08267716535433071"
        ],
        [
         "45",
         "45",
         "@saskya111 Bentar kak gw runut bentar ye Ini lu ngaku ga pernah apply mandiri tp dapat penipuan ngaku awalnya dari mandiri dan yg lu ss akun daerah banten karna elu domisili sana apa gimana ? Yg gw baca sekilas ini mah data lu bocor entah darimana tp elu",
         "Bentar kak gw runut bentar ye Ini lu ngaku tidak pernah apply mandiri tapi dapat penipuan ngaku awalnya dari mandiri dan yang lu ss akun daerah banten karna elu domisili sana apa gimana   Yg gw baca sekilas ini mah data lu bocor entah darimana tapi elu",
         "252",
         "46",
         "0.011764705882352941"
        ],
        [
         "46",
         "46",
         "Menteri Koordinator Bidang Pangan Zulkifli Hasan optimistis Indonesia tak mengimpor beras tahun ini. Sebelumnya Presiden Prabowo Subianto menegaskan komitmen pemerintah untuk menghentikan impor beras jagung dan garam pada akhir 2025 sebagai swasembada pangan. #SmartNews https://t.co/jnZGIffZIH",
         "Menteri Koordinator Bidang Pangan Zulkifli Hasan optimistis Indonesia tak mengimpor beras tahun ini  Sebelumnya Presiden Prabowo Subianto menegaskan komitmen pemerintah untuk menghentikan impor beras jagung dan garam pada akhir 2025 sebagai swasembada pangan",
         "258",
         "33",
         "0.06440677966101695"
        ],
        [
         "47",
         "47",
         "@WongF3hung @denismalhotra @gibran_tweet @prabowo Gibran Rakabuming Raka telah mendampingi Prabowo Subianto dengan kontribusi seperti mendistribusikan makan siang gratis dan mengunjungi daerah bencana selama 100 hari pertama (20 Okt 2024 28 Jan 2025). Nam",
         "Gibran Rakabuming Raka telah mendampingi Prabowo Subianto dengan kontribusi seperti mendistribusikan makan siang gratis dan mengunjungi daerah bencana selama 100 hari pertama  20 Okt 2024 28 Jan 2025   Nam",
         "205",
         "29",
         "0.0390625"
        ],
        [
         "48",
         "48",
         "padahal di korea warganya demo untuk nurunin presidennya bisa bisa aja alhasil presidennya di off in dari pekerjaan selama beberapa saat. di indo mau rakyatnya menderita demo kaya apapun gabakal ti prabowo gibran bakal turun. siap siap jadi negara indohell selama 5th",
         "padahal di korea warganya demo untuk nurunin presidennya bisa bisa saja alhasil presidennya di off in dari pekerjaan selama beberapa saat  di indo mau rakyatnya menderita demo kaya apapun gabakal ti prabowo gibran bakal turun  siap siap jadi negara indohell selama 5th",
         "268",
         "42",
         "0.0"
        ],
        [
         "49",
         "49",
         "fotocopy ktp ya mas.. Taek taek. Hal paling ga masuk akal ga maju blas. Prosoku iki wes e-ktp tinggal akses ae data2e muncul. https://t.co/VqWvudqxkQ",
         "fotocopy ktp ya mas   Taek taek  Hal paling tidak masuk akal tidak maju blas  Prosoku iki wes e ktp tinggal akses ae data2e muncul",
         "130",
         "24",
         "0.04"
        ]
       ],
       "shape": {
        "columns": 6,
        "rows": 5000
       }
      },
      "text/html": [
       "<div>\n",
       "<style scoped>\n",
       "    .dataframe tbody tr th:only-of-type {\n",
       "        vertical-align: middle;\n",
       "    }\n",
       "\n",
       "    .dataframe tbody tr th {\n",
       "        vertical-align: top;\n",
       "    }\n",
       "\n",
       "    .dataframe thead th {\n",
       "        text-align: right;\n",
       "    }\n",
       "</style>\n",
       "<table border=\"1\" class=\"dataframe\">\n",
       "  <thead>\n",
       "    <tr style=\"text-align: right;\">\n",
       "      <th></th>\n",
       "      <th>id</th>\n",
       "      <th>text</th>\n",
       "      <th>text_clean</th>\n",
       "      <th>text_len</th>\n",
       "      <th>word_count</th>\n",
       "      <th>capital_ratio</th>\n",
       "    </tr>\n",
       "  </thead>\n",
       "  <tbody>\n",
       "    <tr>\n",
       "      <th>0</th>\n",
       "      <td>0</td>\n",
       "      <td>@xuminghao_ogf @ShopeeID @ShopeePay_ID Bapak g...</td>\n",
       "      <td>Bapak gua juga begini bedanya dia bahkan gaper...</td>\n",
       "      <td>109</td>\n",
       "      <td>18</td>\n",
       "      <td>0.053691</td>\n",
       "    </tr>\n",
       "    <tr>\n",
       "      <th>1</th>\n",
       "      <td>1</td>\n",
       "      <td>tidak hanya membayangkan masa depan sebagai ki...</td>\n",
       "      <td>tidak hanya membayangkan masa depan sebagai ki...</td>\n",
       "      <td>198</td>\n",
       "      <td>26</td>\n",
       "      <td>0.005025</td>\n",
       "    </tr>\n",
       "    <tr>\n",
       "      <th>2</th>\n",
       "      <td>2</td>\n",
       "      <td>@feliscxtus Kalau aku jadi pemimpin RI visiku ...</td>\n",
       "      <td>Kalau aku jadi pemimpin RI visiku bikin Indone...</td>\n",
       "      <td>243</td>\n",
       "      <td>37</td>\n",
       "      <td>0.035156</td>\n",
       "    </tr>\n",
       "    <tr>\n",
       "      <th>3</th>\n",
       "      <td>3</td>\n",
       "      <td>@EkoDwiSant73293 @Dahnilanzar @prabowo Masyara...</td>\n",
       "      <td>Masyarakat bisa menerapkan strategi seperti be...</td>\n",
       "      <td>218</td>\n",
       "      <td>27</td>\n",
       "      <td>0.019380</td>\n",
       "    </tr>\n",
       "    <tr>\n",
       "      <th>4</th>\n",
       "      <td>4</td>\n",
       "      <td>@goonjol Mengamankan data pribadi rakyat RI si...</td>\n",
       "      <td>Mengamankan data pribadi rakyat RI sik durung ...</td>\n",
       "      <td>96</td>\n",
       "      <td>13</td>\n",
       "      <td>0.028302</td>\n",
       "    </tr>\n",
       "    <tr>\n",
       "      <th>...</th>\n",
       "      <td>...</td>\n",
       "      <td>...</td>\n",
       "      <td>...</td>\n",
       "      <td>...</td>\n",
       "      <td>...</td>\n",
       "      <td>...</td>\n",
       "    </tr>\n",
       "    <tr>\n",
       "      <th>4995</th>\n",
       "      <td>4995</td>\n",
       "      <td>Cuma mau ngingetin den presiden @prabowo Sama ...</td>\n",
       "      <td>Cuma mau ngingetin den presiden  Sama kil den ...</td>\n",
       "      <td>161</td>\n",
       "      <td>27</td>\n",
       "      <td>0.020513</td>\n",
       "    </tr>\n",
       "    <tr>\n",
       "      <th>4996</th>\n",
       "      <td>4996</td>\n",
       "      <td>@BebySoSweet Bikin usaha aja selalu bubar ini ...</td>\n",
       "      <td>Bikin usaha saja selalu bubar ini pakai janji ...</td>\n",
       "      <td>153</td>\n",
       "      <td>24</td>\n",
       "      <td>0.024390</td>\n",
       "    </tr>\n",
       "    <tr>\n",
       "      <th>4997</th>\n",
       "      <td>4997</td>\n",
       "      <td>@BebySoSweet Sebenar nya @gibran_tweet ini uda...</td>\n",
       "      <td>Sebenar nya  ini udah banyak buka lapangan pek...</td>\n",
       "      <td>243</td>\n",
       "      <td>35</td>\n",
       "      <td>0.014981</td>\n",
       "    </tr>\n",
       "    <tr>\n",
       "      <th>4998</th>\n",
       "      <td>4998</td>\n",
       "      <td>@WongAlasRoban Bentuk pengusiran secara Halus....</td>\n",
       "      <td>Bentuk pengusiran secara Halus  Atau Memang Ki...</td>\n",
       "      <td>183</td>\n",
       "      <td>27</td>\n",
       "      <td>0.059113</td>\n",
       "    </tr>\n",
       "    <tr>\n",
       "      <th>4999</th>\n",
       "      <td>4999</td>\n",
       "      <td>@kalajenkink @V3g3L Sekarang sdh jd negara odo...</td>\n",
       "      <td>Sekarang sudah jd negara odong2 krn ulah pemim...</td>\n",
       "      <td>284</td>\n",
       "      <td>48</td>\n",
       "      <td>0.113712</td>\n",
       "    </tr>\n",
       "  </tbody>\n",
       "</table>\n",
       "<p>5000 rows × 6 columns</p>\n",
       "</div>"
      ],
      "text/plain": [
       "        id                                               text  \\\n",
       "0        0  @xuminghao_ogf @ShopeeID @ShopeePay_ID Bapak g...   \n",
       "1        1  tidak hanya membayangkan masa depan sebagai ki...   \n",
       "2        2  @feliscxtus Kalau aku jadi pemimpin RI visiku ...   \n",
       "3        3  @EkoDwiSant73293 @Dahnilanzar @prabowo Masyara...   \n",
       "4        4  @goonjol Mengamankan data pribadi rakyat RI si...   \n",
       "...    ...                                                ...   \n",
       "4995  4995  Cuma mau ngingetin den presiden @prabowo Sama ...   \n",
       "4996  4996  @BebySoSweet Bikin usaha aja selalu bubar ini ...   \n",
       "4997  4997  @BebySoSweet Sebenar nya @gibran_tweet ini uda...   \n",
       "4998  4998  @WongAlasRoban Bentuk pengusiran secara Halus....   \n",
       "4999  4999  @kalajenkink @V3g3L Sekarang sdh jd negara odo...   \n",
       "\n",
       "                                             text_clean  text_len  word_count  \\\n",
       "0     Bapak gua juga begini bedanya dia bahkan gaper...       109          18   \n",
       "1     tidak hanya membayangkan masa depan sebagai ki...       198          26   \n",
       "2     Kalau aku jadi pemimpin RI visiku bikin Indone...       243          37   \n",
       "3     Masyarakat bisa menerapkan strategi seperti be...       218          27   \n",
       "4     Mengamankan data pribadi rakyat RI sik durung ...        96          13   \n",
       "...                                                 ...       ...         ...   \n",
       "4995  Cuma mau ngingetin den presiden  Sama kil den ...       161          27   \n",
       "4996  Bikin usaha saja selalu bubar ini pakai janji ...       153          24   \n",
       "4997  Sebenar nya  ini udah banyak buka lapangan pek...       243          35   \n",
       "4998  Bentuk pengusiran secara Halus  Atau Memang Ki...       183          27   \n",
       "4999  Sekarang sudah jd negara odong2 krn ulah pemim...       284          48   \n",
       "\n",
       "      capital_ratio  \n",
       "0          0.053691  \n",
       "1          0.005025  \n",
       "2          0.035156  \n",
       "3          0.019380  \n",
       "4          0.028302  \n",
       "...             ...  \n",
       "4995       0.020513  \n",
       "4996       0.024390  \n",
       "4997       0.014981  \n",
       "4998       0.059113  \n",
       "4999       0.113712  \n",
       "\n",
       "[5000 rows x 6 columns]"
      ]
     },
     "execution_count": 30,
     "metadata": {},
     "output_type": "execute_result"
    }
   ],
   "source": [
    "test"
   ]
  },
  {
   "cell_type": "code",
   "execution_count": 31,
   "id": "16801d36",
   "metadata": {},
   "outputs": [],
   "source": [
    "train_df, val_df = train_test_split(train, test_size=0.2, stratify=train[\"label_enc\"], random_state=42)"
   ]
  },
  {
   "cell_type": "code",
   "execution_count": 32,
   "id": "6644380e",
   "metadata": {},
   "outputs": [],
   "source": [
    "model_name = \"indolem/indobertweet-base-uncased\"\n",
    "tokenizer = AutoTokenizer.from_pretrained(model_name)"
   ]
  },
  {
   "cell_type": "code",
   "execution_count": 33,
   "id": "691546d2",
   "metadata": {},
   "outputs": [
    {
     "name": "stderr",
     "output_type": "stream",
     "text": [
      "Map: 100%|██████████| 4000/4000 [00:00<00:00, 5281.54 examples/s]\n",
      "Map: 100%|██████████| 1000/1000 [00:00<00:00, 5589.04 examples/s]\n"
     ]
    }
   ],
   "source": [
    "def preprocess_function(examples):\n",
    "    return tokenizer(examples[\"text\"], truncation=True, padding=\"max_length\", max_length=128)\n",
    "\n",
    "train_dataset = HFDataset.from_pandas(train_df[[\"text\", \"label_enc\"]])\n",
    "val_dataset = HFDataset.from_pandas(val_df[[\"text\", \"label_enc\"]])\n",
    "train_dataset = train_dataset.map(preprocess_function, batched=True)\n",
    "val_dataset = val_dataset.map(preprocess_function, batched=True)\n",
    "\n",
    "train_dataset = train_dataset.rename_column(\"label_enc\", \"labels\")\n",
    "val_dataset = val_dataset.rename_column(\"label_enc\", \"labels\")\n",
    "train_dataset.set_format(\"torch\", columns=[\"input_ids\", \"attention_mask\", \"labels\"])\n",
    "val_dataset.set_format(\"torch\", columns=[\"input_ids\", \"attention_mask\", \"labels\"])"
   ]
  },
  {
   "cell_type": "code",
   "execution_count": 34,
   "id": "f06c634c",
   "metadata": {},
   "outputs": [],
   "source": [
    "def compute_metrics(eval_pred):\n",
    "    logits, labels = eval_pred\n",
    "    predictions = np.argmax(logits, axis=-1)\n",
    "    bal_acc = balanced_accuracy_score(labels, predictions)\n",
    "    return {\"balanced_accuracy\": bal_acc}"
   ]
  },
  {
   "cell_type": "code",
   "execution_count": 35,
   "id": "d5239dd0",
   "metadata": {},
   "outputs": [],
   "source": [
    "def model_init():\n",
    "    return AutoModelForSequenceClassification.from_pretrained(model_name, num_labels=len(le.classes_))\n",
    "\n",
    "def optuna_hp_space(trial):\n",
    "    return {\n",
    "        \"learning_rate\": trial.suggest_float(\"learning_rate\", 1e-5, 5e-5, log=True),\n",
    "        \"num_train_epochs\": trial.suggest_int(\"num_train_epochs\", 2, 6),\n",
    "        \"per_device_train_batch_size\": trial.suggest_categorical(\"per_device_train_batch_size\", [8, 16, 32]),\n",
    "        \"warmup_ratio\": trial.suggest_float(\"warmup_ratio\", 0.0, 0.2),\n",
    "        \"weight_decay\": trial.suggest_float(\"weight_decay\", 0.0, 0.3),\n",
    "    }"
   ]
  },
  {
   "cell_type": "code",
   "execution_count": 36,
   "id": "f14c09af",
   "metadata": {},
   "outputs": [
    {
     "name": "stderr",
     "output_type": "stream",
     "text": [
      "C:\\Users\\MSI_PC\\AppData\\Local\\Temp\\ipykernel_12316\\2841806120.py:14: FutureWarning: `tokenizer` is deprecated and will be removed in version 5.0.0 for `Trainer.__init__`. Use `processing_class` instead.\n",
      "  trainer = Trainer(\n",
      "Some weights of BertForSequenceClassification were not initialized from the model checkpoint at indolem/indobertweet-base-uncased and are newly initialized: ['classifier.bias', 'classifier.weight']\n",
      "You should probably TRAIN this model on a down-stream task to be able to use it for predictions and inference.\n"
     ]
    }
   ],
   "source": [
    "training_args = TrainingArguments(\n",
    "    output_dir=\"./results\",\n",
    "    eval_strategy=\"epoch\",\n",
    "    save_strategy=\"epoch\",\n",
    "    learning_rate=2e-5,\n",
    "    per_device_train_batch_size=16,\n",
    "    per_device_eval_batch_size=16,\n",
    "    num_train_epochs=3,\n",
    "    weight_decay=0.01,\n",
    "    load_best_model_at_end=True,\n",
    "    metric_for_best_model=\"balanced_accuracy\",\n",
    ")\n",
    "\n",
    "trainer = Trainer(\n",
    "    model_init=model_init,\n",
    "    args=training_args,\n",
    "    train_dataset=train_dataset,\n",
    "    eval_dataset=val_dataset,\n",
    "    tokenizer=tokenizer,\n",
    "    compute_metrics=compute_metrics,\n",
    ")"
   ]
  },
  {
   "cell_type": "code",
   "execution_count": 37,
   "id": "2cc78d89",
   "metadata": {},
   "outputs": [
    {
     "name": "stderr",
     "output_type": "stream",
     "text": [
      "[I 2025-08-31 23:56:21,340] A new study created in memory with name: no-name-85bf2daf-a3fd-4b8e-8bd6-22353306e8b3\n",
      "Some weights of BertForSequenceClassification were not initialized from the model checkpoint at indolem/indobertweet-base-uncased and are newly initialized: ['classifier.bias', 'classifier.weight']\n",
      "You should probably TRAIN this model on a down-stream task to be able to use it for predictions and inference.\n",
      "c:\\Users\\MSI_PC\\anaconda3\\envs\\proyek_nlp\\lib\\site-packages\\torch\\utils\\data\\dataloader.py:666: UserWarning: 'pin_memory' argument is set as true but no accelerator is found, then device pinned memory won't be used.\n",
      "  warnings.warn(warn_msg)\n"
     ]
    },
    {
     "data": {
      "text/html": [
       "\n",
       "    <div>\n",
       "      \n",
       "      <progress value='375' max='375' style='width:300px; height:20px; vertical-align: middle;'></progress>\n",
       "      [375/375 1:29:43, Epoch 3/3]\n",
       "    </div>\n",
       "    <table border=\"1\" class=\"dataframe\">\n",
       "  <thead>\n",
       " <tr style=\"text-align: left;\">\n",
       "      <th>Epoch</th>\n",
       "      <th>Training Loss</th>\n",
       "      <th>Validation Loss</th>\n",
       "      <th>Balanced Accuracy</th>\n",
       "    </tr>\n",
       "  </thead>\n",
       "  <tbody>\n",
       "    <tr>\n",
       "      <td>1</td>\n",
       "      <td>No log</td>\n",
       "      <td>1.282884</td>\n",
       "      <td>0.430252</td>\n",
       "    </tr>\n",
       "    <tr>\n",
       "      <td>2</td>\n",
       "      <td>No log</td>\n",
       "      <td>1.172827</td>\n",
       "      <td>0.492563</td>\n",
       "    </tr>\n",
       "    <tr>\n",
       "      <td>3</td>\n",
       "      <td>No log</td>\n",
       "      <td>1.154815</td>\n",
       "      <td>0.525694</td>\n",
       "    </tr>\n",
       "  </tbody>\n",
       "</table><p>"
      ],
      "text/plain": [
       "<IPython.core.display.HTML object>"
      ]
     },
     "metadata": {},
     "output_type": "display_data"
    },
    {
     "name": "stderr",
     "output_type": "stream",
     "text": [
      "c:\\Users\\MSI_PC\\anaconda3\\envs\\proyek_nlp\\lib\\site-packages\\torch\\utils\\data\\dataloader.py:666: UserWarning: 'pin_memory' argument is set as true but no accelerator is found, then device pinned memory won't be used.\n",
      "  warnings.warn(warn_msg)\n",
      "c:\\Users\\MSI_PC\\anaconda3\\envs\\proyek_nlp\\lib\\site-packages\\torch\\utils\\data\\dataloader.py:666: UserWarning: 'pin_memory' argument is set as true but no accelerator is found, then device pinned memory won't be used.\n",
      "  warnings.warn(warn_msg)\n",
      "[I 2025-09-01 01:26:32,809] Trial 0 finished with value: 0.5256935224329947 and parameters: {'learning_rate': 1.6871865539597492e-05, 'num_train_epochs': 3, 'per_device_train_batch_size': 32, 'warmup_ratio': 0.09633310348803154, 'weight_decay': 0.13317646922307683}. Best is trial 0 with value: 0.5256935224329947.\n",
      "Some weights of BertForSequenceClassification were not initialized from the model checkpoint at indolem/indobertweet-base-uncased and are newly initialized: ['classifier.bias', 'classifier.weight']\n",
      "You should probably TRAIN this model on a down-stream task to be able to use it for predictions and inference.\n",
      "c:\\Users\\MSI_PC\\anaconda3\\envs\\proyek_nlp\\lib\\site-packages\\torch\\utils\\data\\dataloader.py:666: UserWarning: 'pin_memory' argument is set as true but no accelerator is found, then device pinned memory won't be used.\n",
      "  warnings.warn(warn_msg)\n"
     ]
    },
    {
     "data": {
      "text/html": [
       "\n",
       "    <div>\n",
       "      \n",
       "      <progress value='50' max='2000' style='width:300px; height:20px; vertical-align: middle;'></progress>\n",
       "      [  50/2000 02:47 < 1:53:43, 0.29 it/s, Epoch 0.10/4]\n",
       "    </div>\n",
       "    <table border=\"1\" class=\"dataframe\">\n",
       "  <thead>\n",
       " <tr style=\"text-align: left;\">\n",
       "      <th>Epoch</th>\n",
       "      <th>Training Loss</th>\n",
       "      <th>Validation Loss</th>\n",
       "    </tr>\n",
       "  </thead>\n",
       "  <tbody>\n",
       "  </tbody>\n",
       "</table><p>"
      ],
      "text/plain": [
       "<IPython.core.display.HTML object>"
      ]
     },
     "metadata": {},
     "output_type": "display_data"
    },
    {
     "name": "stderr",
     "output_type": "stream",
     "text": [
      "[W 2025-09-01 01:29:28,874] Trial 1 failed with parameters: {'learning_rate': 3.400360179120958e-05, 'num_train_epochs': 4, 'per_device_train_batch_size': 8, 'warmup_ratio': 0.0994313357038509, 'weight_decay': 0.012768747985179407} because of the following error: KeyboardInterrupt().\n",
      "Traceback (most recent call last):\n",
      "  File \"c:\\Users\\MSI_PC\\anaconda3\\envs\\proyek_nlp\\lib\\site-packages\\optuna\\study\\_optimize.py\", line 201, in _run_trial\n",
      "    value_or_values = func(trial)\n",
      "  File \"c:\\Users\\MSI_PC\\anaconda3\\envs\\proyek_nlp\\lib\\site-packages\\transformers\\integrations\\integration_utils.py\", line 274, in _objective\n",
      "    trainer.train(resume_from_checkpoint=checkpoint, trial=trial)\n",
      "  File \"c:\\Users\\MSI_PC\\anaconda3\\envs\\proyek_nlp\\lib\\site-packages\\transformers\\trainer.py\", line 2238, in train\n",
      "    return inner_training_loop(\n",
      "  File \"c:\\Users\\MSI_PC\\anaconda3\\envs\\proyek_nlp\\lib\\site-packages\\transformers\\trainer.py\", line 2582, in _inner_training_loop\n",
      "    tr_loss_step = self.training_step(model, inputs, num_items_in_batch)\n",
      "  File \"c:\\Users\\MSI_PC\\anaconda3\\envs\\proyek_nlp\\lib\\site-packages\\transformers\\trainer.py\", line 3845, in training_step\n",
      "    self.accelerator.backward(loss, **kwargs)\n",
      "  File \"c:\\Users\\MSI_PC\\anaconda3\\envs\\proyek_nlp\\lib\\site-packages\\accelerate\\accelerator.py\", line 2734, in backward\n",
      "    loss.backward(**kwargs)\n",
      "  File \"c:\\Users\\MSI_PC\\anaconda3\\envs\\proyek_nlp\\lib\\site-packages\\torch\\_tensor.py\", line 647, in backward\n",
      "    torch.autograd.backward(\n",
      "  File \"c:\\Users\\MSI_PC\\anaconda3\\envs\\proyek_nlp\\lib\\site-packages\\torch\\autograd\\__init__.py\", line 354, in backward\n",
      "    _engine_run_backward(\n",
      "  File \"c:\\Users\\MSI_PC\\anaconda3\\envs\\proyek_nlp\\lib\\site-packages\\torch\\autograd\\graph.py\", line 829, in _engine_run_backward\n",
      "    return Variable._execution_engine.run_backward(  # Calls into the C++ engine to run the backward pass\n",
      "KeyboardInterrupt\n",
      "[W 2025-09-01 01:29:28,882] Trial 1 failed with value None.\n"
     ]
    },
    {
     "ename": "KeyboardInterrupt",
     "evalue": "",
     "output_type": "error",
     "traceback": [
      "\u001b[1;31m---------------------------------------------------------------------------\u001b[0m",
      "\u001b[1;31mKeyboardInterrupt\u001b[0m                         Traceback (most recent call last)",
      "Cell \u001b[1;32mIn[37], line 1\u001b[0m\n\u001b[1;32m----> 1\u001b[0m best_trial \u001b[38;5;241m=\u001b[39m \u001b[43mtrainer\u001b[49m\u001b[38;5;241;43m.\u001b[39;49m\u001b[43mhyperparameter_search\u001b[49m\u001b[43m(\u001b[49m\n\u001b[0;32m      2\u001b[0m \u001b[43m    \u001b[49m\u001b[43mdirection\u001b[49m\u001b[38;5;241;43m=\u001b[39;49m\u001b[38;5;124;43m\"\u001b[39;49m\u001b[38;5;124;43mmaximize\u001b[39;49m\u001b[38;5;124;43m\"\u001b[39;49m\u001b[43m,\u001b[49m\n\u001b[0;32m      3\u001b[0m \u001b[43m    \u001b[49m\u001b[43mbackend\u001b[49m\u001b[38;5;241;43m=\u001b[39;49m\u001b[38;5;124;43m\"\u001b[39;49m\u001b[38;5;124;43moptuna\u001b[39;49m\u001b[38;5;124;43m\"\u001b[39;49m\u001b[43m,\u001b[49m\n\u001b[0;32m      4\u001b[0m \u001b[43m    \u001b[49m\u001b[43mhp_space\u001b[49m\u001b[38;5;241;43m=\u001b[39;49m\u001b[43moptuna_hp_space\u001b[49m\u001b[43m,\u001b[49m\n\u001b[0;32m      5\u001b[0m \u001b[43m    \u001b[49m\u001b[43mn_trials\u001b[49m\u001b[38;5;241;43m=\u001b[39;49m\u001b[38;5;241;43m10\u001b[39;49m\u001b[43m,\u001b[49m\u001b[43m  \u001b[49m\u001b[38;5;66;43;03m# bisa ditambah agar hasil lebih optimal\u001b[39;49;00m\n\u001b[0;32m      6\u001b[0m \u001b[43m)\u001b[49m\n\u001b[0;32m      8\u001b[0m \u001b[38;5;28mprint\u001b[39m(\u001b[38;5;124m\"\u001b[39m\u001b[38;5;124mBest trial:\u001b[39m\u001b[38;5;124m\"\u001b[39m, best_trial)\n",
      "File \u001b[1;32mc:\\Users\\MSI_PC\\anaconda3\\envs\\proyek_nlp\\lib\\site-packages\\transformers\\trainer.py:3674\u001b[0m, in \u001b[0;36mTrainer.hyperparameter_search\u001b[1;34m(self, hp_space, compute_objective, n_trials, direction, backend, hp_name, **kwargs)\u001b[0m\n\u001b[0;32m   3671\u001b[0m \u001b[38;5;28mself\u001b[39m\u001b[38;5;241m.\u001b[39mhp_name \u001b[38;5;241m=\u001b[39m hp_name\n\u001b[0;32m   3672\u001b[0m \u001b[38;5;28mself\u001b[39m\u001b[38;5;241m.\u001b[39mcompute_objective \u001b[38;5;241m=\u001b[39m default_compute_objective \u001b[38;5;28;01mif\u001b[39;00m compute_objective \u001b[38;5;129;01mis\u001b[39;00m \u001b[38;5;28;01mNone\u001b[39;00m \u001b[38;5;28;01melse\u001b[39;00m compute_objective\n\u001b[1;32m-> 3674\u001b[0m best_run \u001b[38;5;241m=\u001b[39m backend_obj\u001b[38;5;241m.\u001b[39mrun(\u001b[38;5;28mself\u001b[39m, n_trials, direction, \u001b[38;5;241m*\u001b[39m\u001b[38;5;241m*\u001b[39mkwargs)\n\u001b[0;32m   3676\u001b[0m \u001b[38;5;28mself\u001b[39m\u001b[38;5;241m.\u001b[39mhp_search_backend \u001b[38;5;241m=\u001b[39m \u001b[38;5;28;01mNone\u001b[39;00m\n\u001b[0;32m   3677\u001b[0m \u001b[38;5;28;01mreturn\u001b[39;00m best_run\n",
      "File \u001b[1;32mc:\\Users\\MSI_PC\\anaconda3\\envs\\proyek_nlp\\lib\\site-packages\\transformers\\hyperparameter_search.py:72\u001b[0m, in \u001b[0;36mOptunaBackend.run\u001b[1;34m(self, trainer, n_trials, direction, **kwargs)\u001b[0m\n\u001b[0;32m     71\u001b[0m \u001b[38;5;28;01mdef\u001b[39;00m\u001b[38;5;250m \u001b[39m\u001b[38;5;21mrun\u001b[39m(\u001b[38;5;28mself\u001b[39m, trainer, n_trials: \u001b[38;5;28mint\u001b[39m, direction: \u001b[38;5;28mstr\u001b[39m, \u001b[38;5;241m*\u001b[39m\u001b[38;5;241m*\u001b[39mkwargs):\n\u001b[1;32m---> 72\u001b[0m     \u001b[38;5;28;01mreturn\u001b[39;00m run_hp_search_optuna(trainer, n_trials, direction, \u001b[38;5;241m*\u001b[39m\u001b[38;5;241m*\u001b[39mkwargs)\n",
      "File \u001b[1;32mc:\\Users\\MSI_PC\\anaconda3\\envs\\proyek_nlp\\lib\\site-packages\\transformers\\integrations\\integration_utils.py:292\u001b[0m, in \u001b[0;36mrun_hp_search_optuna\u001b[1;34m(trainer, n_trials, direction, **kwargs)\u001b[0m\n\u001b[0;32m    290\u001b[0m direction \u001b[38;5;241m=\u001b[39m \u001b[38;5;28;01mNone\u001b[39;00m \u001b[38;5;28;01mif\u001b[39;00m directions \u001b[38;5;129;01mis\u001b[39;00m \u001b[38;5;129;01mnot\u001b[39;00m \u001b[38;5;28;01mNone\u001b[39;00m \u001b[38;5;28;01melse\u001b[39;00m direction\n\u001b[0;32m    291\u001b[0m study \u001b[38;5;241m=\u001b[39m optuna\u001b[38;5;241m.\u001b[39mcreate_study(direction\u001b[38;5;241m=\u001b[39mdirection, directions\u001b[38;5;241m=\u001b[39mdirections, \u001b[38;5;241m*\u001b[39m\u001b[38;5;241m*\u001b[39mkwargs)\n\u001b[1;32m--> 292\u001b[0m \u001b[43mstudy\u001b[49m\u001b[38;5;241;43m.\u001b[39;49m\u001b[43moptimize\u001b[49m\u001b[43m(\u001b[49m\u001b[43m_objective\u001b[49m\u001b[43m,\u001b[49m\u001b[43m \u001b[49m\u001b[43mn_trials\u001b[49m\u001b[38;5;241;43m=\u001b[39;49m\u001b[43mn_trials\u001b[49m\u001b[43m,\u001b[49m\u001b[43m \u001b[49m\u001b[43mtimeout\u001b[49m\u001b[38;5;241;43m=\u001b[39;49m\u001b[43mtimeout\u001b[49m\u001b[43m,\u001b[49m\u001b[43m \u001b[49m\u001b[43mn_jobs\u001b[49m\u001b[38;5;241;43m=\u001b[39;49m\u001b[43mn_jobs\u001b[49m\u001b[43m,\u001b[49m\u001b[43m \u001b[49m\u001b[43mgc_after_trial\u001b[49m\u001b[38;5;241;43m=\u001b[39;49m\u001b[43mgc_after_trial\u001b[49m\u001b[43m)\u001b[49m\n\u001b[0;32m    293\u001b[0m \u001b[38;5;28;01mif\u001b[39;00m \u001b[38;5;129;01mnot\u001b[39;00m study\u001b[38;5;241m.\u001b[39m_is_multi_objective():\n\u001b[0;32m    294\u001b[0m     best_trial \u001b[38;5;241m=\u001b[39m study\u001b[38;5;241m.\u001b[39mbest_trial\n",
      "File \u001b[1;32mc:\\Users\\MSI_PC\\anaconda3\\envs\\proyek_nlp\\lib\\site-packages\\optuna\\study\\study.py:490\u001b[0m, in \u001b[0;36mStudy.optimize\u001b[1;34m(self, func, n_trials, timeout, n_jobs, catch, callbacks, gc_after_trial, show_progress_bar)\u001b[0m\n\u001b[0;32m    388\u001b[0m \u001b[38;5;28;01mdef\u001b[39;00m\u001b[38;5;250m \u001b[39m\u001b[38;5;21moptimize\u001b[39m(\n\u001b[0;32m    389\u001b[0m     \u001b[38;5;28mself\u001b[39m,\n\u001b[0;32m    390\u001b[0m     func: ObjectiveFuncType,\n\u001b[1;32m   (...)\u001b[0m\n\u001b[0;32m    397\u001b[0m     show_progress_bar: \u001b[38;5;28mbool\u001b[39m \u001b[38;5;241m=\u001b[39m \u001b[38;5;28;01mFalse\u001b[39;00m,\n\u001b[0;32m    398\u001b[0m ) \u001b[38;5;241m-\u001b[39m\u001b[38;5;241m>\u001b[39m \u001b[38;5;28;01mNone\u001b[39;00m:\n\u001b[0;32m    399\u001b[0m \u001b[38;5;250m    \u001b[39m\u001b[38;5;124;03m\"\"\"Optimize an objective function.\u001b[39;00m\n\u001b[0;32m    400\u001b[0m \n\u001b[0;32m    401\u001b[0m \u001b[38;5;124;03m    Optimization is done by choosing a suitable set of hyperparameter values from a given\u001b[39;00m\n\u001b[1;32m   (...)\u001b[0m\n\u001b[0;32m    488\u001b[0m \u001b[38;5;124;03m            If nested invocation of this method occurs.\u001b[39;00m\n\u001b[0;32m    489\u001b[0m \u001b[38;5;124;03m    \"\"\"\u001b[39;00m\n\u001b[1;32m--> 490\u001b[0m     \u001b[43m_optimize\u001b[49m\u001b[43m(\u001b[49m\n\u001b[0;32m    491\u001b[0m \u001b[43m        \u001b[49m\u001b[43mstudy\u001b[49m\u001b[38;5;241;43m=\u001b[39;49m\u001b[38;5;28;43mself\u001b[39;49m\u001b[43m,\u001b[49m\n\u001b[0;32m    492\u001b[0m \u001b[43m        \u001b[49m\u001b[43mfunc\u001b[49m\u001b[38;5;241;43m=\u001b[39;49m\u001b[43mfunc\u001b[49m\u001b[43m,\u001b[49m\n\u001b[0;32m    493\u001b[0m \u001b[43m        \u001b[49m\u001b[43mn_trials\u001b[49m\u001b[38;5;241;43m=\u001b[39;49m\u001b[43mn_trials\u001b[49m\u001b[43m,\u001b[49m\n\u001b[0;32m    494\u001b[0m \u001b[43m        \u001b[49m\u001b[43mtimeout\u001b[49m\u001b[38;5;241;43m=\u001b[39;49m\u001b[43mtimeout\u001b[49m\u001b[43m,\u001b[49m\n\u001b[0;32m    495\u001b[0m \u001b[43m        \u001b[49m\u001b[43mn_jobs\u001b[49m\u001b[38;5;241;43m=\u001b[39;49m\u001b[43mn_jobs\u001b[49m\u001b[43m,\u001b[49m\n\u001b[0;32m    496\u001b[0m \u001b[43m        \u001b[49m\u001b[43mcatch\u001b[49m\u001b[38;5;241;43m=\u001b[39;49m\u001b[38;5;28;43mtuple\u001b[39;49m\u001b[43m(\u001b[49m\u001b[43mcatch\u001b[49m\u001b[43m)\u001b[49m\u001b[43m \u001b[49m\u001b[38;5;28;43;01mif\u001b[39;49;00m\u001b[43m \u001b[49m\u001b[38;5;28;43misinstance\u001b[39;49m\u001b[43m(\u001b[49m\u001b[43mcatch\u001b[49m\u001b[43m,\u001b[49m\u001b[43m \u001b[49m\u001b[43mIterable\u001b[49m\u001b[43m)\u001b[49m\u001b[43m \u001b[49m\u001b[38;5;28;43;01melse\u001b[39;49;00m\u001b[43m \u001b[49m\u001b[43m(\u001b[49m\u001b[43mcatch\u001b[49m\u001b[43m,\u001b[49m\u001b[43m)\u001b[49m\u001b[43m,\u001b[49m\n\u001b[0;32m    497\u001b[0m \u001b[43m        \u001b[49m\u001b[43mcallbacks\u001b[49m\u001b[38;5;241;43m=\u001b[39;49m\u001b[43mcallbacks\u001b[49m\u001b[43m,\u001b[49m\n\u001b[0;32m    498\u001b[0m \u001b[43m        \u001b[49m\u001b[43mgc_after_trial\u001b[49m\u001b[38;5;241;43m=\u001b[39;49m\u001b[43mgc_after_trial\u001b[49m\u001b[43m,\u001b[49m\n\u001b[0;32m    499\u001b[0m \u001b[43m        \u001b[49m\u001b[43mshow_progress_bar\u001b[49m\u001b[38;5;241;43m=\u001b[39;49m\u001b[43mshow_progress_bar\u001b[49m\u001b[43m,\u001b[49m\n\u001b[0;32m    500\u001b[0m \u001b[43m    \u001b[49m\u001b[43m)\u001b[49m\n",
      "File \u001b[1;32mc:\\Users\\MSI_PC\\anaconda3\\envs\\proyek_nlp\\lib\\site-packages\\optuna\\study\\_optimize.py:63\u001b[0m, in \u001b[0;36m_optimize\u001b[1;34m(study, func, n_trials, timeout, n_jobs, catch, callbacks, gc_after_trial, show_progress_bar)\u001b[0m\n\u001b[0;32m     61\u001b[0m \u001b[38;5;28;01mtry\u001b[39;00m:\n\u001b[0;32m     62\u001b[0m     \u001b[38;5;28;01mif\u001b[39;00m n_jobs \u001b[38;5;241m==\u001b[39m \u001b[38;5;241m1\u001b[39m:\n\u001b[1;32m---> 63\u001b[0m         \u001b[43m_optimize_sequential\u001b[49m\u001b[43m(\u001b[49m\n\u001b[0;32m     64\u001b[0m \u001b[43m            \u001b[49m\u001b[43mstudy\u001b[49m\u001b[43m,\u001b[49m\n\u001b[0;32m     65\u001b[0m \u001b[43m            \u001b[49m\u001b[43mfunc\u001b[49m\u001b[43m,\u001b[49m\n\u001b[0;32m     66\u001b[0m \u001b[43m            \u001b[49m\u001b[43mn_trials\u001b[49m\u001b[43m,\u001b[49m\n\u001b[0;32m     67\u001b[0m \u001b[43m            \u001b[49m\u001b[43mtimeout\u001b[49m\u001b[43m,\u001b[49m\n\u001b[0;32m     68\u001b[0m \u001b[43m            \u001b[49m\u001b[43mcatch\u001b[49m\u001b[43m,\u001b[49m\n\u001b[0;32m     69\u001b[0m \u001b[43m            \u001b[49m\u001b[43mcallbacks\u001b[49m\u001b[43m,\u001b[49m\n\u001b[0;32m     70\u001b[0m \u001b[43m            \u001b[49m\u001b[43mgc_after_trial\u001b[49m\u001b[43m,\u001b[49m\n\u001b[0;32m     71\u001b[0m \u001b[43m            \u001b[49m\u001b[43mreseed_sampler_rng\u001b[49m\u001b[38;5;241;43m=\u001b[39;49m\u001b[38;5;28;43;01mFalse\u001b[39;49;00m\u001b[43m,\u001b[49m\n\u001b[0;32m     72\u001b[0m \u001b[43m            \u001b[49m\u001b[43mtime_start\u001b[49m\u001b[38;5;241;43m=\u001b[39;49m\u001b[38;5;28;43;01mNone\u001b[39;49;00m\u001b[43m,\u001b[49m\n\u001b[0;32m     73\u001b[0m \u001b[43m            \u001b[49m\u001b[43mprogress_bar\u001b[49m\u001b[38;5;241;43m=\u001b[39;49m\u001b[43mprogress_bar\u001b[49m\u001b[43m,\u001b[49m\n\u001b[0;32m     74\u001b[0m \u001b[43m        \u001b[49m\u001b[43m)\u001b[49m\n\u001b[0;32m     75\u001b[0m     \u001b[38;5;28;01melse\u001b[39;00m:\n\u001b[0;32m     76\u001b[0m         \u001b[38;5;28;01mif\u001b[39;00m n_jobs \u001b[38;5;241m==\u001b[39m \u001b[38;5;241m-\u001b[39m\u001b[38;5;241m1\u001b[39m:\n",
      "File \u001b[1;32mc:\\Users\\MSI_PC\\anaconda3\\envs\\proyek_nlp\\lib\\site-packages\\optuna\\study\\_optimize.py:160\u001b[0m, in \u001b[0;36m_optimize_sequential\u001b[1;34m(study, func, n_trials, timeout, catch, callbacks, gc_after_trial, reseed_sampler_rng, time_start, progress_bar)\u001b[0m\n\u001b[0;32m    157\u001b[0m         \u001b[38;5;28;01mbreak\u001b[39;00m\n\u001b[0;32m    159\u001b[0m \u001b[38;5;28;01mtry\u001b[39;00m:\n\u001b[1;32m--> 160\u001b[0m     frozen_trial_id \u001b[38;5;241m=\u001b[39m \u001b[43m_run_trial\u001b[49m\u001b[43m(\u001b[49m\u001b[43mstudy\u001b[49m\u001b[43m,\u001b[49m\u001b[43m \u001b[49m\u001b[43mfunc\u001b[49m\u001b[43m,\u001b[49m\u001b[43m \u001b[49m\u001b[43mcatch\u001b[49m\u001b[43m)\u001b[49m\n\u001b[0;32m    161\u001b[0m \u001b[38;5;28;01mfinally\u001b[39;00m:\n\u001b[0;32m    162\u001b[0m     \u001b[38;5;66;03m# The following line mitigates memory problems that can be occurred in some\u001b[39;00m\n\u001b[0;32m    163\u001b[0m     \u001b[38;5;66;03m# environments (e.g., services that use computing containers such as GitHub Actions).\u001b[39;00m\n\u001b[0;32m    164\u001b[0m     \u001b[38;5;66;03m# Please refer to the following PR for further details:\u001b[39;00m\n\u001b[0;32m    165\u001b[0m     \u001b[38;5;66;03m# https://github.com/optuna/optuna/pull/325.\u001b[39;00m\n\u001b[0;32m    166\u001b[0m     \u001b[38;5;28;01mif\u001b[39;00m gc_after_trial:\n",
      "File \u001b[1;32mc:\\Users\\MSI_PC\\anaconda3\\envs\\proyek_nlp\\lib\\site-packages\\optuna\\study\\_optimize.py:258\u001b[0m, in \u001b[0;36m_run_trial\u001b[1;34m(study, func, catch)\u001b[0m\n\u001b[0;32m    251\u001b[0m         \u001b[38;5;28;01massert\u001b[39;00m \u001b[38;5;28;01mFalse\u001b[39;00m, \u001b[38;5;124m\"\u001b[39m\u001b[38;5;124mShould not reach.\u001b[39m\u001b[38;5;124m\"\u001b[39m\n\u001b[0;32m    253\u001b[0m \u001b[38;5;28;01mif\u001b[39;00m (\n\u001b[0;32m    254\u001b[0m     updated_state \u001b[38;5;241m==\u001b[39m TrialState\u001b[38;5;241m.\u001b[39mFAIL\n\u001b[0;32m    255\u001b[0m     \u001b[38;5;129;01mand\u001b[39;00m func_err \u001b[38;5;129;01mis\u001b[39;00m \u001b[38;5;129;01mnot\u001b[39;00m \u001b[38;5;28;01mNone\u001b[39;00m\n\u001b[0;32m    256\u001b[0m     \u001b[38;5;129;01mand\u001b[39;00m \u001b[38;5;129;01mnot\u001b[39;00m \u001b[38;5;28misinstance\u001b[39m(func_err, catch)\n\u001b[0;32m    257\u001b[0m ):\n\u001b[1;32m--> 258\u001b[0m     \u001b[38;5;28;01mraise\u001b[39;00m func_err\n\u001b[0;32m    259\u001b[0m \u001b[38;5;28;01mreturn\u001b[39;00m trial\u001b[38;5;241m.\u001b[39m_trial_id\n",
      "File \u001b[1;32mc:\\Users\\MSI_PC\\anaconda3\\envs\\proyek_nlp\\lib\\site-packages\\optuna\\study\\_optimize.py:201\u001b[0m, in \u001b[0;36m_run_trial\u001b[1;34m(study, func, catch)\u001b[0m\n\u001b[0;32m    199\u001b[0m \u001b[38;5;28;01mwith\u001b[39;00m get_heartbeat_thread(trial\u001b[38;5;241m.\u001b[39m_trial_id, study\u001b[38;5;241m.\u001b[39m_storage):\n\u001b[0;32m    200\u001b[0m     \u001b[38;5;28;01mtry\u001b[39;00m:\n\u001b[1;32m--> 201\u001b[0m         value_or_values \u001b[38;5;241m=\u001b[39m \u001b[43mfunc\u001b[49m\u001b[43m(\u001b[49m\u001b[43mtrial\u001b[49m\u001b[43m)\u001b[49m\n\u001b[0;32m    202\u001b[0m     \u001b[38;5;28;01mexcept\u001b[39;00m exceptions\u001b[38;5;241m.\u001b[39mTrialPruned \u001b[38;5;28;01mas\u001b[39;00m e:\n\u001b[0;32m    203\u001b[0m         \u001b[38;5;66;03m# TODO(mamu): Handle multi-objective cases.\u001b[39;00m\n\u001b[0;32m    204\u001b[0m         state \u001b[38;5;241m=\u001b[39m TrialState\u001b[38;5;241m.\u001b[39mPRUNED\n",
      "File \u001b[1;32mc:\\Users\\MSI_PC\\anaconda3\\envs\\proyek_nlp\\lib\\site-packages\\transformers\\integrations\\integration_utils.py:274\u001b[0m, in \u001b[0;36mrun_hp_search_optuna.<locals>._objective\u001b[1;34m(trial, checkpoint_dir)\u001b[0m\n\u001b[0;32m    272\u001b[0m     trainer\u001b[38;5;241m.\u001b[39mtrain(resume_from_checkpoint\u001b[38;5;241m=\u001b[39mcheckpoint, trial\u001b[38;5;241m=\u001b[39mtrial)\n\u001b[0;32m    273\u001b[0m \u001b[38;5;28;01melse\u001b[39;00m:\n\u001b[1;32m--> 274\u001b[0m     \u001b[43mtrainer\u001b[49m\u001b[38;5;241;43m.\u001b[39;49m\u001b[43mtrain\u001b[49m\u001b[43m(\u001b[49m\u001b[43mresume_from_checkpoint\u001b[49m\u001b[38;5;241;43m=\u001b[39;49m\u001b[43mcheckpoint\u001b[49m\u001b[43m,\u001b[49m\u001b[43m \u001b[49m\u001b[43mtrial\u001b[49m\u001b[38;5;241;43m=\u001b[39;49m\u001b[43mtrial\u001b[49m\u001b[43m)\u001b[49m\n\u001b[0;32m    275\u001b[0m \u001b[38;5;66;03m# If there hasn't been any evaluation during the training loop.\u001b[39;00m\n\u001b[0;32m    276\u001b[0m \u001b[38;5;28;01mif\u001b[39;00m \u001b[38;5;28mgetattr\u001b[39m(trainer, \u001b[38;5;124m\"\u001b[39m\u001b[38;5;124mobjective\u001b[39m\u001b[38;5;124m\"\u001b[39m, \u001b[38;5;28;01mNone\u001b[39;00m) \u001b[38;5;129;01mis\u001b[39;00m \u001b[38;5;28;01mNone\u001b[39;00m:\n",
      "File \u001b[1;32mc:\\Users\\MSI_PC\\anaconda3\\envs\\proyek_nlp\\lib\\site-packages\\transformers\\trainer.py:2238\u001b[0m, in \u001b[0;36mTrainer.train\u001b[1;34m(self, resume_from_checkpoint, trial, ignore_keys_for_eval, **kwargs)\u001b[0m\n\u001b[0;32m   2236\u001b[0m         hf_hub_utils\u001b[38;5;241m.\u001b[39menable_progress_bars()\n\u001b[0;32m   2237\u001b[0m \u001b[38;5;28;01melse\u001b[39;00m:\n\u001b[1;32m-> 2238\u001b[0m     \u001b[38;5;28;01mreturn\u001b[39;00m \u001b[43minner_training_loop\u001b[49m\u001b[43m(\u001b[49m\n\u001b[0;32m   2239\u001b[0m \u001b[43m        \u001b[49m\u001b[43margs\u001b[49m\u001b[38;5;241;43m=\u001b[39;49m\u001b[43margs\u001b[49m\u001b[43m,\u001b[49m\n\u001b[0;32m   2240\u001b[0m \u001b[43m        \u001b[49m\u001b[43mresume_from_checkpoint\u001b[49m\u001b[38;5;241;43m=\u001b[39;49m\u001b[43mresume_from_checkpoint\u001b[49m\u001b[43m,\u001b[49m\n\u001b[0;32m   2241\u001b[0m \u001b[43m        \u001b[49m\u001b[43mtrial\u001b[49m\u001b[38;5;241;43m=\u001b[39;49m\u001b[43mtrial\u001b[49m\u001b[43m,\u001b[49m\n\u001b[0;32m   2242\u001b[0m \u001b[43m        \u001b[49m\u001b[43mignore_keys_for_eval\u001b[49m\u001b[38;5;241;43m=\u001b[39;49m\u001b[43mignore_keys_for_eval\u001b[49m\u001b[43m,\u001b[49m\n\u001b[0;32m   2243\u001b[0m \u001b[43m    \u001b[49m\u001b[43m)\u001b[49m\n",
      "File \u001b[1;32mc:\\Users\\MSI_PC\\anaconda3\\envs\\proyek_nlp\\lib\\site-packages\\transformers\\trainer.py:2582\u001b[0m, in \u001b[0;36mTrainer._inner_training_loop\u001b[1;34m(self, batch_size, args, resume_from_checkpoint, trial, ignore_keys_for_eval)\u001b[0m\n\u001b[0;32m   2575\u001b[0m context \u001b[38;5;241m=\u001b[39m (\n\u001b[0;32m   2576\u001b[0m     functools\u001b[38;5;241m.\u001b[39mpartial(\u001b[38;5;28mself\u001b[39m\u001b[38;5;241m.\u001b[39maccelerator\u001b[38;5;241m.\u001b[39mno_sync, model\u001b[38;5;241m=\u001b[39mmodel)\n\u001b[0;32m   2577\u001b[0m     \u001b[38;5;28;01mif\u001b[39;00m i \u001b[38;5;241m!=\u001b[39m \u001b[38;5;28mlen\u001b[39m(batch_samples) \u001b[38;5;241m-\u001b[39m \u001b[38;5;241m1\u001b[39m\n\u001b[0;32m   2578\u001b[0m     \u001b[38;5;129;01mand\u001b[39;00m \u001b[38;5;28mself\u001b[39m\u001b[38;5;241m.\u001b[39maccelerator\u001b[38;5;241m.\u001b[39mdistributed_type \u001b[38;5;241m!=\u001b[39m DistributedType\u001b[38;5;241m.\u001b[39mDEEPSPEED\n\u001b[0;32m   2579\u001b[0m     \u001b[38;5;28;01melse\u001b[39;00m contextlib\u001b[38;5;241m.\u001b[39mnullcontext\n\u001b[0;32m   2580\u001b[0m )\n\u001b[0;32m   2581\u001b[0m \u001b[38;5;28;01mwith\u001b[39;00m context():\n\u001b[1;32m-> 2582\u001b[0m     tr_loss_step \u001b[38;5;241m=\u001b[39m \u001b[38;5;28;43mself\u001b[39;49m\u001b[38;5;241;43m.\u001b[39;49m\u001b[43mtraining_step\u001b[49m\u001b[43m(\u001b[49m\u001b[43mmodel\u001b[49m\u001b[43m,\u001b[49m\u001b[43m \u001b[49m\u001b[43minputs\u001b[49m\u001b[43m,\u001b[49m\u001b[43m \u001b[49m\u001b[43mnum_items_in_batch\u001b[49m\u001b[43m)\u001b[49m\n\u001b[0;32m   2584\u001b[0m \u001b[38;5;28;01mif\u001b[39;00m (\n\u001b[0;32m   2585\u001b[0m     args\u001b[38;5;241m.\u001b[39mlogging_nan_inf_filter\n\u001b[0;32m   2586\u001b[0m     \u001b[38;5;129;01mand\u001b[39;00m \u001b[38;5;129;01mnot\u001b[39;00m is_torch_xla_available()\n\u001b[0;32m   2587\u001b[0m     \u001b[38;5;129;01mand\u001b[39;00m (torch\u001b[38;5;241m.\u001b[39misnan(tr_loss_step) \u001b[38;5;129;01mor\u001b[39;00m torch\u001b[38;5;241m.\u001b[39misinf(tr_loss_step))\n\u001b[0;32m   2588\u001b[0m ):\n\u001b[0;32m   2589\u001b[0m     \u001b[38;5;66;03m# if loss is nan or inf simply add the average of previous logged losses\u001b[39;00m\n\u001b[0;32m   2590\u001b[0m     tr_loss \u001b[38;5;241m=\u001b[39m tr_loss \u001b[38;5;241m+\u001b[39m tr_loss \u001b[38;5;241m/\u001b[39m (\u001b[38;5;241m1\u001b[39m \u001b[38;5;241m+\u001b[39m \u001b[38;5;28mself\u001b[39m\u001b[38;5;241m.\u001b[39mstate\u001b[38;5;241m.\u001b[39mglobal_step \u001b[38;5;241m-\u001b[39m \u001b[38;5;28mself\u001b[39m\u001b[38;5;241m.\u001b[39m_globalstep_last_logged)\n",
      "File \u001b[1;32mc:\\Users\\MSI_PC\\anaconda3\\envs\\proyek_nlp\\lib\\site-packages\\transformers\\trainer.py:3845\u001b[0m, in \u001b[0;36mTrainer.training_step\u001b[1;34m(***failed resolving arguments***)\u001b[0m\n\u001b[0;32m   3842\u001b[0m \u001b[38;5;28;01mif\u001b[39;00m \u001b[38;5;28mself\u001b[39m\u001b[38;5;241m.\u001b[39maccelerator\u001b[38;5;241m.\u001b[39mdistributed_type \u001b[38;5;241m==\u001b[39m DistributedType\u001b[38;5;241m.\u001b[39mDEEPSPEED:\n\u001b[0;32m   3843\u001b[0m     kwargs[\u001b[38;5;124m\"\u001b[39m\u001b[38;5;124mscale_wrt_gas\u001b[39m\u001b[38;5;124m\"\u001b[39m] \u001b[38;5;241m=\u001b[39m \u001b[38;5;28;01mFalse\u001b[39;00m\n\u001b[1;32m-> 3845\u001b[0m \u001b[38;5;28mself\u001b[39m\u001b[38;5;241m.\u001b[39maccelerator\u001b[38;5;241m.\u001b[39mbackward(loss, \u001b[38;5;241m*\u001b[39m\u001b[38;5;241m*\u001b[39mkwargs)\n\u001b[0;32m   3847\u001b[0m \u001b[38;5;28;01mreturn\u001b[39;00m loss\u001b[38;5;241m.\u001b[39mdetach()\n",
      "File \u001b[1;32mc:\\Users\\MSI_PC\\anaconda3\\envs\\proyek_nlp\\lib\\site-packages\\accelerate\\accelerator.py:2734\u001b[0m, in \u001b[0;36mAccelerator.backward\u001b[1;34m(self, loss, **kwargs)\u001b[0m\n\u001b[0;32m   2732\u001b[0m     \u001b[38;5;28mself\u001b[39m\u001b[38;5;241m.\u001b[39mlomo_backward(loss, learning_rate)\n\u001b[0;32m   2733\u001b[0m \u001b[38;5;28;01melse\u001b[39;00m:\n\u001b[1;32m-> 2734\u001b[0m     loss\u001b[38;5;241m.\u001b[39mbackward(\u001b[38;5;241m*\u001b[39m\u001b[38;5;241m*\u001b[39mkwargs)\n",
      "File \u001b[1;32mc:\\Users\\MSI_PC\\anaconda3\\envs\\proyek_nlp\\lib\\site-packages\\torch\\_tensor.py:647\u001b[0m, in \u001b[0;36mTensor.backward\u001b[1;34m(self, gradient, retain_graph, create_graph, inputs)\u001b[0m\n\u001b[0;32m    637\u001b[0m \u001b[38;5;28;01mif\u001b[39;00m has_torch_function_unary(\u001b[38;5;28mself\u001b[39m):\n\u001b[0;32m    638\u001b[0m     \u001b[38;5;28;01mreturn\u001b[39;00m handle_torch_function(\n\u001b[0;32m    639\u001b[0m         Tensor\u001b[38;5;241m.\u001b[39mbackward,\n\u001b[0;32m    640\u001b[0m         (\u001b[38;5;28mself\u001b[39m,),\n\u001b[1;32m   (...)\u001b[0m\n\u001b[0;32m    645\u001b[0m         inputs\u001b[38;5;241m=\u001b[39minputs,\n\u001b[0;32m    646\u001b[0m     )\n\u001b[1;32m--> 647\u001b[0m \u001b[43mtorch\u001b[49m\u001b[38;5;241;43m.\u001b[39;49m\u001b[43mautograd\u001b[49m\u001b[38;5;241;43m.\u001b[39;49m\u001b[43mbackward\u001b[49m\u001b[43m(\u001b[49m\n\u001b[0;32m    648\u001b[0m \u001b[43m    \u001b[49m\u001b[38;5;28;43mself\u001b[39;49m\u001b[43m,\u001b[49m\u001b[43m \u001b[49m\u001b[43mgradient\u001b[49m\u001b[43m,\u001b[49m\u001b[43m \u001b[49m\u001b[43mretain_graph\u001b[49m\u001b[43m,\u001b[49m\u001b[43m \u001b[49m\u001b[43mcreate_graph\u001b[49m\u001b[43m,\u001b[49m\u001b[43m \u001b[49m\u001b[43minputs\u001b[49m\u001b[38;5;241;43m=\u001b[39;49m\u001b[43minputs\u001b[49m\n\u001b[0;32m    649\u001b[0m \u001b[43m\u001b[49m\u001b[43m)\u001b[49m\n",
      "File \u001b[1;32mc:\\Users\\MSI_PC\\anaconda3\\envs\\proyek_nlp\\lib\\site-packages\\torch\\autograd\\__init__.py:354\u001b[0m, in \u001b[0;36mbackward\u001b[1;34m(tensors, grad_tensors, retain_graph, create_graph, grad_variables, inputs)\u001b[0m\n\u001b[0;32m    349\u001b[0m     retain_graph \u001b[38;5;241m=\u001b[39m create_graph\n\u001b[0;32m    351\u001b[0m \u001b[38;5;66;03m# The reason we repeat the same comment below is that\u001b[39;00m\n\u001b[0;32m    352\u001b[0m \u001b[38;5;66;03m# some Python versions print out the first line of a multi-line function\u001b[39;00m\n\u001b[0;32m    353\u001b[0m \u001b[38;5;66;03m# calls in the traceback and some print out the last line\u001b[39;00m\n\u001b[1;32m--> 354\u001b[0m \u001b[43m_engine_run_backward\u001b[49m\u001b[43m(\u001b[49m\n\u001b[0;32m    355\u001b[0m \u001b[43m    \u001b[49m\u001b[43mtensors\u001b[49m\u001b[43m,\u001b[49m\n\u001b[0;32m    356\u001b[0m \u001b[43m    \u001b[49m\u001b[43mgrad_tensors_\u001b[49m\u001b[43m,\u001b[49m\n\u001b[0;32m    357\u001b[0m \u001b[43m    \u001b[49m\u001b[43mretain_graph\u001b[49m\u001b[43m,\u001b[49m\n\u001b[0;32m    358\u001b[0m \u001b[43m    \u001b[49m\u001b[43mcreate_graph\u001b[49m\u001b[43m,\u001b[49m\n\u001b[0;32m    359\u001b[0m \u001b[43m    \u001b[49m\u001b[43minputs_tuple\u001b[49m\u001b[43m,\u001b[49m\n\u001b[0;32m    360\u001b[0m \u001b[43m    \u001b[49m\u001b[43mallow_unreachable\u001b[49m\u001b[38;5;241;43m=\u001b[39;49m\u001b[38;5;28;43;01mTrue\u001b[39;49;00m\u001b[43m,\u001b[49m\n\u001b[0;32m    361\u001b[0m \u001b[43m    \u001b[49m\u001b[43maccumulate_grad\u001b[49m\u001b[38;5;241;43m=\u001b[39;49m\u001b[38;5;28;43;01mTrue\u001b[39;49;00m\u001b[43m,\u001b[49m\n\u001b[0;32m    362\u001b[0m \u001b[43m\u001b[49m\u001b[43m)\u001b[49m\n",
      "File \u001b[1;32mc:\\Users\\MSI_PC\\anaconda3\\envs\\proyek_nlp\\lib\\site-packages\\torch\\autograd\\graph.py:829\u001b[0m, in \u001b[0;36m_engine_run_backward\u001b[1;34m(t_outputs, *args, **kwargs)\u001b[0m\n\u001b[0;32m    827\u001b[0m     unregister_hooks \u001b[38;5;241m=\u001b[39m _register_logging_hooks_on_whole_graph(t_outputs)\n\u001b[0;32m    828\u001b[0m \u001b[38;5;28;01mtry\u001b[39;00m:\n\u001b[1;32m--> 829\u001b[0m     \u001b[38;5;28;01mreturn\u001b[39;00m Variable\u001b[38;5;241m.\u001b[39m_execution_engine\u001b[38;5;241m.\u001b[39mrun_backward(  \u001b[38;5;66;03m# Calls into the C++ engine to run the backward pass\u001b[39;00m\n\u001b[0;32m    830\u001b[0m         t_outputs, \u001b[38;5;241m*\u001b[39margs, \u001b[38;5;241m*\u001b[39m\u001b[38;5;241m*\u001b[39mkwargs\n\u001b[0;32m    831\u001b[0m     )  \u001b[38;5;66;03m# Calls into the C++ engine to run the backward pass\u001b[39;00m\n\u001b[0;32m    832\u001b[0m \u001b[38;5;28;01mfinally\u001b[39;00m:\n\u001b[0;32m    833\u001b[0m     \u001b[38;5;28;01mif\u001b[39;00m attach_logging_hooks:\n",
      "\u001b[1;31mKeyboardInterrupt\u001b[0m: "
     ]
    }
   ],
   "source": [
    "best_trial = trainer.hyperparameter_search(\n",
    "    direction=\"maximize\",\n",
    "    backend=\"optuna\",\n",
    "    hp_space=optuna_hp_space,\n",
    "    n_trials=10,  # bisa ditambah agar hasil lebih optimal\n",
    ")\n",
    "\n",
    "print(\"Best trial:\", best_trial)"
   ]
  },
  {
   "cell_type": "code",
   "execution_count": null,
   "id": "9d7ab3ce",
   "metadata": {},
   "outputs": [],
   "source": [
    "best_params = best_trial.hyperparameters\n",
    "training_args = TrainingArguments(\n",
    "    output_dir=\"./results_best\",\n",
    "    eval_strategy=\"epoch\",\n",
    "    save_strategy=\"epoch\",\n",
    "    learning_rate=best_params[\"learning_rate\"],\n",
    "    per_device_train_batch_size=best_params[\"per_device_train_batch_size\"],\n",
    "    per_device_eval_batch_size=best_params[\"per_device_train_batch_size\"],\n",
    "    num_train_epochs=best_params[\"num_train_epochs\"],\n",
    "    warmup_ratio=best_params[\"warmup_ratio\"],\n",
    "    weight_decay=best_params[\"weight_decay\"],\n",
    "    load_best_model_at_end=True,\n",
    "    metric_for_best_model=\"balanced_accuracy\",\n",
    ")\n",
    "\n",
    "trainer = Trainer(\n",
    "    model_init=model_init,\n",
    "    args=training_args,\n",
    "    train_dataset=train_dataset,\n",
    "    eval_dataset=val_dataset,\n",
    "    tokenizer=tokenizer,\n",
    "    compute_metrics=compute_metrics,\n",
    ")"
   ]
  },
  {
   "cell_type": "code",
   "execution_count": null,
   "id": "146c0532",
   "metadata": {},
   "outputs": [],
   "source": [
    "trainer.train()"
   ]
  },
  {
   "cell_type": "code",
   "execution_count": null,
   "id": "b82274e3",
   "metadata": {},
   "outputs": [],
   "source": [
    "preds = trainer.predict(test)\n",
    "final_preds = np.argmax(preds.predictions, axis=-1)\n",
    "test[\"label\"] = le.inverse_transform(final_preds)\n",
    "\n",
    "test[[\"id\", \"label\"]].to_csv(\"submission_15.csv\", index=False)\n"
   ]
  }
 ],
 "metadata": {
  "kernelspec": {
   "display_name": "proyek_nlp",
   "language": "python",
   "name": "python3"
  },
  "language_info": {
   "codemirror_mode": {
    "name": "ipython",
    "version": 3
   },
   "file_extension": ".py",
   "mimetype": "text/x-python",
   "name": "python",
   "nbconvert_exporter": "python",
   "pygments_lexer": "ipython3",
   "version": "3.9.23"
  }
 },
 "nbformat": 4,
 "nbformat_minor": 5
}
